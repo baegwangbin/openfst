{
 "cells": [
  {
   "cell_type": "markdown",
   "metadata": {},
   "source": [
    "# Grammatical Error Correction\n",
    "\n",
    "This project is part of the assessment for the course **MLMI3: Probabilistic Automata**, taught by **Prof. Bill Byrne**, in **University of Cambridge**.\n",
    "\n",
    "This project is based on the following paper\n",
    "\n",
    ">[Language Model Based Grammatical Error Correction without Annotated Training Data, C Bryant and T Briscoe, \n",
    "Thirteenth Workshop on Innovative Use of NLP for Building Educational Applications, June 2018.]( https://aclweb.org/anthology/W18-0529)\n",
    "\n",
    "This notebook aims to provide the explanations on the steps I took in order to complete this project.\n",
    "\n",
    "----\n",
    "\n",
    "# Table of Contents\n",
    "\n",
    ">## 1. Preparation\n",
    "* **1.1. Necessary Modules**\n",
    "* **1.2. Data**\n",
    "* **1.3. Scoring Method**\n",
    "\n",
    ">## 2. Method\n",
    "* **2.1. Edit Transducer**\n",
    "  * 2.1.1. Objective\n",
    "  * 2.1.2. Code\n",
    "  * 2.1.3. Example of Usage\n",
    "* **2.2. LMMap Vocabulary Transducer**\n",
    "  * 2.2.1. Objective\n",
    "  * 2.2.2. Code\n",
    "  * 2.2.3. Example of Usage\n",
    "* **2.3. N-Gram Language Model**\n",
    "  * 2.3.1. Objective\n",
    "  * 2.3.2. Code - Construction of LM\n",
    "  * 2.3.3. Code - Application of LM\n",
    "  * 2.3.4. Example of Usage\n",
    "* **2.4. Edit Penalty**\n",
    "  * 2.4.1. Objective\n",
    "  * 2.4.2. Code\n",
    "  * 2.4.3. Example of Usage\n",
    "* **2.5. Hypotheses and Evaluation**\n",
    "  * 2.5.1. Objective\n",
    "  * 2.5.2. Code\n",
    "  * 2.5.3. Example of Usage\n",
    "\n",
    ">## 3. Experiments\n",
    "* **3.1. Effect of Determinization and Minimization on the Processing Time**\n",
    "  * 3.1.1. Method\n",
    "  * 3.1.2. Experiment & Results\n",
    "  * 3.1.3. Discussion\n",
    "* **3.2. Oracle Sentence Error Rate**\n",
    "  * 3.2.1. Method\n",
    "  * 3.2.2. Experiment & Results\n",
    "  * 3.3.3. Discussion\n",
    "* **3.3. Effect of N-Gram Order on GEC Performance**\n",
    "  * 3.3.1. Method\n",
    "  * 3.3.2. Experiment\n",
    "  * 3.3.3. Results\n",
    "  * 3.3.4. Discussion\n",
    "* **3.4. Effect of Edit Penalty on GEC Performance**\n",
    "  * 3.4.1. Method\n",
    "  * 3.4.2. Experiment\n",
    "  * 3.4.3. Results\n",
    "  * 3.4.4. Discussion\n",
    "\n",
    ">## 4. Extension - Character Neural Language Models\n",
    "* **4.1. Motivation**\n",
    "* **4.2. Method**\n",
    "  * 4.2.1. Word to Character Mappings\n",
    "  * 4.2.2. Training Data for Chracter-level Neural Language Model\n",
    "* **4.3. Experiment**\n",
    "  * 4.3.1. Edit Penalty Tuning\n",
    "  * 4.3.2. Data Preprocessing\n",
    "  * 4.3.3. Running the Experiments\n",
    "* **4.4. Results**\n",
    "\n",
    "----"
   ]
  },
  {
   "cell_type": "markdown",
   "metadata": {},
   "source": [
    "# 1. Preparation"
   ]
  },
  {
   "cell_type": "markdown",
   "metadata": {},
   "source": [
    "## 1.1. Necessary Modules"
   ]
  },
  {
   "cell_type": "code",
   "execution_count": 2,
   "metadata": {},
   "outputs": [],
   "source": [
    "import os\n",
    "import sys\n",
    "sys.path.append('/home/wjb31/src/openfst//openfst-1.6.8/INSTALL_DIR/lib/python2.7/site-packages/')\n",
    "sys.path.append('/home/wjb31/src/openfst//specializer-1.6.8/')\n",
    "sys.path.append('/home/wjb31/MLMI/util/python/')\n",
    "import pywrapfst as fst\n",
    "import specializer\n",
    "import math\n",
    "import string\n",
    "import utilfst\n",
    "import kenlm"
   ]
  },
  {
   "cell_type": "markdown",
   "metadata": {},
   "source": [
    "## 1.2. Data\n",
    "\n",
    "* **The data files were given in the following directory**\n",
    "\n",
    ">```\n",
    "DIR='/home/wjb31/MLMI/MLMI3/practical/lm-gec/'\n",
    "```\n",
    "\n",
    "* **4 datasets used in this practical**\n",
    "\n",
    ">|Dataset|No. of Sentences|Original Set|Correction Set(s)|\n",
    "|-|-|-|\n",
    "|`CONLL2013`|1381|`DIR/orig/conll2013.nltk.orig`<br/>|`DIR/cor/conll2013.0.nltk.cor`|\n",
    "|`CONLL2014`|1312|`DIR/orig/conll2013.nltk.orig`|`DIR/cor/conll2014.0.nltk.cor`<br/>`DIR/cor/conll2014.1.nltk.cor`|\n",
    "|`JFLEG_DEV`| 754|`DIR/orig/jfleg_dev.nltk.orig`|`DIR/cor/jfleg_dev.0.nltk.cor`<br/>`DIR/cor/jfleg_dev.1.nltk.cor`<br/>`DIR/cor/jfleg_dev.2.nltk.cor`<br/>`DIR/cor/jfleg_dev.3.nltk.cor`|\n",
    "|`JFLEG_TEST`|747|`DIR/orig/jfleg_test.nltk.orig`|`DIR/cor/jfleg_test.0.nltk.cor`<br/>`DIR/cor/jfleg_test.1.nltk.cor`<br/>`DIR/cor/jfleg_test.2.nltk.cor`<br/>`DIR/cor/jfleg_test.3.nltk.cor`|\n",
    "\n",
    "* **NOTE:** `CONLL2014.short`\n",
    "\n",
    ">* Omits overly long segments (333 through 335)\n",
    ">* In order to re-insert the omitted segments:\n",
    ">\n",
    ">```\n",
    "awk -f $DIR/replace.conll2014.332-335.awk $DIR/orig/conll2014.short.nltk.orig\n",
    "```\n",
    "\n",
    "* **Original sentences as FSA**\n",
    "\n",
    ">* The FSA representations of the sentences were given in `DIR/orig/fsts`\n",
    ">* In the given FSAs, the words are represented as integers. The corresponding symbol table was given in `DIR/wmap/devtest.wmap`"
   ]
  },
  {
   "cell_type": "code",
   "execution_count": 3,
   "metadata": {},
   "outputs": [],
   "source": [
    "# root directory for data files provided for this practical\n",
    "DIR='/home/wjb31/MLMI/MLMI3/practical/lm-gec/'\n",
    "\n",
    "# symbol table\n",
    "# the symbols can be looked up using: words_ST.find(t)\n",
    "words_ST=fst.SymbolTable.read_text(DIR+'wmap/devtest.wmap')"
   ]
  },
  {
   "cell_type": "code",
   "execution_count": 21,
   "metadata": {},
   "outputs": [
    {
     "name": "stdout",
     "output_type": "stream",
     "text": [
      "<epsilon> 0\r\n",
      "</s> 1\r\n",
      "<s> 2\r\n",
      "<unk> 3\r\n",
      "<corr> 4\r\n",
      "</corr> 5\r\n",
      "`` 6\r\n",
      "< 7\r\n",
      "= 8\r\n",
      "> 9\r\n"
     ]
    }
   ],
   "source": [
    "# wordmap is given as following\n",
    "# <s> & </s>: sentence start & end\n",
    "# <corr> & </corr>: correction tags\n",
    "# <unk>: unknown\n",
    "\n",
    "! head -10 $DIR/wmap/devtest.wmap"
   ]
  },
  {
   "cell_type": "code",
   "execution_count": 10,
   "metadata": {},
   "outputs": [
    {
     "name": "stdout",
     "output_type": "stream",
     "text": [
      "So I think we can not live if old people could not find siences and tecnologies and they did not developped . \n",
      "\n"
     ]
    }
   ],
   "source": [
    "# inspection of original sentence\n",
    "with open(DIR+'orig/jfleg_dev.nltk.orig') as f:\n",
    "    print f.readlines()[0]"
   ]
  },
  {
   "cell_type": "code",
   "execution_count": 11,
   "metadata": {},
   "outputs": [
    {
     "name": "stdout",
     "output_type": "stream",
     "text": [
      "So I think we would not be alive if our ancestors did not develop sciences and technologies .\r\n",
      "So I think we could not live if older people did not develop science and technologies .\r\n",
      "So I think we can not live if old people could not find science and technologies and they did not develop .\r\n",
      "So I think we can not live if old people can not find the science and technology that has not been developed .\r\n"
     ]
    }
   ],
   "source": [
    "# inspection of reference sentences\n",
    "! head -1q $DIR/cor/jfleg_dev.?.nltk.cor "
   ]
  },
  {
   "cell_type": "markdown",
   "metadata": {},
   "source": [
    "## 1.3. Scoring Method\n",
    "\n",
    "* **M2 Format**\n",
    "\n",
    ">* The corrected sentences were also given in the M2 format (in the directory `DIR/m2`). This format contains the information on **where** and **how** the edits were made. Following is an example.\n",
    ">```\n",
    "S In modern digital world , electronic products are widely used in daily lives such as Smart phones , computers and etc .\n",
    "A 1 1|||M:DET|||the|||REQUIRED|||-NONE-|||0\n",
    "A 12 13|||R:NOUN:NUM|||life|||REQUIRED|||-NONE-|||0\n",
    "A 15 16|||R:ORTH|||smart|||REQUIRED|||-NONE-|||0\n",
    "```\n",
    "\n",
    "* **M2 Scorer**\n",
    "\n",
    ">* The M2 scorer, provided in `DIR/m2scorer/m2scorer`, was used to measure the model performance. The M2 scorer compares the hypotheses set to the reference set(s) and returns the precision, recall, and the F-score ($F_{0.5}$). \n",
    ">* For example, the following command compares the hypotheses `conll2013.hypotheses.txt` to `DIR/m2/conll2013.auto.nltk.m2`\n",
    ">\n",
    ">```\n",
    "! $DIR/m2scorer/m2scorer $conll2013.hypotheses.txt $DIR/m2/conll2013.auto.nltk.m2 ```\n",
    "\n",
    "* **Scoring `conll2014` Dataset**\n",
    "\n",
    ">* As explained earlier, the omitted segments should be re-inserted before evaluation\n",
    ">\n",
    ">```\n",
    "! mkdir -p tmp/\n",
    "! awk -f $DIR/replace.conll2014.332-335.awk $conll2014.short.hypotheses.txt > conll2014.hypotheses.txt\n",
    "! $DIR/m2scorer/m2scorer conll2014.hypotheses.txt $DIR/m2/conll2014_2.auto.nltk.m2```"
   ]
  },
  {
   "cell_type": "markdown",
   "metadata": {},
   "source": [
    "# 2. Method"
   ]
  },
  {
   "cell_type": "markdown",
   "metadata": {},
   "source": [
    "## 2.1. Edit Transducer"
   ]
  },
  {
   "cell_type": "markdown",
   "metadata": {},
   "source": [
    "### 2.1.1. Objective\n",
    "\n",
    "* **Edit Options**\n",
    "\n",
    ">* Edit options are the word-by-word correction options for each word appearing in the dataset\n",
    ">* Simple error tags are given in `DIR/editoptions/`\n",
    ">* Typed error tags are given in `DIR/editoptions.tagged/`\n",
    ">* The edit transducer is built based on `DIR/editoptions/editoptions.devtest`"
   ]
  },
  {
   "cell_type": "code",
   "execution_count": 25,
   "metadata": {},
   "outputs": [
    {
     "name": "stdout",
     "output_type": "stream",
     "text": [
      "Then || <infl> then </infl> || <infl> thens </infl>\r\n",
      "there || <infl> theres </infl>\r\n",
      "comes || <infl> coming </infl> || <infl> came </infl> || <infl> come </infl>\r\n",
      "a || <det> an </det> || <det> the </det>\r\n",
      "problem || <infl> problems </infl>\r\n",
      ".\r\n"
     ]
    }
   ],
   "source": [
    "cat $DIR/editoptions.tagged/conll2013/1198.txt"
   ]
  },
  {
   "cell_type": "markdown",
   "metadata": {},
   "source": [
    "* **Edit Transducer**\n",
    "\n",
    ">* A flower transducer that maps each original word to itself & its tagged corrections (e.g. `Then` to `<corr> thens </corr>`)\n",
    "\n",
    "* **Objective**\n",
    "\n",
    ">* The edit transducer can be composed to the original sentence. \n",
    ">* The output projection of the resulting FSt would generate possible versions of the corrected sentence. \n",
    ">\n",
    ">$$ \\Pi_2(O_n  \\circ T_\\mbox{edit}) $$ "
   ]
  },
  {
   "cell_type": "markdown",
   "metadata": {},
   "source": [
    "### 2.1.2. Code"
   ]
  },
  {
   "cell_type": "code",
   "execution_count": 5,
   "metadata": {},
   "outputs": [],
   "source": [
    "# read edit options\n",
    "text_list = open(DIR+'/editoptions/editoptions.devtest').readlines()\n",
    "\n",
    "# the state number to be assigned to the next new state\n",
    "state_num = 1\n",
    "\n",
    "# the transducer is written into a text file\n",
    "with open('t_edit.txt', 'w') as t_edit:\n",
    "\n",
    "    # for each word, (7125: total number of the words)\n",
    "    for i in range(7125):\n",
    "        \n",
    "        # exclude the edit tags & only extract the edit options as a list\n",
    "        text = text_list[i][:-1].replace(' </corr>','').split(' || <corr> ')\n",
    "        # the first element, text[0], is the original word\n",
    "        # and the following elements are the edit options\n",
    "\n",
    "        # map the word to itself \n",
    "        t_edit.write(\"0 0 {0} {0}\\n\".format(words_ST.find(text[0])))\n",
    "        \n",
    "        # map the word to its edit options\n",
    "        if len(text) > 1:\n",
    "            \n",
    "            # for each edit option,\n",
    "            for i in range(1,len(text)):\n",
    "                \n",
    "                # split the edit option into words\n",
    "                # if the edit option consists of one word, text_ will be a list with one element\n",
    "                text_ = text[i].split(' ')\n",
    "                \n",
    "                # map the original word to the correction-start tag, <corr>\n",
    "                t_edit.write(\"0 {0} {1} 4\\n\".format(state_num, words_ST.find(text[0])))\n",
    "\n",
    "                # map an epsilon to the words in the edit option\n",
    "                for j in range(0,len(text_)):                    \n",
    "                    t_edit.write(\"{0} {1} 0 {2}\\n\".format(state_num+j, state_num+j+1, words_ST.find(text_[j])))\n",
    "                \n",
    "                # map an epsilon to the correction-end tag, </corr>\n",
    "                t_edit.write(\"{0} 0 0 5\\n\".format(state_num+len(text_)))\n",
    "                \n",
    "                # update the state number\n",
    "                state_num += (1+len(text_))\n",
    "\n",
    "    # specify the final state\n",
    "    t_edit.write(\"0\")"
   ]
  },
  {
   "cell_type": "code",
   "execution_count": 4,
   "metadata": {},
   "outputs": [],
   "source": [
    "# read the generated text file as FST\n",
    "compiler = fst.Compiler()\n",
    "file = open('t_edit.txt')\n",
    "for line in file:\n",
    "    compiler.write(line)\n",
    "file.close()\n",
    "\n",
    "tedit = compiler.compile()"
   ]
  },
  {
   "cell_type": "markdown",
   "metadata": {},
   "source": [
    "### 2.1.3. Example of Usage"
   ]
  },
  {
   "cell_type": "code",
   "execution_count": 35,
   "metadata": {},
   "outputs": [
    {
     "data": {
      "image/svg+xml": [
       "<?xml version=\"1.0\" encoding=\"UTF-8\" standalone=\"no\"?>\n",
       "<!DOCTYPE svg PUBLIC \"-//W3C//DTD SVG 1.1//EN\"\n",
       " \"http://www.w3.org/Graphics/SVG/1.1/DTD/svg11.dtd\">\n",
       "<!-- Generated by graphviz version 2.38.0 (20140413.2041)\n",
       " -->\n",
       "<!-- Title: FST Pages: 1 -->\n",
       "<svg width=\"612pt\" height=\"45pt\"\n",
       " viewBox=\"0.00 0.00 612.00 44.58\" xmlns=\"http://www.w3.org/2000/svg\" xmlns:xlink=\"http://www.w3.org/1999/xlink\">\n",
       "<g id=\"graph0\" class=\"graph\" transform=\"scale(0.356648 0.356648) rotate(0) translate(4 121)\">\n",
       "<title>FST</title>\n",
       "<polygon fill=\"white\" stroke=\"none\" points=\"-4,4 -4,-121 1711.98,-121 1711.98,4 -4,4\"/>\n",
       "<!-- 0 -->\n",
       "<g id=\"node1\" class=\"node\"><title>0</title>\n",
       "<ellipse fill=\"none\" stroke=\"black\" stroke-width=\"2\" cx=\"18\" cy=\"-18\" rx=\"18\" ry=\"18\"/>\n",
       "<text text-anchor=\"middle\" x=\"18\" y=\"-14.3\" font-family=\"Times,serif\" font-size=\"14.00\">0</text>\n",
       "</g>\n",
       "<!-- 1 -->\n",
       "<g id=\"node2\" class=\"node\"><title>1</title>\n",
       "<ellipse fill=\"none\" stroke=\"black\" cx=\"123\" cy=\"-45\" rx=\"18\" ry=\"18\"/>\n",
       "<text text-anchor=\"middle\" x=\"123\" y=\"-41.3\" font-family=\"Times,serif\" font-size=\"14.00\">1</text>\n",
       "</g>\n",
       "<!-- 0&#45;&gt;1 -->\n",
       "<g id=\"edge1\" class=\"edge\"><title>0&#45;&gt;1</title>\n",
       "<path fill=\"none\" stroke=\"black\" d=\"M35.5487,-22.338C51.7664,-26.5892 76.7394,-33.1356 95.6826,-38.1013\"/>\n",
       "<polygon fill=\"black\" stroke=\"black\" points=\"94.9316,-41.5226 105.492,-40.6727 96.7067,-34.7514 94.9316,-41.5226\"/>\n",
       "<text text-anchor=\"middle\" x=\"70.5\" y=\"-39.8\" font-family=\"Times,serif\" font-size=\"14.00\">&lt;corr&gt;</text>\n",
       "</g>\n",
       "<!-- 2 -->\n",
       "<g id=\"node3\" class=\"node\"><title>2</title>\n",
       "<ellipse fill=\"none\" stroke=\"black\" cx=\"327\" cy=\"-18\" rx=\"18\" ry=\"18\"/>\n",
       "<text text-anchor=\"middle\" x=\"327\" y=\"-14.3\" font-family=\"Times,serif\" font-size=\"14.00\">2</text>\n",
       "</g>\n",
       "<!-- 0&#45;&gt;2 -->\n",
       "<g id=\"edge2\" class=\"edge\"><title>0&#45;&gt;2</title>\n",
       "<path fill=\"none\" stroke=\"black\" d=\"M36.3005,-17.6665C62.2878,-17.1839 112.946,-16.3142 156,-16 206.118,-15.6342 264.544,-16.6336 298.206,-17.3481\"/>\n",
       "<polygon fill=\"black\" stroke=\"black\" points=\"298.55,-20.8564 308.625,-17.5771 298.704,-13.8581 298.55,-20.8564\"/>\n",
       "<text text-anchor=\"middle\" x=\"170.5\" y=\"-19.8\" font-family=\"Times,serif\" font-size=\"14.00\">Then</text>\n",
       "</g>\n",
       "<!-- 3 -->\n",
       "<g id=\"node4\" class=\"node\"><title>3</title>\n",
       "<ellipse fill=\"none\" stroke=\"black\" cx=\"218\" cy=\"-45\" rx=\"18\" ry=\"18\"/>\n",
       "<text text-anchor=\"middle\" x=\"218\" y=\"-41.3\" font-family=\"Times,serif\" font-size=\"14.00\">3</text>\n",
       "</g>\n",
       "<!-- 1&#45;&gt;3 -->\n",
       "<g id=\"edge3\" class=\"edge\"><title>1&#45;&gt;3</title>\n",
       "<path fill=\"none\" stroke=\"black\" d=\"M139.632,-52.1389C144.74,-54.1226 150.512,-56.0049 156,-57 168.682,-59.2997 172.318,-59.2997 185,-57 187.229,-56.5957 189.506,-56.045 191.765,-55.4006\"/>\n",
       "<polygon fill=\"black\" stroke=\"black\" points=\"193.025,-58.6693 201.368,-52.1389 190.773,-52.0413 193.025,-58.6693\"/>\n",
       "<text text-anchor=\"middle\" x=\"170.5\" y=\"-61.8\" font-family=\"Times,serif\" font-size=\"14.00\">then</text>\n",
       "</g>\n",
       "<!-- 1&#45;&gt;3 -->\n",
       "<g id=\"edge4\" class=\"edge\"><title>1&#45;&gt;3</title>\n",
       "<path fill=\"none\" stroke=\"black\" d=\"M140.463,-40.0654C145.411,-38.8054 150.885,-37.6297 156,-37 168.792,-35.4252 172.208,-35.4252 185,-37 186.758,-37.2165 188.559,-37.4974 190.366,-37.8242\"/>\n",
       "<polygon fill=\"black\" stroke=\"black\" points=\"190.018,-41.3313 200.537,-40.0654 191.524,-34.4953 190.018,-41.3313\"/>\n",
       "<text text-anchor=\"middle\" x=\"170.5\" y=\"-40.8\" font-family=\"Times,serif\" font-size=\"14.00\">thens</text>\n",
       "</g>\n",
       "<!-- 4 -->\n",
       "<g id=\"node5\" class=\"node\"><title>4</title>\n",
       "<ellipse fill=\"none\" stroke=\"black\" cx=\"432\" cy=\"-48\" rx=\"18\" ry=\"18\"/>\n",
       "<text text-anchor=\"middle\" x=\"432\" y=\"-44.3\" font-family=\"Times,serif\" font-size=\"14.00\">4</text>\n",
       "</g>\n",
       "<!-- 2&#45;&gt;4 -->\n",
       "<g id=\"edge5\" class=\"edge\"><title>2&#45;&gt;4</title>\n",
       "<path fill=\"none\" stroke=\"black\" d=\"M344.549,-22.82C360.766,-27.5436 385.739,-34.8173 404.683,-40.3347\"/>\n",
       "<polygon fill=\"black\" stroke=\"black\" points=\"403.913,-43.7558 414.492,-43.1919 405.87,-37.0351 403.913,-43.7558\"/>\n",
       "<text text-anchor=\"middle\" x=\"379.5\" y=\"-41.8\" font-family=\"Times,serif\" font-size=\"14.00\">&lt;corr&gt;</text>\n",
       "</g>\n",
       "<!-- 5 -->\n",
       "<g id=\"node6\" class=\"node\"><title>5</title>\n",
       "<ellipse fill=\"none\" stroke=\"black\" cx=\"640\" cy=\"-21\" rx=\"18\" ry=\"18\"/>\n",
       "<text text-anchor=\"middle\" x=\"640\" y=\"-17.3\" font-family=\"Times,serif\" font-size=\"14.00\">5</text>\n",
       "</g>\n",
       "<!-- 2&#45;&gt;5 -->\n",
       "<g id=\"edge6\" class=\"edge\"><title>2&#45;&gt;5</title>\n",
       "<path fill=\"none\" stroke=\"black\" d=\"M345.164,-18.1656C396.458,-18.6604 548.917,-20.131 611.609,-20.7358\"/>\n",
       "<polygon fill=\"black\" stroke=\"black\" points=\"611.856,-24.2382 621.889,-20.8349 611.924,-17.2386 611.856,-24.2382\"/>\n",
       "<text text-anchor=\"middle\" x=\"481.5\" y=\"-22.8\" font-family=\"Times,serif\" font-size=\"14.00\">there</text>\n",
       "</g>\n",
       "<!-- 3&#45;&gt;2 -->\n",
       "<g id=\"edge7\" class=\"edge\"><title>3&#45;&gt;2</title>\n",
       "<path fill=\"none\" stroke=\"black\" d=\"M235.719,-40.7812C252.837,-36.4618 279.691,-29.6854 299.667,-24.6447\"/>\n",
       "<polygon fill=\"black\" stroke=\"black\" points=\"300.559,-28.0295 309.399,-22.1891 298.846,-21.2422 300.559,-28.0295\"/>\n",
       "<text text-anchor=\"middle\" x=\"272.5\" y=\"-39.8\" font-family=\"Times,serif\" font-size=\"14.00\">&lt;/corr&gt;</text>\n",
       "</g>\n",
       "<!-- 6 -->\n",
       "<g id=\"node7\" class=\"node\"><title>6</title>\n",
       "<ellipse fill=\"none\" stroke=\"black\" cx=\"531\" cy=\"-48\" rx=\"18\" ry=\"18\"/>\n",
       "<text text-anchor=\"middle\" x=\"531\" y=\"-44.3\" font-family=\"Times,serif\" font-size=\"14.00\">6</text>\n",
       "</g>\n",
       "<!-- 4&#45;&gt;6 -->\n",
       "<g id=\"edge8\" class=\"edge\"><title>4&#45;&gt;6</title>\n",
       "<path fill=\"none\" stroke=\"black\" d=\"M450.342,-48C464.825,-48 485.737,-48 502.501,-48\"/>\n",
       "<polygon fill=\"black\" stroke=\"black\" points=\"502.809,-51.5001 512.808,-48 502.808,-44.5001 502.809,-51.5001\"/>\n",
       "<text text-anchor=\"middle\" x=\"481.5\" y=\"-51.8\" font-family=\"Times,serif\" font-size=\"14.00\">theres</text>\n",
       "</g>\n",
       "<!-- 7 -->\n",
       "<g id=\"node8\" class=\"node\"><title>7</title>\n",
       "<ellipse fill=\"none\" stroke=\"black\" cx=\"745\" cy=\"-66\" rx=\"18\" ry=\"18\"/>\n",
       "<text text-anchor=\"middle\" x=\"745\" y=\"-62.3\" font-family=\"Times,serif\" font-size=\"14.00\">7</text>\n",
       "</g>\n",
       "<!-- 5&#45;&gt;7 -->\n",
       "<g id=\"edge9\" class=\"edge\"><title>5&#45;&gt;7</title>\n",
       "<path fill=\"none\" stroke=\"black\" d=\"M657.094,-28.0312C673.572,-35.2303 699.423,-46.5244 718.652,-54.9256\"/>\n",
       "<polygon fill=\"black\" stroke=\"black\" points=\"717.454,-58.2218 728.019,-59.0181 720.257,-51.8073 717.454,-58.2218\"/>\n",
       "<text text-anchor=\"middle\" x=\"692.5\" y=\"-54.8\" font-family=\"Times,serif\" font-size=\"14.00\">&lt;corr&gt;</text>\n",
       "</g>\n",
       "<!-- 8 -->\n",
       "<g id=\"node9\" class=\"node\"><title>8</title>\n",
       "<ellipse fill=\"none\" stroke=\"black\" cx=\"962\" cy=\"-28\" rx=\"18\" ry=\"18\"/>\n",
       "<text text-anchor=\"middle\" x=\"962\" y=\"-24.3\" font-family=\"Times,serif\" font-size=\"14.00\">8</text>\n",
       "</g>\n",
       "<!-- 5&#45;&gt;8 -->\n",
       "<g id=\"edge10\" class=\"edge\"><title>5&#45;&gt;8</title>\n",
       "<path fill=\"none\" stroke=\"black\" d=\"M658.031,-21.2197C689.852,-21.6447 760.496,-22.6574 820,-24 859.337,-24.8876 904.838,-26.2367 933.27,-27.1183\"/>\n",
       "<polygon fill=\"black\" stroke=\"black\" points=\"933.532,-30.6281 943.636,-27.4426 933.75,-23.6316 933.532,-30.6281\"/>\n",
       "<text text-anchor=\"middle\" x=\"799\" y=\"-27.8\" font-family=\"Times,serif\" font-size=\"14.00\">comes</text>\n",
       "</g>\n",
       "<!-- 6&#45;&gt;5 -->\n",
       "<g id=\"edge11\" class=\"edge\"><title>6&#45;&gt;5</title>\n",
       "<path fill=\"none\" stroke=\"black\" d=\"M548.719,-43.7812C565.837,-39.4618 592.691,-32.6854 612.667,-27.6447\"/>\n",
       "<polygon fill=\"black\" stroke=\"black\" points=\"613.559,-31.0295 622.399,-25.1891 611.846,-24.2422 613.559,-31.0295\"/>\n",
       "<text text-anchor=\"middle\" x=\"585.5\" y=\"-42.8\" font-family=\"Times,serif\" font-size=\"14.00\">&lt;/corr&gt;</text>\n",
       "</g>\n",
       "<!-- 9 -->\n",
       "<g id=\"node10\" class=\"node\"><title>9</title>\n",
       "<ellipse fill=\"none\" stroke=\"black\" cx=\"853\" cy=\"-66\" rx=\"18\" ry=\"18\"/>\n",
       "<text text-anchor=\"middle\" x=\"853\" y=\"-62.3\" font-family=\"Times,serif\" font-size=\"14.00\">9</text>\n",
       "</g>\n",
       "<!-- 7&#45;&gt;9 -->\n",
       "<g id=\"edge12\" class=\"edge\"><title>7&#45;&gt;9</title>\n",
       "<path fill=\"none\" stroke=\"black\" d=\"M756.496,-80.3262C762.08,-86.7202 769.54,-93.5742 778,-97 795.302,-104.006 802.698,-104.006 820,-97 825.287,-94.8589 830.184,-91.3786 834.477,-87.5085\"/>\n",
       "<polygon fill=\"black\" stroke=\"black\" points=\"837.012,-89.9217 841.504,-80.3262 832.009,-85.0262 837.012,-89.9217\"/>\n",
       "<text text-anchor=\"middle\" x=\"799\" y=\"-105.8\" font-family=\"Times,serif\" font-size=\"14.00\">came</text>\n",
       "</g>\n",
       "<!-- 7&#45;&gt;9 -->\n",
       "<g id=\"edge13\" class=\"edge\"><title>7&#45;&gt;9</title>\n",
       "<path fill=\"none\" stroke=\"black\" d=\"M763.031,-66C779.622,-66 805.117,-66 824.569,-66\"/>\n",
       "<polygon fill=\"black\" stroke=\"black\" points=\"824.659,-69.5001 834.659,-66 824.659,-62.5001 824.659,-69.5001\"/>\n",
       "<text text-anchor=\"middle\" x=\"799\" y=\"-69.8\" font-family=\"Times,serif\" font-size=\"14.00\">come</text>\n",
       "</g>\n",
       "<!-- 7&#45;&gt;9 -->\n",
       "<g id=\"edge14\" class=\"edge\"><title>7&#45;&gt;9</title>\n",
       "<path fill=\"none\" stroke=\"black\" d=\"M759.909,-55.5392C765.274,-52.1152 771.645,-48.7445 778,-47 796.001,-42.0587 801.999,-42.0587 820,-47 823.078,-47.845 826.16,-49.0715 829.13,-50.5008\"/>\n",
       "<polygon fill=\"black\" stroke=\"black\" points=\"827.659,-53.6893 838.091,-55.5392 831.09,-47.5875 827.659,-53.6893\"/>\n",
       "<text text-anchor=\"middle\" x=\"799\" y=\"-50.8\" font-family=\"Times,serif\" font-size=\"14.00\">coming</text>\n",
       "</g>\n",
       "<!-- 10 -->\n",
       "<g id=\"node11\" class=\"node\"><title>10</title>\n",
       "<ellipse fill=\"none\" stroke=\"black\" cx=\"1068.5\" cy=\"-59\" rx=\"19.4965\" ry=\"19.4965\"/>\n",
       "<text text-anchor=\"middle\" x=\"1068.5\" y=\"-55.3\" font-family=\"Times,serif\" font-size=\"14.00\">10</text>\n",
       "</g>\n",
       "<!-- 8&#45;&gt;10 -->\n",
       "<g id=\"edge15\" class=\"edge\"><title>8&#45;&gt;10</title>\n",
       "<path fill=\"none\" stroke=\"black\" d=\"M979.789,-32.9807C996.026,-37.7973 1020.91,-45.1799 1040.03,-50.8524\"/>\n",
       "<polygon fill=\"black\" stroke=\"black\" points=\"1039.12,-54.2318 1049.7,-53.7204 1041.11,-47.5208 1039.12,-54.2318\"/>\n",
       "<text text-anchor=\"middle\" x=\"1014.5\" y=\"-51.8\" font-family=\"Times,serif\" font-size=\"14.00\">&lt;corr&gt;</text>\n",
       "</g>\n",
       "<!-- 11 -->\n",
       "<g id=\"node12\" class=\"node\"><title>11</title>\n",
       "<ellipse fill=\"none\" stroke=\"black\" cx=\"1266.49\" cy=\"-32\" rx=\"19.4965\" ry=\"19.4965\"/>\n",
       "<text text-anchor=\"middle\" x=\"1266.49\" y=\"-28.3\" font-family=\"Times,serif\" font-size=\"14.00\">11</text>\n",
       "</g>\n",
       "<!-- 8&#45;&gt;11 -->\n",
       "<g id=\"edge16\" class=\"edge\"><title>8&#45;&gt;11</title>\n",
       "<path fill=\"none\" stroke=\"black\" d=\"M980.424,-28.2162C1009.39,-28.5771 1069.3,-29.3286 1120,-30 1160.31,-30.5339 1206.91,-31.1795 1236.29,-31.59\"/>\n",
       "<polygon fill=\"black\" stroke=\"black\" points=\"1236.61,-35.0947 1246.66,-31.7351 1236.71,-28.0954 1236.61,-35.0947\"/>\n",
       "<text text-anchor=\"middle\" x=\"1111.5\" y=\"-33.8\" font-family=\"Times,serif\" font-size=\"14.00\">a</text>\n",
       "</g>\n",
       "<!-- 9&#45;&gt;8 -->\n",
       "<g id=\"edge17\" class=\"edge\"><title>9&#45;&gt;8</title>\n",
       "<path fill=\"none\" stroke=\"black\" d=\"M870.251,-60.2286C887.455,-54.1186 914.862,-44.3853 935.06,-37.2123\"/>\n",
       "<polygon fill=\"black\" stroke=\"black\" points=\"936.344,-40.4706 944.596,-33.8257 934.001,-33.8742 936.344,-40.4706\"/>\n",
       "<text text-anchor=\"middle\" x=\"907.5\" y=\"-56.8\" font-family=\"Times,serif\" font-size=\"14.00\">&lt;/corr&gt;</text>\n",
       "</g>\n",
       "<!-- 12 -->\n",
       "<g id=\"node13\" class=\"node\"><title>12</title>\n",
       "<ellipse fill=\"none\" stroke=\"black\" cx=\"1154.49\" cy=\"-59\" rx=\"19.4965\" ry=\"19.4965\"/>\n",
       "<text text-anchor=\"middle\" x=\"1154.49\" y=\"-55.3\" font-family=\"Times,serif\" font-size=\"14.00\">12</text>\n",
       "</g>\n",
       "<!-- 10&#45;&gt;12 -->\n",
       "<g id=\"edge18\" class=\"edge\"><title>10&#45;&gt;12</title>\n",
       "<path fill=\"none\" stroke=\"black\" d=\"M1086.97,-65.8948C1092.06,-67.5833 1097.68,-69.149 1103,-70 1110.46,-71.1936 1112.54,-71.1936 1120,-70 1122.07,-69.6676 1124.2,-69.2261 1126.32,-68.7109\"/>\n",
       "<polygon fill=\"black\" stroke=\"black\" points=\"1127.39,-72.0431 1136.02,-65.8948 1125.44,-65.3205 1127.39,-72.0431\"/>\n",
       "<text text-anchor=\"middle\" x=\"1111.5\" y=\"-73.8\" font-family=\"Times,serif\" font-size=\"14.00\">an</text>\n",
       "</g>\n",
       "<!-- 10&#45;&gt;12 -->\n",
       "<g id=\"edge19\" class=\"edge\"><title>10&#45;&gt;12</title>\n",
       "<path fill=\"none\" stroke=\"black\" d=\"M1087.4,-53.2612C1092.4,-51.9158 1097.86,-50.6777 1103,-50 1110.49,-49.0113 1112.51,-49.0113 1120,-50 1121.76,-50.233 1123.57,-50.5321 1125.38,-50.8791\"/>\n",
       "<polygon fill=\"black\" stroke=\"black\" points=\"1125.06,-54.3985 1135.59,-53.2612 1126.65,-47.5814 1125.06,-54.3985\"/>\n",
       "<text text-anchor=\"middle\" x=\"1111.5\" y=\"-53.8\" font-family=\"Times,serif\" font-size=\"14.00\">the</text>\n",
       "</g>\n",
       "<!-- 13 -->\n",
       "<g id=\"node14\" class=\"node\"><title>13</title>\n",
       "<ellipse fill=\"none\" stroke=\"black\" cx=\"1374.49\" cy=\"-63\" rx=\"19.4965\" ry=\"19.4965\"/>\n",
       "<text text-anchor=\"middle\" x=\"1374.49\" y=\"-59.3\" font-family=\"Times,serif\" font-size=\"14.00\">13</text>\n",
       "</g>\n",
       "<!-- 11&#45;&gt;13 -->\n",
       "<g id=\"edge20\" class=\"edge\"><title>11&#45;&gt;13</title>\n",
       "<path fill=\"none\" stroke=\"black\" d=\"M1285.47,-37.2587C1301.99,-42.0908 1326.73,-49.3264 1345.78,-54.897\"/>\n",
       "<polygon fill=\"black\" stroke=\"black\" points=\"1344.84,-58.2676 1355.42,-57.7155 1346.8,-51.5491 1344.84,-58.2676\"/>\n",
       "<text text-anchor=\"middle\" x=\"1320.49\" y=\"-55.8\" font-family=\"Times,serif\" font-size=\"14.00\">&lt;corr&gt;</text>\n",
       "</g>\n",
       "<!-- 14 -->\n",
       "<g id=\"node15\" class=\"node\"><title>14</title>\n",
       "<ellipse fill=\"none\" stroke=\"black\" cx=\"1607.48\" cy=\"-36\" rx=\"19.4965\" ry=\"19.4965\"/>\n",
       "<text text-anchor=\"middle\" x=\"1607.48\" y=\"-32.3\" font-family=\"Times,serif\" font-size=\"14.00\">14</text>\n",
       "</g>\n",
       "<!-- 11&#45;&gt;14 -->\n",
       "<g id=\"edge21\" class=\"edge\"><title>11&#45;&gt;14</title>\n",
       "<path fill=\"none\" stroke=\"black\" d=\"M1286.2,-32.2208C1342.34,-32.8832 1509.67,-34.8576 1577.47,-35.6577\"/>\n",
       "<polygon fill=\"black\" stroke=\"black\" points=\"1577.79,-39.1616 1587.83,-35.7799 1577.87,-32.1621 1577.79,-39.1616\"/>\n",
       "<text text-anchor=\"middle\" x=\"1434.99\" y=\"-37.8\" font-family=\"Times,serif\" font-size=\"14.00\">problem</text>\n",
       "</g>\n",
       "<!-- 12&#45;&gt;11 -->\n",
       "<g id=\"edge22\" class=\"edge\"><title>12&#45;&gt;11</title>\n",
       "<path fill=\"none\" stroke=\"black\" d=\"M1173.66,-54.5415C1191.01,-50.2814 1217.43,-43.7982 1237.48,-38.8765\"/>\n",
       "<polygon fill=\"black\" stroke=\"black\" points=\"1238.42,-42.2482 1247.3,-36.4651 1236.75,-35.45 1238.42,-42.2482\"/>\n",
       "<text text-anchor=\"middle\" x=\"1210.49\" y=\"-53.8\" font-family=\"Times,serif\" font-size=\"14.00\">&lt;/corr&gt;</text>\n",
       "</g>\n",
       "<!-- 15 -->\n",
       "<g id=\"node16\" class=\"node\"><title>15</title>\n",
       "<ellipse fill=\"none\" stroke=\"black\" cx=\"1495.48\" cy=\"-63\" rx=\"19.4965\" ry=\"19.4965\"/>\n",
       "<text text-anchor=\"middle\" x=\"1495.48\" y=\"-59.3\" font-family=\"Times,serif\" font-size=\"14.00\">15</text>\n",
       "</g>\n",
       "<!-- 13&#45;&gt;15 -->\n",
       "<g id=\"edge23\" class=\"edge\"><title>13&#45;&gt;15</title>\n",
       "<path fill=\"none\" stroke=\"black\" d=\"M1394.08,-63C1413.18,-63 1443.18,-63 1465.42,-63\"/>\n",
       "<polygon fill=\"black\" stroke=\"black\" points=\"1465.63,-66.5001 1475.63,-63 1465.63,-59.5001 1465.63,-66.5001\"/>\n",
       "<text text-anchor=\"middle\" x=\"1434.99\" y=\"-66.8\" font-family=\"Times,serif\" font-size=\"14.00\">problems</text>\n",
       "</g>\n",
       "<!-- 16 -->\n",
       "<g id=\"node17\" class=\"node\"><title>16</title>\n",
       "<ellipse fill=\"none\" stroke=\"black\" cx=\"1684.48\" cy=\"-36\" rx=\"19.4968\" ry=\"19.4968\"/>\n",
       "<ellipse fill=\"none\" stroke=\"black\" cx=\"1684.48\" cy=\"-36\" rx=\"23.4965\" ry=\"23.4965\"/>\n",
       "<text text-anchor=\"middle\" x=\"1684.48\" y=\"-32.3\" font-family=\"Times,serif\" font-size=\"14.00\">16</text>\n",
       "</g>\n",
       "<!-- 14&#45;&gt;16 -->\n",
       "<g id=\"edge24\" class=\"edge\"><title>14&#45;&gt;16</title>\n",
       "<path fill=\"none\" stroke=\"black\" d=\"M1627.02,-36C1634.22,-36 1642.68,-36 1650.83,-36\"/>\n",
       "<polygon fill=\"black\" stroke=\"black\" points=\"1650.87,-39.5001 1660.87,-36 1650.87,-32.5001 1650.87,-39.5001\"/>\n",
       "<text text-anchor=\"middle\" x=\"1643.98\" y=\"-39.8\" font-family=\"Times,serif\" font-size=\"14.00\">.</text>\n",
       "</g>\n",
       "<!-- 15&#45;&gt;14 -->\n",
       "<g id=\"edge25\" class=\"edge\"><title>15&#45;&gt;14</title>\n",
       "<path fill=\"none\" stroke=\"black\" d=\"M1514.65,-58.5415C1532,-54.2814 1558.42,-47.7982 1578.47,-42.8765\"/>\n",
       "<polygon fill=\"black\" stroke=\"black\" points=\"1579.41,-46.2482 1588.29,-40.4651 1577.74,-39.45 1579.41,-46.2482\"/>\n",
       "<text text-anchor=\"middle\" x=\"1551.48\" y=\"-57.8\" font-family=\"Times,serif\" font-size=\"14.00\">&lt;/corr&gt;</text>\n",
       "</g>\n",
       "</g>\n",
       "</svg>\n"
      ],
      "text/plain": [
       "<vector Fst at 0x7f64fc0a83e8>"
      ]
     },
     "execution_count": 35,
     "metadata": {},
     "output_type": "execute_result"
    }
   ],
   "source": [
    "conll2013_1198 = fst.Fst.read(DIR+'orig/fsts/conll2013/1198.fst')\n",
    "edited_conll2013_1198 = fst.compose(conll2013_1198, tedit)\n",
    "edited_conll2013_1198.project(project_output=True).set_input_symbols(words_ST)\n",
    "fst.determinize(edited_conll2013_1198.project(project_output=True)).minimize().set_input_symbols(words_ST)"
   ]
  },
  {
   "cell_type": "markdown",
   "metadata": {},
   "source": [
    "## 2.2. LMMap Vocabulary Transducer"
   ]
  },
  {
   "cell_type": "markdown",
   "metadata": {},
   "source": [
    "### 2.2.1. Objective\n",
    "\n",
    "* **LMMap Vocabulary Transducer**\n",
    "\n",
    ">* A transducer that:\n",
    ">  * keeps `<s>`, `</s>`, `<unk>`\n",
    ">  * deletes `<corr>`, `</corr>` (map to `<epsilon>`)\n",
    ">  * maps each word in the dataset vocabulary (`DIR/wmaps/devtest.wmap`)\n",
    ">    * to itself if it is in the LM vocabulary `DIR/BWC/1b.wlist`\n",
    ">    * to `<unk>` if not\n",
    "\n",
    "* **Objective**\n",
    "\n",
    ">* The LMMap transducer can be composed to the possible candidates, to make sure that the candidates consist of the words in the LM vocabulary.\n",
    ">* Then, the language model automata can be applied to yield the sentence probability.\n",
    ">\n",
    ">$$ \\Pi_2(O_n  \\circ T_\\mbox{edit}) \\circ T_\\mbox{LMmap} $$ "
   ]
  },
  {
   "cell_type": "markdown",
   "metadata": {},
   "source": [
    "### 2.2.2. Code"
   ]
  },
  {
   "cell_type": "code",
   "execution_count": 128,
   "metadata": {},
   "outputs": [],
   "source": [
    "# vocabulary of dataset\n",
    "wmap_list = open(DIR+'wmap/devtest.wmap').readlines()\n",
    "\n",
    "# vocabulary of the language model\n",
    "w_list = open(DIR+'BWC/1b.wlist').readlines()\n",
    "\n",
    "# the transducer is written into a text file\n",
    "with open('LMmap.txt', 'w') as LMmap:\n",
    "\n",
    "    # for each word in the dataset vocabulary,\n",
    "    for i in range(len(wmap_list)):\n",
    "        \n",
    "        # only extract the word (not its integer symbol)\n",
    "        word = wmap_list[i].split('\\n')[0].split(' ')[0]\n",
    "        \n",
    "        # map the following tags to itself\n",
    "        if word in ['<epsilon>','<s>','</s>','<unk>']:\n",
    "            LMmap.write(\"0 0 {0} {0}\\n\".format(words_ST.find(word)))\n",
    "        \n",
    "        # delete the correction tags\n",
    "        elif word in ['<corr>','</corr>']:\n",
    "            LMmap.write(\"0 0 {0} 0\\n\".format(words_ST.find(word)))\n",
    "        \n",
    "        # if the word is in the LM vocabulary, map the word to itself\n",
    "        elif word + '\\n' in w_list:\n",
    "            LMmap.write(\"0 0 {0} {0}\\n\".format(words_ST.find(word)))\n",
    "            \n",
    "        # if not, map the word to <unk>\n",
    "        elif word != '':\n",
    "            LMmap.write(\"0 0 {0} 3\\n\".format(words_ST.find(word)))\n",
    "    \n",
    "    # specify the final state\n",
    "    LMmap.write(\"0\")"
   ]
  },
  {
   "cell_type": "code",
   "execution_count": 9,
   "metadata": {},
   "outputs": [],
   "source": [
    "# read the generated text file as FST\n",
    "del compiler\n",
    "compiler = fst.Compiler()\n",
    "file = open('LMmap.txt')\n",
    "for line in file:\n",
    "    compiler.write(line)\n",
    "file.close()\n",
    "\n",
    "LMmap = compiler.compile()"
   ]
  },
  {
   "cell_type": "markdown",
   "metadata": {},
   "source": [
    "### 2.2.3. Example of Usage"
   ]
  },
  {
   "cell_type": "code",
   "execution_count": 132,
   "metadata": {},
   "outputs": [
    {
     "data": {
      "image/svg+xml": [
       "<?xml version=\"1.0\" encoding=\"UTF-8\" standalone=\"no\"?>\n",
       "<!DOCTYPE svg PUBLIC \"-//W3C//DTD SVG 1.1//EN\"\n",
       " \"http://www.w3.org/Graphics/SVG/1.1/DTD/svg11.dtd\">\n",
       "<!-- Generated by graphviz version 2.38.0 (20140413.2041)\n",
       " -->\n",
       "<!-- Title: FST Pages: 1 -->\n",
       "<svg width=\"612pt\" height=\"145pt\"\n",
       " viewBox=\"0.00 0.00 612.00 145.26\" xmlns=\"http://www.w3.org/2000/svg\" xmlns:xlink=\"http://www.w3.org/1999/xlink\">\n",
       "<g id=\"graph0\" class=\"graph\" transform=\"scale(0.443483 0.443483) rotate(0) translate(4 323.534)\">\n",
       "<title>FST</title>\n",
       "<polygon fill=\"white\" stroke=\"none\" points=\"-4,4 -4,-323.534 1375.99,-323.534 1375.99,4 -4,4\"/>\n",
       "<!-- 0 -->\n",
       "<g id=\"node1\" class=\"node\"><title>0</title>\n",
       "<ellipse fill=\"none\" stroke=\"black\" stroke-width=\"2\" cx=\"18\" cy=\"-129.534\" rx=\"18\" ry=\"18\"/>\n",
       "<text text-anchor=\"middle\" x=\"18\" y=\"-125.834\" font-family=\"Times,serif\" font-size=\"14.00\">0</text>\n",
       "</g>\n",
       "<!-- 1 -->\n",
       "<g id=\"node2\" class=\"node\"><title>1</title>\n",
       "<ellipse fill=\"none\" stroke=\"black\" cx=\"119\" cy=\"-129.534\" rx=\"18\" ry=\"18\"/>\n",
       "<text text-anchor=\"middle\" x=\"119\" y=\"-125.834\" font-family=\"Times,serif\" font-size=\"14.00\">1</text>\n",
       "</g>\n",
       "<!-- 0&#45;&gt;1 -->\n",
       "<g id=\"edge1\" class=\"edge\"><title>0&#45;&gt;1</title>\n",
       "<path fill=\"none\" stroke=\"black\" d=\"M33.752,-138.697C38.9978,-141.463 45.0758,-144.135 51,-145.534 66.1394,-149.108 70.8606,-149.108 86,-145.534 88.6844,-144.9 91.4004,-144.005 94.0562,-142.958\"/>\n",
       "<polygon fill=\"black\" stroke=\"black\" points=\"95.6475,-146.078 103.248,-138.697 92.7034,-139.727 95.6475,-146.078\"/>\n",
       "<text text-anchor=\"middle\" x=\"68.5\" y=\"-151.334\" font-family=\"Times,serif\" font-size=\"14.00\">when</text>\n",
       "</g>\n",
       "<!-- 0&#45;&gt;1 -->\n",
       "<g id=\"edge2\" class=\"edge\"><title>0&#45;&gt;1</title>\n",
       "<path fill=\"none\" stroke=\"black\" d=\"M35.9026,-127.022C40.7646,-126.408 46.0826,-125.84 51,-125.534 66.5255,-124.567 70.4745,-124.567 86,-125.534 87.5367,-125.63 89.1125,-125.751 90.7013,-125.891\"/>\n",
       "<polygon fill=\"black\" stroke=\"black\" points=\"90.7774,-129.42 101.097,-127.022 91.5348,-122.461 90.7774,-129.42\"/>\n",
       "<text text-anchor=\"middle\" x=\"68.5\" y=\"-129.334\" font-family=\"Times,serif\" font-size=\"14.00\">When</text>\n",
       "</g>\n",
       "<!-- 0&#45;&gt;1 -->\n",
       "<g id=\"edge3\" class=\"edge\"><title>0&#45;&gt;1</title>\n",
       "<path fill=\"none\" stroke=\"black\" d=\"M31.2815,-117.376C36.8258,-112.72 43.7531,-107.95 51,-105.534 65.7573,-100.615 71.2427,-100.615 86,-105.534 89.9631,-106.855 93.8307,-108.88 97.4288,-111.206\"/>\n",
       "<polygon fill=\"black\" stroke=\"black\" points=\"95.6069,-114.213 105.719,-117.376 99.7865,-108.598 95.6069,-114.213\"/>\n",
       "<text text-anchor=\"middle\" x=\"68.5\" y=\"-109.334\" font-family=\"Times,serif\" font-size=\"14.00\">whens</text>\n",
       "</g>\n",
       "<!-- 2 -->\n",
       "<g id=\"node3\" class=\"node\"><title>2</title>\n",
       "<ellipse fill=\"none\" stroke=\"black\" cx=\"233\" cy=\"-129.534\" rx=\"18\" ry=\"18\"/>\n",
       "<text text-anchor=\"middle\" x=\"233\" y=\"-125.834\" font-family=\"Times,serif\" font-size=\"14.00\">2</text>\n",
       "</g>\n",
       "<!-- 1&#45;&gt;2 -->\n",
       "<g id=\"edge4\" class=\"edge\"><title>1&#45;&gt;2</title>\n",
       "<path fill=\"none\" stroke=\"black\" d=\"M129.298,-144.57C134.858,-152.077 142.658,-160.417 152,-164.534 171.522,-173.137 180.478,-173.137 200,-164.534 206.131,-161.832 211.598,-157.312 216.203,-152.401\"/>\n",
       "<polygon fill=\"black\" stroke=\"black\" points=\"219.009,-154.501 222.702,-144.57 213.622,-150.03 219.009,-154.501\"/>\n",
       "<text text-anchor=\"middle\" x=\"176\" y=\"-174.334\" font-family=\"Times,serif\" font-size=\"14.00\">people</text>\n",
       "</g>\n",
       "<!-- 1&#45;&gt;2 -->\n",
       "<g id=\"edge5\" class=\"edge\"><title>1&#45;&gt;2</title>\n",
       "<path fill=\"none\" stroke=\"black\" d=\"M137.01,-129.534C154.937,-129.534 183.445,-129.534 204.558,-129.534\"/>\n",
       "<polygon fill=\"black\" stroke=\"black\" points=\"204.83,-133.034 214.83,-129.534 204.829,-126.034 204.83,-133.034\"/>\n",
       "<text text-anchor=\"middle\" x=\"176\" y=\"-133.334\" font-family=\"Times,serif\" font-size=\"14.00\">peopled</text>\n",
       "</g>\n",
       "<!-- 1&#45;&gt;2 -->\n",
       "<g id=\"edge6\" class=\"edge\"><title>1&#45;&gt;2</title>\n",
       "<path fill=\"none\" stroke=\"black\" d=\"M133.909,-119.073C139.274,-115.649 145.645,-112.278 152,-110.534 172.572,-104.887 179.428,-104.887 200,-110.534 203.078,-111.379 206.16,-112.605 209.13,-114.035\"/>\n",
       "<polygon fill=\"black\" stroke=\"black\" points=\"207.659,-117.223 218.091,-119.073 211.09,-111.121 207.659,-117.223\"/>\n",
       "<text text-anchor=\"middle\" x=\"176\" y=\"-114.334\" font-family=\"Times,serif\" font-size=\"14.00\">peoples</text>\n",
       "</g>\n",
       "<!-- 1&#45;&gt;2 -->\n",
       "<g id=\"edge7\" class=\"edge\"><title>1&#45;&gt;2</title>\n",
       "<path fill=\"none\" stroke=\"black\" d=\"M127.284,-113.358C132.612,-103.65 140.857,-92.1312 152,-86.5339 171.063,-76.9577 180.937,-76.9577 200,-86.5339 207.835,-90.4695 214.237,-97.3327 219.2,-104.436\"/>\n",
       "<polygon fill=\"black\" stroke=\"black\" points=\"216.481,-106.693 224.716,-113.358 222.435,-103.012 216.481,-106.693\"/>\n",
       "<text text-anchor=\"middle\" x=\"176\" y=\"-90.3339\" font-family=\"Times,serif\" font-size=\"14.00\">peopling</text>\n",
       "</g>\n",
       "<!-- 3 -->\n",
       "<g id=\"node4\" class=\"node\"><title>3</title>\n",
       "<ellipse fill=\"none\" stroke=\"black\" cx=\"340\" cy=\"-129.534\" rx=\"18\" ry=\"18\"/>\n",
       "<text text-anchor=\"middle\" x=\"340\" y=\"-125.834\" font-family=\"Times,serif\" font-size=\"14.00\">3</text>\n",
       "</g>\n",
       "<!-- 2&#45;&gt;3 -->\n",
       "<g id=\"edge8\" class=\"edge\"><title>2&#45;&gt;3</title>\n",
       "<path fill=\"none\" stroke=\"black\" d=\"M243.298,-144.57C248.858,-152.077 256.658,-160.417 266,-164.534 282.675,-171.882 290.325,-171.882 307,-164.534 313.131,-161.832 318.598,-157.312 323.203,-152.401\"/>\n",
       "<polygon fill=\"black\" stroke=\"black\" points=\"326.009,-154.501 329.702,-144.57 320.622,-150.03 326.009,-154.501\"/>\n",
       "<text text-anchor=\"middle\" x=\"286.5\" y=\"-173.334\" font-family=\"Times,serif\" font-size=\"14.00\">start</text>\n",
       "</g>\n",
       "<!-- 2&#45;&gt;3 -->\n",
       "<g id=\"edge9\" class=\"edge\"><title>2&#45;&gt;3</title>\n",
       "<path fill=\"none\" stroke=\"black\" d=\"M251.339,-129.534C267.775,-129.534 292.722,-129.534 311.806,-129.534\"/>\n",
       "<polygon fill=\"black\" stroke=\"black\" points=\"311.984,-133.034 321.984,-129.534 311.984,-126.034 311.984,-133.034\"/>\n",
       "<text text-anchor=\"middle\" x=\"286.5\" y=\"-133.334\" font-family=\"Times,serif\" font-size=\"14.00\">started</text>\n",
       "</g>\n",
       "<!-- 2&#45;&gt;3 -->\n",
       "<g id=\"edge10\" class=\"edge\"><title>2&#45;&gt;3</title>\n",
       "<path fill=\"none\" stroke=\"black\" d=\"M247.909,-119.073C253.274,-115.649 259.645,-112.278 266,-110.534 283.572,-105.71 289.428,-105.71 307,-110.534 310.078,-111.379 313.16,-112.605 316.13,-114.035\"/>\n",
       "<polygon fill=\"black\" stroke=\"black\" points=\"314.659,-117.223 325.091,-119.073 318.09,-111.121 314.659,-117.223\"/>\n",
       "<text text-anchor=\"middle\" x=\"286.5\" y=\"-114.334\" font-family=\"Times,serif\" font-size=\"14.00\">starting</text>\n",
       "</g>\n",
       "<!-- 2&#45;&gt;3 -->\n",
       "<g id=\"edge11\" class=\"edge\"><title>2&#45;&gt;3</title>\n",
       "<path fill=\"none\" stroke=\"black\" d=\"M241.618,-113.298C246.988,-103.903 255.157,-92.9043 266,-87.5339 282.329,-79.4464 290.671,-79.4464 307,-87.5339 314.624,-91.3099 320.926,-97.8685 325.863,-104.696\"/>\n",
       "<polygon fill=\"black\" stroke=\"black\" points=\"323.036,-106.771 331.382,-113.298 328.928,-102.991 323.036,-106.771\"/>\n",
       "<text text-anchor=\"middle\" x=\"286.5\" y=\"-91.3339\" font-family=\"Times,serif\" font-size=\"14.00\">starts</text>\n",
       "</g>\n",
       "<!-- 4 -->\n",
       "<g id=\"node5\" class=\"node\"><title>4</title>\n",
       "<ellipse fill=\"none\" stroke=\"black\" cx=\"443\" cy=\"-129.534\" rx=\"18\" ry=\"18\"/>\n",
       "<text text-anchor=\"middle\" x=\"443\" y=\"-125.834\" font-family=\"Times,serif\" font-size=\"14.00\">4</text>\n",
       "</g>\n",
       "<!-- 3&#45;&gt;4 -->\n",
       "<g id=\"edge12\" class=\"edge\"><title>3&#45;&gt;4</title>\n",
       "<path fill=\"none\" stroke=\"black\" d=\"M341.654,-147.712C343.494,-187.172 350.182,-278.652 373,-297.534 385.669,-308.018 397.331,-308.018 410,-297.534 431.035,-280.127 438.362,-201.023 440.821,-157.854\"/>\n",
       "<polygon fill=\"black\" stroke=\"black\" points=\"444.324,-157.88 441.346,-147.712 437.333,-157.518 444.324,-157.88\"/>\n",
       "<text text-anchor=\"middle\" x=\"391.5\" y=\"-308.334\" font-family=\"Times,serif\" font-size=\"14.00\">&lt;unk&gt;</text>\n",
       "</g>\n",
       "<!-- 3&#45;&gt;4 -->\n",
       "<g id=\"edge13\" class=\"edge\"><title>3&#45;&gt;4</title>\n",
       "<path fill=\"none\" stroke=\"black\" d=\"M342.735,-147.518C346.267,-179.872 355.483,-245.806 373,-259.534 385.943,-269.677 397.057,-269.677 410,-259.534 425.806,-247.147 434.854,-192.252 439.066,-157.878\"/>\n",
       "<polygon fill=\"black\" stroke=\"black\" points=\"442.592,-157.855 440.265,-147.518 435.638,-157.049 442.592,-157.855\"/>\n",
       "<text text-anchor=\"middle\" x=\"391.5\" y=\"-270.334\" font-family=\"Times,serif\" font-size=\"14.00\">about</text>\n",
       "</g>\n",
       "<!-- 3&#45;&gt;4 -->\n",
       "<g id=\"edge14\" class=\"edge\"><title>3&#45;&gt;4</title>\n",
       "<path fill=\"none\" stroke=\"black\" d=\"M341.446,-147.684C343.071,-169.358 349.432,-204.778 373,-221.534 386.403,-231.062 396.597,-231.062 410,-221.534 430.162,-207.2 437.731,-179.207 440.515,-157.846\"/>\n",
       "<polygon fill=\"black\" stroke=\"black\" points=\"444.018,-157.989 441.554,-147.684 437.055,-157.276 444.018,-157.989\"/>\n",
       "<text text-anchor=\"middle\" x=\"391.5\" y=\"-232.334\" font-family=\"Times,serif\" font-size=\"14.00\">at</text>\n",
       "</g>\n",
       "<!-- 3&#45;&gt;4 -->\n",
       "<g id=\"edge15\" class=\"edge\"><title>3&#45;&gt;4</title>\n",
       "<path fill=\"none\" stroke=\"black\" d=\"M345.99,-146.513C350.712,-159.201 359.176,-175.657 373,-183.534 387.288,-191.675 395.712,-191.675 410,-183.534 420.584,-177.503 428.026,-166.443 433.052,-155.896\"/>\n",
       "<polygon fill=\"black\" stroke=\"black\" points=\"436.348,-157.087 437.01,-146.513 429.898,-154.367 436.348,-157.087\"/>\n",
       "<text text-anchor=\"middle\" x=\"391.5\" y=\"-193.334\" font-family=\"Times,serif\" font-size=\"14.00\">by</text>\n",
       "</g>\n",
       "<!-- 3&#45;&gt;4 -->\n",
       "<g id=\"edge16\" class=\"edge\"><title>3&#45;&gt;4</title>\n",
       "<path fill=\"none\" stroke=\"black\" d=\"M355.752,-138.697C360.998,-141.463 367.076,-144.135 373,-145.534 389.005,-149.312 393.995,-149.312 410,-145.534 412.684,-144.9 415.4,-144.005 418.056,-142.958\"/>\n",
       "<polygon fill=\"black\" stroke=\"black\" points=\"419.648,-146.078 427.248,-138.697 416.703,-139.727 419.648,-146.078\"/>\n",
       "<text text-anchor=\"middle\" x=\"391.5\" y=\"-151.334\" font-family=\"Times,serif\" font-size=\"14.00\">for</text>\n",
       "</g>\n",
       "<!-- 3&#45;&gt;4 -->\n",
       "<g id=\"edge17\" class=\"edge\"><title>3&#45;&gt;4</title>\n",
       "<path fill=\"none\" stroke=\"black\" d=\"M357.903,-127.022C362.765,-126.408 368.083,-125.84 373,-125.534 389.413,-124.512 393.587,-124.512 410,-125.534 411.537,-125.63 413.112,-125.751 414.701,-125.891\"/>\n",
       "<polygon fill=\"black\" stroke=\"black\" points=\"414.777,-129.42 425.097,-127.022 415.535,-122.461 414.777,-129.42\"/>\n",
       "<text text-anchor=\"middle\" x=\"391.5\" y=\"-129.334\" font-family=\"Times,serif\" font-size=\"14.00\">from</text>\n",
       "</g>\n",
       "<!-- 3&#45;&gt;4 -->\n",
       "<g id=\"edge18\" class=\"edge\"><title>3&#45;&gt;4</title>\n",
       "<path fill=\"none\" stroke=\"black\" d=\"M353.281,-117.376C358.826,-112.72 365.753,-107.95 373,-105.534 388.601,-100.334 394.399,-100.334 410,-105.534 413.963,-106.855 417.831,-108.88 421.429,-111.206\"/>\n",
       "<polygon fill=\"black\" stroke=\"black\" points=\"419.607,-114.213 429.719,-117.376 423.786,-108.598 419.607,-114.213\"/>\n",
       "<text text-anchor=\"middle\" x=\"391.5\" y=\"-109.334\" font-family=\"Times,serif\" font-size=\"14.00\">in</text>\n",
       "</g>\n",
       "<!-- 3&#45;&gt;4 -->\n",
       "<g id=\"edge19\" class=\"edge\"><title>3&#45;&gt;4</title>\n",
       "<path fill=\"none\" stroke=\"black\" d=\"M347.453,-112.842C352.6,-102.063 360.958,-88.9031 373,-82.5339 387.536,-74.8453 395.464,-74.8453 410,-82.5339 418.843,-87.2113 425.7,-95.551 430.757,-103.92\"/>\n",
       "<polygon fill=\"black\" stroke=\"black\" points=\"427.733,-105.687 435.547,-112.842 433.9,-102.376 427.733,-105.687\"/>\n",
       "<text text-anchor=\"middle\" x=\"391.5\" y=\"-86.3339\" font-family=\"Times,serif\" font-size=\"14.00\">of</text>\n",
       "</g>\n",
       "<!-- 3&#45;&gt;4 -->\n",
       "<g id=\"edge20\" class=\"edge\"><title>3&#45;&gt;4</title>\n",
       "<path fill=\"none\" stroke=\"black\" d=\"M343.524,-111.703C346.973,-94.7643 354.944,-70.2012 373,-58.5339 386.812,-49.6091 396.188,-49.6091 410,-58.5339 424.812,-68.1047 432.837,-86.3533 437.146,-101.953\"/>\n",
       "<polygon fill=\"black\" stroke=\"black\" points=\"433.748,-102.79 439.476,-111.703 440.556,-101.164 433.748,-102.79\"/>\n",
       "<text text-anchor=\"middle\" x=\"391.5\" y=\"-62.3339\" font-family=\"Times,serif\" font-size=\"14.00\">on</text>\n",
       "</g>\n",
       "<!-- 3&#45;&gt;4 -->\n",
       "<g id=\"edge21\" class=\"edge\"><title>3&#45;&gt;4</title>\n",
       "<path fill=\"none\" stroke=\"black\" d=\"M341.135,-111.408C342.398,-88.8986 348.344,-51.305 373,-33.5339 386.34,-23.9186 396.66,-23.9186 410,-33.5339 431.285,-48.8753 438.626,-78.9896 441.049,-101.419\"/>\n",
       "<polygon fill=\"black\" stroke=\"black\" points=\"437.562,-101.726 441.865,-111.408 444.539,-101.156 437.562,-101.726\"/>\n",
       "<text text-anchor=\"middle\" x=\"391.5\" y=\"-37.3339\" font-family=\"Times,serif\" font-size=\"14.00\">to</text>\n",
       "</g>\n",
       "<!-- 3&#45;&gt;4 -->\n",
       "<g id=\"edge22\" class=\"edge\"><title>3&#45;&gt;4</title>\n",
       "<path fill=\"none\" stroke=\"black\" d=\"M343.062,-111.436C346.982,-80.6475 356.617,-20.1741 373,-7.53388 386.02,2.51129 396.98,2.51129 410,-7.53388 424.719,-18.8903 433.991,-68.8572 438.566,-101.218\"/>\n",
       "<polygon fill=\"black\" stroke=\"black\" points=\"435.138,-101.991 439.938,-111.436 442.076,-101.059 435.138,-101.991\"/>\n",
       "<text text-anchor=\"middle\" x=\"391.5\" y=\"-11.3339\" font-family=\"Times,serif\" font-size=\"14.00\">with</text>\n",
       "</g>\n",
       "<!-- 5 -->\n",
       "<g id=\"node6\" class=\"node\"><title>5</title>\n",
       "<ellipse fill=\"none\" stroke=\"black\" cx=\"546\" cy=\"-129.534\" rx=\"18\" ry=\"18\"/>\n",
       "<text text-anchor=\"middle\" x=\"546\" y=\"-125.834\" font-family=\"Times,serif\" font-size=\"14.00\">5</text>\n",
       "</g>\n",
       "<!-- 4&#45;&gt;5 -->\n",
       "<g id=\"edge23\" class=\"edge\"><title>4&#45;&gt;5</title>\n",
       "<path fill=\"none\" stroke=\"black\" d=\"M448.99,-146.513C453.712,-159.201 462.176,-175.657 476,-183.534 490.288,-191.675 498.712,-191.675 513,-183.534 523.584,-177.503 531.026,-166.443 536.052,-155.896\"/>\n",
       "<polygon fill=\"black\" stroke=\"black\" points=\"539.348,-157.087 540.01,-146.513 532.898,-154.367 539.348,-157.087\"/>\n",
       "<text text-anchor=\"middle\" x=\"494.5\" y=\"-193.334\" font-family=\"Times,serif\" font-size=\"14.00\">age</text>\n",
       "</g>\n",
       "<!-- 4&#45;&gt;5 -->\n",
       "<g id=\"edge24\" class=\"edge\"><title>4&#45;&gt;5</title>\n",
       "<path fill=\"none\" stroke=\"black\" d=\"M458.752,-138.697C463.998,-141.463 470.076,-144.135 476,-145.534 492.005,-149.312 496.995,-149.312 513,-145.534 515.684,-144.9 518.4,-144.005 521.056,-142.958\"/>\n",
       "<polygon fill=\"black\" stroke=\"black\" points=\"522.648,-146.078 530.248,-138.697 519.703,-139.727 522.648,-146.078\"/>\n",
       "<text text-anchor=\"middle\" x=\"494.5\" y=\"-151.334\" font-family=\"Times,serif\" font-size=\"14.00\">aged</text>\n",
       "</g>\n",
       "<!-- 4&#45;&gt;5 -->\n",
       "<g id=\"edge25\" class=\"edge\"><title>4&#45;&gt;5</title>\n",
       "<path fill=\"none\" stroke=\"black\" d=\"M460.903,-127.022C465.765,-126.408 471.083,-125.84 476,-125.534 492.413,-124.512 496.587,-124.512 513,-125.534 514.537,-125.63 516.112,-125.751 517.701,-125.891\"/>\n",
       "<polygon fill=\"black\" stroke=\"black\" points=\"517.777,-129.42 528.097,-127.022 518.535,-122.461 517.777,-129.42\"/>\n",
       "<text text-anchor=\"middle\" x=\"494.5\" y=\"-129.334\" font-family=\"Times,serif\" font-size=\"14.00\">ageing</text>\n",
       "</g>\n",
       "<!-- 4&#45;&gt;5 -->\n",
       "<g id=\"edge26\" class=\"edge\"><title>4&#45;&gt;5</title>\n",
       "<path fill=\"none\" stroke=\"black\" d=\"M456.281,-117.376C461.826,-112.72 468.753,-107.95 476,-105.534 491.601,-100.334 497.399,-100.334 513,-105.534 516.963,-106.855 520.831,-108.88 524.429,-111.206\"/>\n",
       "<polygon fill=\"black\" stroke=\"black\" points=\"522.607,-114.213 532.719,-117.376 526.786,-108.598 522.607,-114.213\"/>\n",
       "<text text-anchor=\"middle\" x=\"494.5\" y=\"-109.334\" font-family=\"Times,serif\" font-size=\"14.00\">ages</text>\n",
       "</g>\n",
       "<!-- 4&#45;&gt;5 -->\n",
       "<g id=\"edge27\" class=\"edge\"><title>4&#45;&gt;5</title>\n",
       "<path fill=\"none\" stroke=\"black\" d=\"M450.453,-112.842C455.6,-102.063 463.958,-88.9031 476,-82.5339 490.536,-74.8453 498.464,-74.8453 513,-82.5339 521.843,-87.2113 528.7,-95.551 533.757,-103.92\"/>\n",
       "<polygon fill=\"black\" stroke=\"black\" points=\"530.733,-105.687 538.547,-112.842 536.9,-102.376 530.733,-105.687\"/>\n",
       "<text text-anchor=\"middle\" x=\"494.5\" y=\"-86.3339\" font-family=\"Times,serif\" font-size=\"14.00\">aging</text>\n",
       "</g>\n",
       "<!-- 6 -->\n",
       "<g id=\"node7\" class=\"node\"><title>6</title>\n",
       "<ellipse fill=\"none\" stroke=\"black\" cx=\"616\" cy=\"-129.534\" rx=\"18\" ry=\"18\"/>\n",
       "<text text-anchor=\"middle\" x=\"616\" y=\"-125.834\" font-family=\"Times,serif\" font-size=\"14.00\">6</text>\n",
       "</g>\n",
       "<!-- 5&#45;&gt;6 -->\n",
       "<g id=\"edge28\" class=\"edge\"><title>5&#45;&gt;6</title>\n",
       "<path fill=\"none\" stroke=\"black\" d=\"M564.159,-129.534C571.192,-129.534 579.511,-129.534 587.361,-129.534\"/>\n",
       "<polygon fill=\"black\" stroke=\"black\" points=\"587.61,-133.034 597.61,-129.534 587.61,-126.034 587.61,-133.034\"/>\n",
       "<text text-anchor=\"middle\" x=\"581\" y=\"-133.334\" font-family=\"Times,serif\" font-size=\"14.00\">,</text>\n",
       "</g>\n",
       "<!-- 7 -->\n",
       "<g id=\"node8\" class=\"node\"><title>7</title>\n",
       "<ellipse fill=\"none\" stroke=\"black\" cx=\"719\" cy=\"-129.534\" rx=\"18\" ry=\"18\"/>\n",
       "<text text-anchor=\"middle\" x=\"719\" y=\"-125.834\" font-family=\"Times,serif\" font-size=\"14.00\">7</text>\n",
       "</g>\n",
       "<!-- 6&#45;&gt;7 -->\n",
       "<g id=\"edge29\" class=\"edge\"><title>6&#45;&gt;7</title>\n",
       "<path fill=\"none\" stroke=\"black\" d=\"M634.133,-129.534C649.586,-129.534 672.584,-129.534 690.591,-129.534\"/>\n",
       "<polygon fill=\"black\" stroke=\"black\" points=\"690.783,-133.034 700.783,-129.534 690.783,-126.034 690.783,-133.034\"/>\n",
       "<text text-anchor=\"middle\" x=\"667.5\" y=\"-133.334\" font-family=\"Times,serif\" font-size=\"14.00\">&lt;unk&gt;</text>\n",
       "</g>\n",
       "<!-- 6&#45;&gt;7 -->\n",
       "<g id=\"edge30\" class=\"edge\"><title>6&#45;&gt;7</title>\n",
       "<path fill=\"none\" stroke=\"black\" d=\"M630.909,-119.073C636.274,-115.649 642.645,-112.278 649,-110.534 664.858,-106.181 670.142,-106.181 686,-110.534 689.078,-111.379 692.16,-112.605 695.13,-114.035\"/>\n",
       "<polygon fill=\"black\" stroke=\"black\" points=\"693.659,-117.223 704.091,-119.073 697.09,-111.121 693.659,-117.223\"/>\n",
       "<text text-anchor=\"middle\" x=\"667.5\" y=\"-114.334\" font-family=\"Times,serif\" font-size=\"14.00\">many</text>\n",
       "</g>\n",
       "<!-- 8 -->\n",
       "<g id=\"node9\" class=\"node\"><title>8</title>\n",
       "<ellipse fill=\"none\" stroke=\"black\" cx=\"831\" cy=\"-129.534\" rx=\"18\" ry=\"18\"/>\n",
       "<text text-anchor=\"middle\" x=\"831\" y=\"-125.834\" font-family=\"Times,serif\" font-size=\"14.00\">8</text>\n",
       "</g>\n",
       "<!-- 7&#45;&gt;8 -->\n",
       "<g id=\"edge31\" class=\"edge\"><title>7&#45;&gt;8</title>\n",
       "<path fill=\"none\" stroke=\"black\" d=\"M729.298,-144.57C734.858,-152.077 742.658,-160.417 752,-164.534 770.708,-172.778 779.292,-172.778 798,-164.534 804.131,-161.832 809.598,-157.312 814.203,-152.401\"/>\n",
       "<polygon fill=\"black\" stroke=\"black\" points=\"817.009,-154.501 820.702,-144.57 811.622,-150.03 817.009,-154.501\"/>\n",
       "<text text-anchor=\"middle\" x=\"775\" y=\"-174.334\" font-family=\"Times,serif\" font-size=\"14.00\">&lt;unk&gt;</text>\n",
       "</g>\n",
       "<!-- 7&#45;&gt;8 -->\n",
       "<g id=\"edge32\" class=\"edge\"><title>7&#45;&gt;8</title>\n",
       "<path fill=\"none\" stroke=\"black\" d=\"M737.188,-129.534C754.785,-129.534 782.393,-129.534 802.929,-129.534\"/>\n",
       "<polygon fill=\"black\" stroke=\"black\" points=\"802.933,-133.034 812.933,-129.534 802.933,-126.034 802.933,-133.034\"/>\n",
       "<text text-anchor=\"middle\" x=\"775\" y=\"-133.334\" font-family=\"Times,serif\" font-size=\"14.00\">disease</text>\n",
       "</g>\n",
       "<!-- 7&#45;&gt;8 -->\n",
       "<g id=\"edge33\" class=\"edge\"><title>7&#45;&gt;8</title>\n",
       "<path fill=\"none\" stroke=\"black\" d=\"M733.909,-119.073C739.274,-115.649 745.645,-112.278 752,-110.534 771.715,-105.122 778.285,-105.122 798,-110.534 801.078,-111.379 804.16,-112.605 807.13,-114.035\"/>\n",
       "<polygon fill=\"black\" stroke=\"black\" points=\"805.659,-117.223 816.091,-119.073 809.09,-111.121 805.659,-117.223\"/>\n",
       "<text text-anchor=\"middle\" x=\"775\" y=\"-114.334\" font-family=\"Times,serif\" font-size=\"14.00\">diseased</text>\n",
       "</g>\n",
       "<!-- 7&#45;&gt;8 -->\n",
       "<g id=\"edge34\" class=\"edge\"><title>7&#45;&gt;8</title>\n",
       "<path fill=\"none\" stroke=\"black\" d=\"M727.284,-113.358C732.612,-103.65 740.857,-92.1312 752,-86.5339 770.269,-77.3567 779.731,-77.3567 798,-86.5339 805.835,-90.4695 812.237,-97.3327 817.2,-104.436\"/>\n",
       "<polygon fill=\"black\" stroke=\"black\" points=\"814.481,-106.693 822.716,-113.358 820.435,-103.012 814.481,-106.693\"/>\n",
       "<text text-anchor=\"middle\" x=\"775\" y=\"-90.3339\" font-family=\"Times,serif\" font-size=\"14.00\">diseases</text>\n",
       "</g>\n",
       "<!-- 9 -->\n",
       "<g id=\"node10\" class=\"node\"><title>9</title>\n",
       "<ellipse fill=\"none\" stroke=\"black\" cx=\"940\" cy=\"-129.534\" rx=\"18\" ry=\"18\"/>\n",
       "<text text-anchor=\"middle\" x=\"940\" y=\"-125.834\" font-family=\"Times,serif\" font-size=\"14.00\">9</text>\n",
       "</g>\n",
       "<!-- 8&#45;&gt;9 -->\n",
       "<g id=\"edge35\" class=\"edge\"><title>8&#45;&gt;9</title>\n",
       "<path fill=\"none\" stroke=\"black\" d=\"M832.446,-147.684C834.071,-169.358 840.432,-204.778 864,-221.534 879.576,-232.607 891.424,-232.607 907,-221.534 927.162,-207.2 934.731,-179.207 937.515,-157.846\"/>\n",
       "<polygon fill=\"black\" stroke=\"black\" points=\"941.018,-157.989 938.554,-147.684 934.055,-157.276 941.018,-157.989\"/>\n",
       "<text text-anchor=\"middle\" x=\"885.5\" y=\"-233.334\" font-family=\"Times,serif\" font-size=\"14.00\">will</text>\n",
       "</g>\n",
       "<!-- 8&#45;&gt;9 -->\n",
       "<g id=\"edge36\" class=\"edge\"><title>8&#45;&gt;9</title>\n",
       "<path fill=\"none\" stroke=\"black\" d=\"M836.99,-146.513C841.712,-159.201 850.176,-175.657 864,-183.534 880.605,-192.995 890.395,-192.995 907,-183.534 917.584,-177.503 925.026,-166.443 930.052,-155.896\"/>\n",
       "<polygon fill=\"black\" stroke=\"black\" points=\"933.348,-157.087 934.01,-146.513 926.898,-154.367 933.348,-157.087\"/>\n",
       "<text text-anchor=\"middle\" x=\"885.5\" y=\"-194.334\" font-family=\"Times,serif\" font-size=\"14.00\">willed</text>\n",
       "</g>\n",
       "<!-- 8&#45;&gt;9 -->\n",
       "<g id=\"edge37\" class=\"edge\"><title>8&#45;&gt;9</title>\n",
       "<path fill=\"none\" stroke=\"black\" d=\"M846.752,-138.697C851.998,-141.463 858.076,-144.135 864,-145.534 882.6,-149.925 888.4,-149.925 907,-145.534 909.684,-144.9 912.4,-144.005 915.056,-142.958\"/>\n",
       "<polygon fill=\"black\" stroke=\"black\" points=\"916.648,-146.078 924.248,-138.697 913.703,-139.727 916.648,-146.078\"/>\n",
       "<text text-anchor=\"middle\" x=\"885.5\" y=\"-152.334\" font-family=\"Times,serif\" font-size=\"14.00\">willing</text>\n",
       "</g>\n",
       "<!-- 8&#45;&gt;9 -->\n",
       "<g id=\"edge38\" class=\"edge\"><title>8&#45;&gt;9</title>\n",
       "<path fill=\"none\" stroke=\"black\" d=\"M848.903,-127.022C853.765,-126.408 859.083,-125.84 864,-125.534 883.074,-124.346 887.926,-124.346 907,-125.534 908.537,-125.63 910.112,-125.751 911.701,-125.891\"/>\n",
       "<polygon fill=\"black\" stroke=\"black\" points=\"911.777,-129.42 922.097,-127.022 912.535,-122.461 911.777,-129.42\"/>\n",
       "<text text-anchor=\"middle\" x=\"885.5\" y=\"-129.334\" font-family=\"Times,serif\" font-size=\"14.00\">wills</text>\n",
       "</g>\n",
       "<!-- 8&#45;&gt;9 -->\n",
       "<g id=\"edge39\" class=\"edge\"><title>8&#45;&gt;9</title>\n",
       "<path fill=\"none\" stroke=\"black\" d=\"M844.281,-117.376C849.826,-112.72 856.753,-107.95 864,-105.534 882.13,-99.4904 888.87,-99.4904 907,-105.534 910.963,-106.855 914.831,-108.88 918.429,-111.206\"/>\n",
       "<polygon fill=\"black\" stroke=\"black\" points=\"916.607,-114.213 926.719,-117.376 920.786,-108.598 916.607,-114.213\"/>\n",
       "<text text-anchor=\"middle\" x=\"885.5\" y=\"-109.334\" font-family=\"Times,serif\" font-size=\"14.00\">wilt</text>\n",
       "</g>\n",
       "<!-- 8&#45;&gt;9 -->\n",
       "<g id=\"edge40\" class=\"edge\"><title>8&#45;&gt;9</title>\n",
       "<path fill=\"none\" stroke=\"black\" d=\"M838.142,-112.974C843.226,-101.885 851.638,-88.1501 864,-81.5339 880.85,-72.5161 890.15,-72.5161 907,-81.5339 916.175,-86.4443 923.174,-95.2762 928.252,-104.037\"/>\n",
       "<polygon fill=\"black\" stroke=\"black\" points=\"925.166,-105.689 932.858,-112.974 931.388,-102.482 925.166,-105.689\"/>\n",
       "<text text-anchor=\"middle\" x=\"885.5\" y=\"-85.3339\" font-family=\"Times,serif\" font-size=\"14.00\">would</text>\n",
       "</g>\n",
       "<!-- 8&#45;&gt;9 -->\n",
       "<g id=\"edge41\" class=\"edge\"><title>8&#45;&gt;9</title>\n",
       "<path fill=\"none\" stroke=\"black\" d=\"M834.306,-111.546C837.6,-94.1334 845.466,-68.6458 864,-56.5339 879.998,-46.0792 891.002,-46.0792 907,-56.5339 922.204,-66.4694 930.229,-85.4057 934.44,-101.502\"/>\n",
       "<polygon fill=\"black\" stroke=\"black\" points=\"931.089,-102.555 936.694,-111.546 937.92,-101.022 931.089,-102.555\"/>\n",
       "<text text-anchor=\"middle\" x=\"885.5\" y=\"-60.3339\" font-family=\"Times,serif\" font-size=\"14.00\">wouldst</text>\n",
       "</g>\n",
       "<!-- 10 -->\n",
       "<g id=\"node11\" class=\"node\"><title>10</title>\n",
       "<ellipse fill=\"none\" stroke=\"black\" cx=\"1058.5\" cy=\"-129.534\" rx=\"19.4965\" ry=\"19.4965\"/>\n",
       "<text text-anchor=\"middle\" x=\"1058.5\" y=\"-125.834\" font-family=\"Times,serif\" font-size=\"14.00\">10</text>\n",
       "</g>\n",
       "<!-- 9&#45;&gt;10 -->\n",
       "<g id=\"edge42\" class=\"edge\"><title>9&#45;&gt;10</title>\n",
       "<path fill=\"none\" stroke=\"black\" d=\"M950.298,-144.57C955.858,-152.077 963.658,-160.417 973,-164.534 993.742,-173.674 1003.16,-173.437 1024,-164.534 1030.09,-161.932 1035.6,-157.619 1040.32,-152.894\"/>\n",
       "<polygon fill=\"black\" stroke=\"black\" points=\"1043.02,-155.12 1047.04,-145.316 1037.79,-150.476 1043.02,-155.12\"/>\n",
       "<text text-anchor=\"middle\" x=\"998.5\" y=\"-174.334\" font-family=\"Times,serif\" font-size=\"14.00\">surface</text>\n",
       "</g>\n",
       "<!-- 9&#45;&gt;10 -->\n",
       "<g id=\"edge43\" class=\"edge\"><title>9&#45;&gt;10</title>\n",
       "<path fill=\"none\" stroke=\"black\" d=\"M958.19,-129.534C976.683,-129.534 1006.41,-129.534 1028.53,-129.534\"/>\n",
       "<polygon fill=\"black\" stroke=\"black\" points=\"1028.69,-133.034 1038.69,-129.534 1028.69,-126.034 1028.69,-133.034\"/>\n",
       "<text text-anchor=\"middle\" x=\"998.5\" y=\"-133.334\" font-family=\"Times,serif\" font-size=\"14.00\">surfaced</text>\n",
       "</g>\n",
       "<!-- 9&#45;&gt;10 -->\n",
       "<g id=\"edge44\" class=\"edge\"><title>9&#45;&gt;10</title>\n",
       "<path fill=\"none\" stroke=\"black\" d=\"M954.909,-119.073C960.274,-115.649 966.645,-112.278 973,-110.534 994.858,-104.534 1002.08,-104.751 1024,-110.534 1027.07,-111.344 1030.15,-112.506 1033.14,-113.863\"/>\n",
       "<polygon fill=\"black\" stroke=\"black\" points=\"1031.73,-117.08 1042.21,-118.665 1035.01,-110.894 1031.73,-117.08\"/>\n",
       "<text text-anchor=\"middle\" x=\"998.5\" y=\"-114.334\" font-family=\"Times,serif\" font-size=\"14.00\">surfaces</text>\n",
       "</g>\n",
       "<!-- 9&#45;&gt;10 -->\n",
       "<g id=\"edge45\" class=\"edge\"><title>9&#45;&gt;10</title>\n",
       "<path fill=\"none\" stroke=\"black\" d=\"M948.284,-113.358C953.612,-103.65 961.857,-92.1312 973,-86.5339 993.255,-76.3592 1003.63,-76.5832 1024,-86.5339 1031.65,-90.2728 1038.06,-96.6974 1043.16,-103.457\"/>\n",
       "<polygon fill=\"black\" stroke=\"black\" points=\"1040.43,-105.67 1048.91,-112.022 1046.24,-101.768 1040.43,-105.67\"/>\n",
       "<text text-anchor=\"middle\" x=\"998.5\" y=\"-90.3339\" font-family=\"Times,serif\" font-size=\"14.00\">surfacing</text>\n",
       "</g>\n",
       "<!-- 11 -->\n",
       "<g id=\"node12\" class=\"node\"><title>11</title>\n",
       "<ellipse fill=\"none\" stroke=\"black\" cx=\"1165.49\" cy=\"-129.534\" rx=\"19.4965\" ry=\"19.4965\"/>\n",
       "<text text-anchor=\"middle\" x=\"1165.49\" y=\"-125.834\" font-family=\"Times,serif\" font-size=\"14.00\">11</text>\n",
       "</g>\n",
       "<!-- 10&#45;&gt;11 -->\n",
       "<g id=\"edge46\" class=\"edge\"><title>10&#45;&gt;11</title>\n",
       "<path fill=\"none\" stroke=\"black\" d=\"M1069.96,-145.316C1075.77,-152.631 1083.71,-160.569 1093,-164.534 1108.53,-171.168 1115.47,-171.168 1131,-164.534 1137.09,-161.932 1142.6,-157.619 1147.32,-152.894\"/>\n",
       "<polygon fill=\"black\" stroke=\"black\" points=\"1150.02,-155.12 1154.04,-145.316 1144.78,-150.476 1150.02,-155.12\"/>\n",
       "<text text-anchor=\"middle\" x=\"1112\" y=\"-172.334\" font-family=\"Times,serif\" font-size=\"14.00\">up</text>\n",
       "</g>\n",
       "<!-- 10&#45;&gt;11 -->\n",
       "<g id=\"edge47\" class=\"edge\"><title>10&#45;&gt;11</title>\n",
       "<path fill=\"none\" stroke=\"black\" d=\"M1078.27,-129.534C1094.25,-129.534 1117.45,-129.534 1135.76,-129.534\"/>\n",
       "<polygon fill=\"black\" stroke=\"black\" points=\"1135.89,-133.034 1145.89,-129.534 1135.89,-126.034 1135.89,-133.034\"/>\n",
       "<text text-anchor=\"middle\" x=\"1112\" y=\"-133.334\" font-family=\"Times,serif\" font-size=\"14.00\">upped</text>\n",
       "</g>\n",
       "<!-- 10&#45;&gt;11 -->\n",
       "<g id=\"edge48\" class=\"edge\"><title>10&#45;&gt;11</title>\n",
       "<path fill=\"none\" stroke=\"black\" d=\"M1074.79,-118.665C1080.27,-115.382 1086.66,-112.206 1093,-110.534 1109.33,-106.225 1114.67,-106.225 1131,-110.534 1134.07,-111.344 1137.15,-112.506 1140.13,-113.863\"/>\n",
       "<polygon fill=\"black\" stroke=\"black\" points=\"1138.73,-117.08 1149.21,-118.665 1142,-110.894 1138.73,-117.08\"/>\n",
       "<text text-anchor=\"middle\" x=\"1112\" y=\"-114.334\" font-family=\"Times,serif\" font-size=\"14.00\">upping</text>\n",
       "</g>\n",
       "<!-- 10&#45;&gt;11 -->\n",
       "<g id=\"edge49\" class=\"edge\"><title>10&#45;&gt;11</title>\n",
       "<path fill=\"none\" stroke=\"black\" d=\"M1068.18,-112.419C1073.87,-103.213 1082.24,-92.7134 1093,-87.5339 1108.21,-80.2065 1115.78,-80.2065 1131,-87.5339 1138.56,-91.1757 1144.95,-97.4479 1150.05,-104.051\"/>\n",
       "<polygon fill=\"black\" stroke=\"black\" points=\"1147.26,-106.171 1155.81,-112.419 1153.02,-102.198 1147.26,-106.171\"/>\n",
       "<text text-anchor=\"middle\" x=\"1112\" y=\"-91.3339\" font-family=\"Times,serif\" font-size=\"14.00\">ups</text>\n",
       "</g>\n",
       "<!-- 12 -->\n",
       "<g id=\"node13\" class=\"node\"><title>12</title>\n",
       "<ellipse fill=\"none\" stroke=\"black\" cx=\"1271.49\" cy=\"-129.534\" rx=\"19.4965\" ry=\"19.4965\"/>\n",
       "<text text-anchor=\"middle\" x=\"1271.49\" y=\"-125.834\" font-family=\"Times,serif\" font-size=\"14.00\">12</text>\n",
       "</g>\n",
       "<!-- 11&#45;&gt;12 -->\n",
       "<g id=\"edge50\" class=\"edge\"><title>11&#45;&gt;12</title>\n",
       "<path fill=\"none\" stroke=\"black\" d=\"M1185.09,-129.534C1200.81,-129.534 1223.61,-129.534 1241.69,-129.534\"/>\n",
       "<polygon fill=\"black\" stroke=\"black\" points=\"1241.71,-133.034 1251.71,-129.534 1241.71,-126.034 1241.71,-133.034\"/>\n",
       "<text text-anchor=\"middle\" x=\"1218.49\" y=\"-133.334\" font-family=\"Times,serif\" font-size=\"14.00\">&lt;unk&gt;</text>\n",
       "</g>\n",
       "<!-- 13 -->\n",
       "<g id=\"node14\" class=\"node\"><title>13</title>\n",
       "<ellipse fill=\"none\" stroke=\"black\" cx=\"1348.49\" cy=\"-129.534\" rx=\"19.4968\" ry=\"19.4968\"/>\n",
       "<ellipse fill=\"none\" stroke=\"black\" cx=\"1348.49\" cy=\"-129.534\" rx=\"23.4965\" ry=\"23.4965\"/>\n",
       "<text text-anchor=\"middle\" x=\"1348.49\" y=\"-125.834\" font-family=\"Times,serif\" font-size=\"14.00\">13</text>\n",
       "</g>\n",
       "<!-- 12&#45;&gt;13 -->\n",
       "<g id=\"edge51\" class=\"edge\"><title>12&#45;&gt;13</title>\n",
       "<path fill=\"none\" stroke=\"black\" d=\"M1291.03,-129.534C1298.23,-129.534 1306.69,-129.534 1314.84,-129.534\"/>\n",
       "<polygon fill=\"black\" stroke=\"black\" points=\"1314.88,-133.034 1324.88,-129.534 1314.88,-126.034 1314.88,-133.034\"/>\n",
       "<text text-anchor=\"middle\" x=\"1307.99\" y=\"-133.334\" font-family=\"Times,serif\" font-size=\"14.00\">.</text>\n",
       "</g>\n",
       "</g>\n",
       "</svg>\n"
      ],
      "text/plain": [
       "<vector Fst at 0x7f64fcf316f8>"
      ]
     },
     "execution_count": 132,
     "metadata": {},
     "output_type": "execute_result"
    }
   ],
   "source": [
    "conll2013_0736 = fst.Fst.read(DIR+'orig/fsts/conll2013/0736.fst')\n",
    "edited_conll2013_0736 = fst.compose(conll2013_0736, tedit).project(project_output=True);\n",
    "tmp = fst.compose(edited_conll2013_0736, LMmap).project(project_output=True)\n",
    "fst.determinize(tmp.set_input_symbols(words_ST).rmepsilon()).minimize()"
   ]
  },
  {
   "cell_type": "markdown",
   "metadata": {},
   "source": [
    "## 2.3. N-Gram Language Model"
   ]
  },
  {
   "cell_type": "markdown",
   "metadata": {},
   "source": [
    "### 2.3.1. Objective\n",
    "\n",
    "* **Probabilistic Approach in GEC**\n",
    "\n",
    ">* A sentence with **less probability** is **more likely to contain grammatical errors**.\n",
    ">* This project uses the **n-gram probability** trained with the **Billion Word Corpus** data.\n",
    "\n",
    "* **1 Billion Word Corpus**"
   ]
  },
  {
   "cell_type": "code",
   "execution_count": 37,
   "metadata": {},
   "outputs": [
    {
     "name": "stdout",
     "output_type": "stream",
     "text": [
      "The U.S. Centers for Disease Control and Prevention initially advised school systems to close if outbreaks occurred , then reversed itself , saying the apparent mildness of the virus meant most schools and day care centers should stay open , even if they had confirmed cases of swine flu .\r\n",
      "When Ms. Winfrey invited Suzanne Somers to share her controversial views about bio-identical hormone treatment on her syndicated show in 2009 , it won Ms. Winfrey a rare dollop of unflattering press , including a Newsweek cover story titled \" Crazy Talk : Oprah , Wacky Cures & You . \"\r\n"
     ]
    }
   ],
   "source": [
    "! head -2 $DIR/BWC/1b.txt"
   ]
  },
  {
   "cell_type": "markdown",
   "metadata": {},
   "source": [
    "* **Objective**\n",
    "\n",
    ">* The n-gram automata can be applied to the candidates to assign sentence probability, based on which the candidates can be compared.\n",
    ">\n",
    ">$$ \\Pi_2(O_n  \\circ T_\\mbox{edit}) \\circ T_\\mbox{LMmap} \\circ G_\\mbox{2}$$ "
   ]
  },
  {
   "cell_type": "markdown",
   "metadata": {},
   "source": [
    "### 2.3.2. Code - Construction of LM\n",
    "* **NOTE:** the codes in this section are not my original work, and were pre-given by Prof. Byrne.\n",
    "* **NOTE:** Completion of the following set of commands would require significantly heavy computational cost. Hence, the n-gram WFSAs were pre-given. The path for the WFSA is `DIR/BWC/1b.oX.devtest.fst`, where `X` should be replaced with the n-gram order. These WFSAs, uses $\\phi$ failure arcs to implement backoff."
   ]
  },
  {
   "cell_type": "markdown",
   "metadata": {},
   "source": [
    "* **Step 1.** Build the 1b 5-gram LM in ARPA format:\n",
    "  * Following command requires [KenLM Toolkit](http://kheafield.com/code/kenlm/). \n",
    "  * Thie command generates the language model `1b.o5.arpa` in ARPA format."
   ]
  },
  {
   "cell_type": "code",
   "execution_count": 38,
   "metadata": {},
   "outputs": [],
   "source": [
    "! mkdir -p tmp/\n",
    "! /homes/wjb31/src/kenlm/build/bin/lmplz -o 5 -S 50% -T tmp/ < $DIR/BWC/1b.txt > 1b.o5.arpa`"
   ]
  },
  {
   "cell_type": "code",
   "execution_count": 39,
   "metadata": {},
   "outputs": [
    {
     "name": "stdout",
     "output_type": "stream",
     "text": [
      "\\data\\\r\n",
      "ngram 1=2425340\r\n",
      "ngram 2=42806073\r\n",
      "ngram 3=192311262\r\n",
      "ngram 4=386644600\r\n",
      "ngram 5=514998902\r\n",
      "\r\n",
      "\\1-grams:\r\n",
      "-7.6736765\t<unk>\t0\r\n",
      "0\t<s>\t-1.9532093\r\n",
      "-2.9462602\t</s>\t0\r\n",
      "-3.5282292\tThe\t-0.37614685\r\n",
      "-3.6051934\tU.S.\t-0.8002914\r\n",
      "-5.0045657\tCenters\t-0.67226076\r\n",
      "-2.5680723\tfor\t-1.1808379\r\n",
      "-5.2290998\tDisease\t-0.47603542\r\n",
      "-4.7897806\tControl\t-0.4883653\r\n",
      "-2.1554835\tand\t-1.2592585\r\n",
      "-5.232552\tPrevention\t-0.40170538\r\n",
      "-3.9288523\tinitially\t-0.7271216\r\n"
     ]
    }
   ],
   "source": [
    "! head -20 $DIR/BWC/1b.o5.arpa"
   ]
  },
  {
   "cell_type": "markdown",
   "metadata": {},
   "source": [
    "* **Step 2.** Extract only the N-Grams for these  tasks\n",
    "  * `1b.o5.arpa` contains probabilities for all the 5-grams found in BWC.\n",
    "  * `DIR/wmap/devtest.vbs` contains the target vocabularies for the corrections\n",
    "  * The following step filters out n-grams that cannot be formed from words on the same line in the `devtest.vbs` file:  "
   ]
  },
  {
   "cell_type": "code",
   "execution_count": 40,
   "metadata": {},
   "outputs": [],
   "source": [
    "! cat $DIR/wmap/devtest.vbs | /homes/wjb31/src/kenlm/build/bin/filter union 1b.o5.arpa 1b.o5.devtest.arpa                                "
   ]
  },
  {
   "cell_type": "markdown",
   "metadata": {},
   "source": [
    "* **Step 3.** N-Gram LMs as WFSAs\n",
    "  * Use the [OpenGRM NGram Library](http://www.opengrm.org/twiki/bin/view/GRM/NGramLibrary) to convert ARPA files to WFSAs."
   ]
  },
  {
   "cell_type": "code",
   "execution_count": 41,
   "metadata": {},
   "outputs": [],
   "source": [
    "# Note that the `grep` and `sed` are only to ensure that the ARPA text file \n",
    "# has one single blank line preceeding each \\n-gram identifier.\n",
    "! grep . $DIR/BWC/1b.o5.devtest.arpa | sed 's,^\\\\,\\n\\\\,' |\\\n",
    "/homes/wjb31/src/openfst/opengrm-ngram-1.3.4/INSTALL_DIR/bin/ngramread \\\n",
    "--symbols=$DIR/wmap/devtest.wmap --ARPA - 1b.o5.devtest.fst "
   ]
  },
  {
   "cell_type": "markdown",
   "metadata": {},
   "source": [
    "* **Result:** N-gram automata of different order\n",
    "   * `DIR/BWC/1b.o6.devtest.fst`\n",
    "   * `DIR/BWC/1b.o5.devtest.fst`\n",
    "   * `DIR/BWC/1b.o4.devtest.fst`\n",
    "   * `DIR/BWC/1b.o3.devtest.fst`\n",
    "   * `DIR/BWC/1b.o2.devtest.fst`\n",
    "   * `DIR/BWC/1b.o1.devtest.fst`   "
   ]
  },
  {
   "cell_type": "code",
   "execution_count": 11,
   "metadata": {},
   "outputs": [],
   "source": [
    "G_o1 = specializer.phi(fst.Fst.read(DIR+'BWC/1b.o1.devtest.fst'), -2, \"never\", True).get() \n",
    "G_o2 = specializer.phi(fst.Fst.read(DIR+'BWC/1b.o2.devtest.fst'), -2, \"never\", True).get() \n",
    "G_o3 = specializer.phi(fst.Fst.read(DIR+'BWC/1b.o3.devtest.fst'), -2, \"never\", True).get()\n",
    "G_o4 = specializer.phi(fst.Fst.read(DIR+'BWC/1b.o4.devtest.fst'), -2, \"never\", True).get()\n",
    "G_o5 = specializer.phi(fst.Fst.read(DIR+'BWC/1b.o5.devtest.fst'), -2, \"never\", True).get()"
   ]
  },
  {
   "cell_type": "markdown",
   "metadata": {},
   "source": [
    "### 2.3.3. Code - Application of LM"
   ]
  },
  {
   "cell_type": "code",
   "execution_count": 30,
   "metadata": {},
   "outputs": [],
   "source": [
    "#############\n",
    "# CONLL2013 #\n",
    "#############\n",
    "\n",
    "! mkdir -p EditAcceptors.1gLM/conll2013/\n",
    "! mkdir -p EditAcceptors.2gLM/conll2013/\n",
    "! mkdir -p EditAcceptors.3gLM/conll2013/\n",
    "! mkdir -p EditAcceptors.4gLM/conll2013/\n",
    "! mkdir -p EditAcceptors.5gLM/conll2013/\n",
    "\n",
    "# list of n-gram language model\n",
    "LM_list = [G_o1, G_o2, G_o3, G_o4, G_o5]\n",
    "\n",
    "idx = 0\n",
    "while True:\n",
    "    idx += 1\n",
    "\n",
    "    # for each original sentence (given as FST),\n",
    "    srcfile = DIR+'orig/fsts/conll2013/%04d.fst' % idx\n",
    "    if (not os.path.isfile(srcfile)):\n",
    "        break\n",
    "    src = fst.Fst.read(srcfile)\n",
    "    \n",
    "    # create a new FST by composing it with the edit transducer and the LMMap transducer    \n",
    "    fst_ = fst.compose(fst.compose(src,tedit).project(project_output=True), LMmap)\n",
    "    \n",
    "    # apply the n-gram language model for n = 1,2,3,4,5\n",
    "    # save the resulting FST in appropriate directory\n",
    "    for i in range(0,5):\n",
    "        tgt = 'EditAcceptors.{0}gLM/conll2013/%04d.fst'.format(i+1)\n",
    "        tgt = tgt % idx\n",
    "        if (not os.path.isfile(tgt)):\n",
    "            tmp = fst.compose(fst_, LM_list[i])\n",
    "            tmp.write(tgt)"
   ]
  },
  {
   "cell_type": "code",
   "execution_count": 26,
   "metadata": {},
   "outputs": [],
   "source": [
    "#############\n",
    "# CONLL2014 #\n",
    "#############\n",
    "\n",
    "! mkdir -p EditAcceptors.1gLM/conll2014.short/\n",
    "! mkdir -p EditAcceptors.2gLM/conll2014.short/\n",
    "! mkdir -p EditAcceptors.3gLM/conll2014.short/\n",
    "! mkdir -p EditAcceptors.4gLM/conll2014.short/\n",
    "! mkdir -p EditAcceptors.5gLM/conll2014.short/\n",
    "\n",
    "idx = 0\n",
    "while True:\n",
    "    idx += 1\n",
    "    srcfile = DIR+'orig/fsts/conll2014.short/%04d.fst' % idx\n",
    "    if (not os.path.isfile(srcfile)):\n",
    "        break\n",
    "    src = fst.Fst.read(srcfile)\n",
    "    fst_ = fst.compose(fst.compose(src,tedit).project(project_output=True), LMmap)\n",
    "    for i in range(0,5):\n",
    "        tgt = 'EditAcceptors.{0}gLM/conll2014.short/%04d.fst'.format(i+1)\n",
    "        tgt = tgt % idx\n",
    "        if (not os.path.isfile(tgt)):\n",
    "            tmp = fst.compose(fst_, LM_list[i])\n",
    "            tmp.write(tgt)"
   ]
  },
  {
   "cell_type": "code",
   "execution_count": 27,
   "metadata": {},
   "outputs": [],
   "source": [
    "#############\n",
    "# JFLEG_DEV #\n",
    "#############\n",
    "\n",
    "! mkdir -p EditAcceptors.1gLM/jfleg_dev/\n",
    "! mkdir -p EditAcceptors.2gLM/jfleg_dev/\n",
    "! mkdir -p EditAcceptors.3gLM/jfleg_dev/\n",
    "! mkdir -p EditAcceptors.4gLM/jfleg_dev/\n",
    "! mkdir -p EditAcceptors.5gLM/jfleg_dev/\n",
    "\n",
    "idx = 0\n",
    "while True:\n",
    "    idx += 1\n",
    "    srcfile = DIR+'orig/fsts/jfleg_dev/%04d.fst' % idx\n",
    "    if (not os.path.isfile(srcfile)):\n",
    "        break\n",
    "    src = fst.Fst.read(srcfile)    \n",
    "    fst_ = fst.compose(fst.compose(src,tedit).project(project_output=True), LMmap)\n",
    "    for i in range(0,5):\n",
    "        tgt = 'EditAcceptors.{0}gLM/jfleg_dev/%04d.fst'.format(i+1)\n",
    "        tgt = tgt % idx\n",
    "        if (not os.path.isfile(tgt)):\n",
    "            tmp = fst.compose(fst_, LM_list[i])\n",
    "            tmp.write(tgt)"
   ]
  },
  {
   "cell_type": "code",
   "execution_count": 28,
   "metadata": {},
   "outputs": [],
   "source": [
    "##############\n",
    "# JFLEG_TEST #\n",
    "##############\n",
    "\n",
    "! mkdir -p EditAcceptors.1gLM/jfleg_test/\n",
    "! mkdir -p EditAcceptors.2gLM/jfleg_test/\n",
    "! mkdir -p EditAcceptors.3gLM/jfleg_test/\n",
    "! mkdir -p EditAcceptors.4gLM/jfleg_test/\n",
    "! mkdir -p EditAcceptors.5gLM/jfleg_test/\n",
    "\n",
    "idx = 0\n",
    "while True:\n",
    "    idx += 1\n",
    "    srcfile = DIR+'orig/fsts/jfleg_test/%04d.fst' % idx\n",
    "    if (not os.path.isfile(srcfile)):\n",
    "        break\n",
    "    src = fst.Fst.read(srcfile)\n",
    "    fst_ = fst.compose(fst.compose(src,tedit).project(project_output=True), LMmap)\n",
    "    for i in range(0,5):\n",
    "        tgt = 'EditAcceptors.{0}gLM/jfleg_test/%04d.fst'.format(i+1)\n",
    "        tgt = tgt % idx\n",
    "        if (not os.path.isfile(tgt)):\n",
    "            tmp = fst.compose(fst_, LM_list[i])\n",
    "            tmp.write(tgt)"
   ]
  },
  {
   "cell_type": "markdown",
   "metadata": {},
   "source": [
    "### 2.3.4. Example of Usage\n",
    "* Since the probability assigned to a word is dependent on the previous word, the sausage structure is lost."
   ]
  },
  {
   "cell_type": "code",
   "execution_count": 134,
   "metadata": {},
   "outputs": [
    {
     "data": {
      "image/svg+xml": [
       "<?xml version=\"1.0\" encoding=\"UTF-8\" standalone=\"no\"?>\n",
       "<!DOCTYPE svg PUBLIC \"-//W3C//DTD SVG 1.1//EN\"\n",
       " \"http://www.w3.org/Graphics/SVG/1.1/DTD/svg11.dtd\">\n",
       "<!-- Generated by graphviz version 2.38.0 (20140413.2041)\n",
       " -->\n",
       "<!-- Title: FST Pages: 1 -->\n",
       "<svg width=\"612pt\" height=\"102pt\"\n",
       " viewBox=\"0.00 0.00 612.00 101.63\" xmlns=\"http://www.w3.org/2000/svg\" xmlns:xlink=\"http://www.w3.org/1999/xlink\">\n",
       "<g id=\"graph0\" class=\"graph\" transform=\"scale(0.273097 0.273097) rotate(0) translate(4 368.136)\">\n",
       "<title>FST</title>\n",
       "<polygon fill=\"white\" stroke=\"none\" points=\"-4,4 -4,-368.136 2236.96,-368.136 2236.96,4 -4,4\"/>\n",
       "<!-- 0 -->\n",
       "<g id=\"node1\" class=\"node\"><title>0</title>\n",
       "<ellipse fill=\"none\" stroke=\"black\" stroke-width=\"2\" cx=\"18\" cy=\"-128.136\" rx=\"18\" ry=\"18\"/>\n",
       "<text text-anchor=\"middle\" x=\"18\" y=\"-124.436\" font-family=\"Times,serif\" font-size=\"14.00\">0</text>\n",
       "</g>\n",
       "<!-- 1 -->\n",
       "<g id=\"node2\" class=\"node\"><title>1</title>\n",
       "<ellipse fill=\"none\" stroke=\"black\" cx=\"164\" cy=\"-158.136\" rx=\"18\" ry=\"18\"/>\n",
       "<text text-anchor=\"middle\" x=\"164\" y=\"-154.436\" font-family=\"Times,serif\" font-size=\"14.00\">1</text>\n",
       "</g>\n",
       "<!-- 0&#45;&gt;1 -->\n",
       "<g id=\"edge1\" class=\"edge\"><title>0&#45;&gt;1</title>\n",
       "<path fill=\"none\" stroke=\"black\" d=\"M35.8005,-131.636C60.5129,-136.785 106.908,-146.45 136.313,-152.577\"/>\n",
       "<polygon fill=\"black\" stroke=\"black\" points=\"135.803,-156.045 146.307,-154.659 137.231,-149.193 135.803,-156.045\"/>\n",
       "<text text-anchor=\"middle\" x=\"91\" y=\"-155.936\" font-family=\"Times,serif\" font-size=\"14.00\">&lt;corr&gt;/36.631</text>\n",
       "</g>\n",
       "<!-- 2 -->\n",
       "<g id=\"node3\" class=\"node\"><title>2</title>\n",
       "<ellipse fill=\"none\" stroke=\"black\" cx=\"409\" cy=\"-104.136\" rx=\"18\" ry=\"18\"/>\n",
       "<text text-anchor=\"middle\" x=\"409\" y=\"-100.436\" font-family=\"Times,serif\" font-size=\"14.00\">2</text>\n",
       "</g>\n",
       "<!-- 0&#45;&gt;2 -->\n",
       "<g id=\"edge2\" class=\"edge\"><title>0&#45;&gt;2</title>\n",
       "<path fill=\"none\" stroke=\"black\" d=\"M36.2168,-127.074C97.6003,-123.287 306.055,-110.426 380.937,-105.806\"/>\n",
       "<polygon fill=\"black\" stroke=\"black\" points=\"381.217,-109.296 390.982,-105.186 380.785,-102.309 381.217,-109.296\"/>\n",
       "<text text-anchor=\"middle\" x=\"232\" y=\"-120.936\" font-family=\"Times,serif\" font-size=\"14.00\">Then/28.69</text>\n",
       "</g>\n",
       "<!-- 3 -->\n",
       "<g id=\"node4\" class=\"node\"><title>3</title>\n",
       "<ellipse fill=\"none\" stroke=\"black\" cx=\"300\" cy=\"-158.136\" rx=\"18\" ry=\"18\"/>\n",
       "<text text-anchor=\"middle\" x=\"300\" y=\"-154.436\" font-family=\"Times,serif\" font-size=\"14.00\">3</text>\n",
       "</g>\n",
       "<!-- 1&#45;&gt;3 -->\n",
       "<g id=\"edge3\" class=\"edge\"><title>1&#45;&gt;3</title>\n",
       "<path fill=\"none\" stroke=\"black\" d=\"M182.244,-158.136C204.858,-158.136 244.797,-158.136 271.581,-158.136\"/>\n",
       "<polygon fill=\"black\" stroke=\"black\" points=\"271.822,-161.636 281.822,-158.136 271.822,-154.636 271.822,-161.636\"/>\n",
       "<text text-anchor=\"middle\" x=\"232\" y=\"-161.936\" font-family=\"Times,serif\" font-size=\"14.00\">then</text>\n",
       "</g>\n",
       "<!-- 4 -->\n",
       "<g id=\"node5\" class=\"node\"><title>4</title>\n",
       "<ellipse fill=\"none\" stroke=\"black\" cx=\"300\" cy=\"-212.136\" rx=\"18\" ry=\"18\"/>\n",
       "<text text-anchor=\"middle\" x=\"300\" y=\"-208.436\" font-family=\"Times,serif\" font-size=\"14.00\">4</text>\n",
       "</g>\n",
       "<!-- 1&#45;&gt;4 -->\n",
       "<g id=\"edge4\" class=\"edge\"><title>1&#45;&gt;4</title>\n",
       "<path fill=\"none\" stroke=\"black\" d=\"M179.633,-167.683C184.97,-170.932 191.136,-174.424 197,-177.136 221.858,-188.632 251.613,-198.419 272.551,-204.695\"/>\n",
       "<polygon fill=\"black\" stroke=\"black\" points=\"271.762,-208.111 282.343,-207.568 273.732,-201.394 271.762,-208.111\"/>\n",
       "<text text-anchor=\"middle\" x=\"232\" y=\"-206.936\" font-family=\"Times,serif\" font-size=\"14.00\">thens/13.561</text>\n",
       "</g>\n",
       "<!-- 11 -->\n",
       "<g id=\"node6\" class=\"node\"><title>11</title>\n",
       "<ellipse fill=\"none\" stroke=\"black\" cx=\"556.498\" cy=\"-150.136\" rx=\"19.4965\" ry=\"19.4965\"/>\n",
       "<text text-anchor=\"middle\" x=\"556.498\" y=\"-146.436\" font-family=\"Times,serif\" font-size=\"14.00\">11</text>\n",
       "</g>\n",
       "<!-- 2&#45;&gt;11 -->\n",
       "<g id=\"edge5\" class=\"edge\"><title>2&#45;&gt;11</title>\n",
       "<path fill=\"none\" stroke=\"black\" d=\"M420.963,-90.4114C426.555,-84.514 433.886,-78.2662 442,-75.1364 475.173,-62.341 492.169,-55.789 522,-75.1364 537.655,-85.2896 546.058,-104.656 550.532,-121.166\"/>\n",
       "<polygon fill=\"black\" stroke=\"black\" points=\"547.142,-122.037 552.841,-130.969 553.955,-120.433 547.142,-122.037\"/>\n",
       "<text text-anchor=\"middle\" x=\"482\" y=\"-78.9364\" font-family=\"Times,serif\" font-size=\"14.00\">&lt;corr&gt;/8.4847</text>\n",
       "</g>\n",
       "<!-- 5 -->\n",
       "<g id=\"node7\" class=\"node\"><title>5</title>\n",
       "<ellipse fill=\"none\" stroke=\"black\" cx=\"556.498\" cy=\"-226.136\" rx=\"18\" ry=\"18\"/>\n",
       "<text text-anchor=\"middle\" x=\"556.498\" y=\"-222.436\" font-family=\"Times,serif\" font-size=\"14.00\">5</text>\n",
       "</g>\n",
       "<!-- 2&#45;&gt;5 -->\n",
       "<g id=\"edge6\" class=\"edge\"><title>2&#45;&gt;5</title>\n",
       "<path fill=\"none\" stroke=\"black\" d=\"M427.193,-103.182C451.486,-102.805 495.807,-105.833 522,-130.136 538.384,-145.339 529.644,-157.031 537,-178.136 539.488,-185.276 542.354,-192.942 545.075,-200.007\"/>\n",
       "<polygon fill=\"black\" stroke=\"black\" points=\"541.999,-201.753 548.897,-209.794 548.52,-199.206 541.999,-201.753\"/>\n",
       "<text text-anchor=\"middle\" x=\"482\" y=\"-134.936\" font-family=\"Times,serif\" font-size=\"14.00\">there</text>\n",
       "</g>\n",
       "<!-- 6 -->\n",
       "<g id=\"node8\" class=\"node\"><title>6</title>\n",
       "<ellipse fill=\"none\" stroke=\"black\" cx=\"409\" cy=\"-158.136\" rx=\"18\" ry=\"18\"/>\n",
       "<text text-anchor=\"middle\" x=\"409\" y=\"-154.436\" font-family=\"Times,serif\" font-size=\"14.00\">6</text>\n",
       "</g>\n",
       "<!-- 3&#45;&gt;6 -->\n",
       "<g id=\"edge7\" class=\"edge\"><title>3&#45;&gt;6</title>\n",
       "<path fill=\"none\" stroke=\"black\" d=\"M318.191,-158.136C335.039,-158.136 360.982,-158.136 380.661,-158.136\"/>\n",
       "<polygon fill=\"black\" stroke=\"black\" points=\"380.851,-161.636 390.851,-158.136 380.851,-154.636 380.851,-161.636\"/>\n",
       "<text text-anchor=\"middle\" x=\"354.5\" y=\"-161.936\" font-family=\"Times,serif\" font-size=\"14.00\">&lt;/corr&gt;</text>\n",
       "</g>\n",
       "<!-- 7 -->\n",
       "<g id=\"node9\" class=\"node\"><title>7</title>\n",
       "<ellipse fill=\"none\" stroke=\"black\" cx=\"409\" cy=\"-212.136\" rx=\"18\" ry=\"18\"/>\n",
       "<text text-anchor=\"middle\" x=\"409\" y=\"-208.436\" font-family=\"Times,serif\" font-size=\"14.00\">7</text>\n",
       "</g>\n",
       "<!-- 4&#45;&gt;7 -->\n",
       "<g id=\"edge8\" class=\"edge\"><title>4&#45;&gt;7</title>\n",
       "<path fill=\"none\" stroke=\"black\" d=\"M318.191,-212.136C335.039,-212.136 360.982,-212.136 380.661,-212.136\"/>\n",
       "<polygon fill=\"black\" stroke=\"black\" points=\"380.851,-215.636 390.851,-212.136 380.851,-208.636 380.851,-215.636\"/>\n",
       "<text text-anchor=\"middle\" x=\"354.5\" y=\"-215.936\" font-family=\"Times,serif\" font-size=\"14.00\">&lt;/corr&gt;</text>\n",
       "</g>\n",
       "<!-- 8 -->\n",
       "<g id=\"node12\" class=\"node\"><title>8</title>\n",
       "<ellipse fill=\"none\" stroke=\"black\" cx=\"656.997\" cy=\"-150.136\" rx=\"18\" ry=\"18\"/>\n",
       "<text text-anchor=\"middle\" x=\"656.997\" y=\"-146.436\" font-family=\"Times,serif\" font-size=\"14.00\">8</text>\n",
       "</g>\n",
       "<!-- 11&#45;&gt;8 -->\n",
       "<g id=\"edge21\" class=\"edge\"><title>11&#45;&gt;8</title>\n",
       "<path fill=\"none\" stroke=\"black\" d=\"M576.025,-150.136C590.836,-150.136 611.82,-150.136 628.577,-150.136\"/>\n",
       "<polygon fill=\"black\" stroke=\"black\" points=\"628.871,-153.636 638.871,-150.136 628.871,-146.636 628.871,-153.636\"/>\n",
       "<text text-anchor=\"middle\" x=\"607.497\" y=\"-153.936\" font-family=\"Times,serif\" font-size=\"14.00\">theres</text>\n",
       "</g>\n",
       "<!-- 9 -->\n",
       "<g id=\"node10\" class=\"node\"><title>9</title>\n",
       "<ellipse fill=\"none\" stroke=\"black\" cx=\"964.491\" cy=\"-195.136\" rx=\"18\" ry=\"18\"/>\n",
       "<text text-anchor=\"middle\" x=\"964.491\" y=\"-191.436\" font-family=\"Times,serif\" font-size=\"14.00\">9</text>\n",
       "</g>\n",
       "<!-- 5&#45;&gt;9 -->\n",
       "<g id=\"edge9\" class=\"edge\"><title>5&#45;&gt;9</title>\n",
       "<path fill=\"none\" stroke=\"black\" d=\"M574.684,-224.824C637.979,-219.991 858.44,-203.158 936.136,-197.225\"/>\n",
       "<polygon fill=\"black\" stroke=\"black\" points=\"936.823,-200.683 946.527,-196.432 936.29,-193.703 936.823,-200.683\"/>\n",
       "<text text-anchor=\"middle\" x=\"733.497\" y=\"-219.936\" font-family=\"Times,serif\" font-size=\"14.00\">&lt;corr&gt;/0.69861</text>\n",
       "</g>\n",
       "<!-- 10 -->\n",
       "<g id=\"node11\" class=\"node\"><title>10</title>\n",
       "<ellipse fill=\"none\" stroke=\"black\" cx=\"1040.49\" cy=\"-285.136\" rx=\"19.4965\" ry=\"19.4965\"/>\n",
       "<text text-anchor=\"middle\" x=\"1040.49\" y=\"-281.436\" font-family=\"Times,serif\" font-size=\"14.00\">10</text>\n",
       "</g>\n",
       "<!-- 5&#45;&gt;10 -->\n",
       "<g id=\"edge10\" class=\"edge\"><title>5&#45;&gt;10</title>\n",
       "<path fill=\"none\" stroke=\"black\" d=\"M569.52,-239.008C586.851,-256.096 620.673,-284.136 655.997,-284.136 655.997,-284.136 655.997,-284.136 888.993,-284.136 931.346,-284.136 980.401,-284.537 1010.69,-284.831\"/>\n",
       "<polygon fill=\"black\" stroke=\"black\" points=\"1010.92,-288.334 1020.95,-284.934 1010.99,-281.334 1010.92,-288.334\"/>\n",
       "<text text-anchor=\"middle\" x=\"733.497\" y=\"-287.936\" font-family=\"Times,serif\" font-size=\"14.00\">comes</text>\n",
       "</g>\n",
       "<!-- 6&#45;&gt;11 -->\n",
       "<g id=\"edge12\" class=\"edge\"><title>6&#45;&gt;11</title>\n",
       "<path fill=\"none\" stroke=\"black\" d=\"M426.5,-153.846C431.449,-152.744 436.914,-151.709 442,-151.136 470.738,-147.902 503.827,-148.047 526.833,-148.76\"/>\n",
       "<polygon fill=\"black\" stroke=\"black\" points=\"526.827,-152.262 536.948,-149.131 527.083,-145.267 526.827,-152.262\"/>\n",
       "<text text-anchor=\"middle\" x=\"482\" y=\"-154.936\" font-family=\"Times,serif\" font-size=\"14.00\">&lt;corr&gt;/9.3936</text>\n",
       "</g>\n",
       "<!-- 6&#45;&gt;5 -->\n",
       "<g id=\"edge11\" class=\"edge\"><title>6&#45;&gt;5</title>\n",
       "<path fill=\"none\" stroke=\"black\" d=\"M419.697,-173.252C427.919,-185.861 438.861,-202.092 442,-204.136 455.87,-213.169 498.978,-219.694 527.893,-223.194\"/>\n",
       "<polygon fill=\"black\" stroke=\"black\" points=\"527.853,-226.713 538.19,-224.386 528.658,-219.759 527.853,-226.713\"/>\n",
       "<text text-anchor=\"middle\" x=\"482\" y=\"-226.936\" font-family=\"Times,serif\" font-size=\"14.00\">there</text>\n",
       "</g>\n",
       "<!-- 7&#45;&gt;11 -->\n",
       "<g id=\"edge14\" class=\"edge\"><title>7&#45;&gt;11</title>\n",
       "<path fill=\"none\" stroke=\"black\" d=\"M423.364,-200.96C428.867,-196.788 435.475,-192.301 442,-189.136 475.287,-172.992 487.412,-179.265 522,-166.136 524.425,-165.216 526.916,-164.189 529.392,-163.113\"/>\n",
       "<polygon fill=\"black\" stroke=\"black\" points=\"531.073,-166.192 538.695,-158.832 528.147,-159.833 531.073,-166.192\"/>\n",
       "<text text-anchor=\"middle\" x=\"482\" y=\"-192.936\" font-family=\"Times,serif\" font-size=\"14.00\">&lt;corr&gt;/6.1954</text>\n",
       "</g>\n",
       "<!-- 7&#45;&gt;5 -->\n",
       "<g id=\"edge13\" class=\"edge\"><title>7&#45;&gt;5</title>\n",
       "<path fill=\"none\" stroke=\"black\" d=\"M420.586,-226.01C426.192,-232.2 433.644,-238.832 442,-242.136 475.064,-255.212 487.323,-249.993 522,-242.136 525.106,-241.433 528.26,-240.405 531.329,-239.204\"/>\n",
       "<polygon fill=\"black\" stroke=\"black\" points=\"533.016,-242.282 540.677,-234.963 530.124,-235.907 533.016,-242.282\"/>\n",
       "<text text-anchor=\"middle\" x=\"482\" y=\"-253.936\" font-family=\"Times,serif\" font-size=\"14.00\">there</text>\n",
       "</g>\n",
       "<!-- 13 -->\n",
       "<g id=\"node14\" class=\"node\"><title>13</title>\n",
       "<ellipse fill=\"none\" stroke=\"black\" cx=\"1116.49\" cy=\"-72.1364\" rx=\"19.4965\" ry=\"19.4965\"/>\n",
       "<text text-anchor=\"middle\" x=\"1116.49\" y=\"-68.4364\" font-family=\"Times,serif\" font-size=\"14.00\">13</text>\n",
       "</g>\n",
       "<!-- 9&#45;&gt;13 -->\n",
       "<g id=\"edge16\" class=\"edge\"><title>9&#45;&gt;13</title>\n",
       "<path fill=\"none\" stroke=\"black\" d=\"M974.657,-179.897C977.881,-174.146 981.353,-167.463 983.99,-161.136 992.915,-139.721 982.845,-127.799 998.99,-111.136 1022.21,-87.1722 1060.56,-77.9328 1086.87,-74.3707\"/>\n",
       "<polygon fill=\"black\" stroke=\"black\" points=\"1087.46,-77.8259 1096.99,-73.1981 1086.65,-70.8725 1087.46,-77.8259\"/>\n",
       "<text text-anchor=\"middle\" x=\"1040.49\" y=\"-114.936\" font-family=\"Times,serif\" font-size=\"14.00\">came</text>\n",
       "</g>\n",
       "<!-- 14 -->\n",
       "<g id=\"node15\" class=\"node\"><title>14</title>\n",
       "<ellipse fill=\"none\" stroke=\"black\" cx=\"1116.49\" cy=\"-211.136\" rx=\"19.4965\" ry=\"19.4965\"/>\n",
       "<text text-anchor=\"middle\" x=\"1116.49\" y=\"-207.436\" font-family=\"Times,serif\" font-size=\"14.00\">14</text>\n",
       "</g>\n",
       "<!-- 9&#45;&gt;14 -->\n",
       "<g id=\"edge17\" class=\"edge\"><title>9&#45;&gt;14</title>\n",
       "<path fill=\"none\" stroke=\"black\" d=\"M976.785,-208.569C982.703,-214.557 990.484,-220.966 998.99,-224.136 1033.56,-237.02 1045.73,-230.925 1081.99,-224.136 1084.23,-223.717 1086.52,-223.152 1088.79,-222.491\"/>\n",
       "<polygon fill=\"black\" stroke=\"black\" points=\"1090.16,-225.721 1098.46,-219.142 1087.87,-219.106 1090.16,-225.721\"/>\n",
       "<text text-anchor=\"middle\" x=\"1040.49\" y=\"-235.936\" font-family=\"Times,serif\" font-size=\"14.00\">come/1.9431</text>\n",
       "</g>\n",
       "<!-- 15 -->\n",
       "<g id=\"node16\" class=\"node\"><title>15</title>\n",
       "<ellipse fill=\"none\" stroke=\"black\" cx=\"1116.49\" cy=\"-143.136\" rx=\"19.4965\" ry=\"19.4965\"/>\n",
       "<text text-anchor=\"middle\" x=\"1116.49\" y=\"-139.436\" font-family=\"Times,serif\" font-size=\"14.00\">15</text>\n",
       "</g>\n",
       "<!-- 9&#45;&gt;15 -->\n",
       "<g id=\"edge18\" class=\"edge\"><title>9&#45;&gt;15</title>\n",
       "<path fill=\"none\" stroke=\"black\" d=\"M978.766,-183.814C984.641,-179.3 991.832,-174.408 998.99,-171.136 1014.49,-164.05 1057.88,-154.562 1087.11,-148.652\"/>\n",
       "<polygon fill=\"black\" stroke=\"black\" points=\"1088.03,-152.036 1097.16,-146.647 1086.66,-145.171 1088.03,-152.036\"/>\n",
       "<text text-anchor=\"middle\" x=\"1040.49\" y=\"-174.936\" font-family=\"Times,serif\" font-size=\"14.00\">coming/5.3262</text>\n",
       "</g>\n",
       "<!-- 16 -->\n",
       "<g id=\"node17\" class=\"node\"><title>16</title>\n",
       "<ellipse fill=\"none\" stroke=\"black\" cx=\"1421.48\" cy=\"-239.136\" rx=\"19.4965\" ry=\"19.4965\"/>\n",
       "<text text-anchor=\"middle\" x=\"1421.48\" y=\"-235.436\" font-family=\"Times,serif\" font-size=\"14.00\">16</text>\n",
       "</g>\n",
       "<!-- 10&#45;&gt;16 -->\n",
       "<g id=\"edge19\" class=\"edge\"><title>10&#45;&gt;16</title>\n",
       "<path fill=\"none\" stroke=\"black\" d=\"M1060.03,-282.887C1121.36,-275.442 1318.02,-251.573 1391.99,-242.595\"/>\n",
       "<polygon fill=\"black\" stroke=\"black\" points=\"1392.48,-246.061 1401.98,-241.382 1391.63,-239.112 1392.48,-246.061\"/>\n",
       "<text text-anchor=\"middle\" x=\"1190.99\" y=\"-275.936\" font-family=\"Times,serif\" font-size=\"14.00\">&lt;corr&gt;/1.0479</text>\n",
       "</g>\n",
       "<!-- 17 -->\n",
       "<g id=\"node18\" class=\"node\"><title>17</title>\n",
       "<ellipse fill=\"none\" stroke=\"black\" cx=\"1421.48\" cy=\"-296.136\" rx=\"19.4965\" ry=\"19.4965\"/>\n",
       "<text text-anchor=\"middle\" x=\"1421.48\" y=\"-292.436\" font-family=\"Times,serif\" font-size=\"14.00\">17</text>\n",
       "</g>\n",
       "<!-- 10&#45;&gt;17 -->\n",
       "<g id=\"edge20\" class=\"edge\"><title>10&#45;&gt;17</title>\n",
       "<path fill=\"none\" stroke=\"black\" d=\"M1059.97,-286.385C1102.37,-289.181 1209.92,-295.873 1299.98,-298.136 1338.64,-299.108 1348.33,-299.289 1386.98,-298.136 1388.47,-298.092 1390,-298.036 1391.55,-297.972\"/>\n",
       "<polygon fill=\"black\" stroke=\"black\" points=\"1391.9,-301.459 1401.71,-297.455 1391.54,-294.468 1391.9,-301.459\"/>\n",
       "<text text-anchor=\"middle\" x=\"1190.99\" y=\"-299.936\" font-family=\"Times,serif\" font-size=\"14.00\">a</text>\n",
       "</g>\n",
       "<!-- 12 -->\n",
       "<g id=\"node13\" class=\"node\"><title>12</title>\n",
       "<ellipse fill=\"none\" stroke=\"black\" cx=\"811.495\" cy=\"-150.136\" rx=\"19.4965\" ry=\"19.4965\"/>\n",
       "<text text-anchor=\"middle\" x=\"811.495\" y=\"-146.436\" font-family=\"Times,serif\" font-size=\"14.00\">12</text>\n",
       "</g>\n",
       "<!-- 8&#45;&gt;12 -->\n",
       "<g id=\"edge15\" class=\"edge\"><title>8&#45;&gt;12</title>\n",
       "<path fill=\"none\" stroke=\"black\" d=\"M675.194,-150.136C700.975,-150.136 749.964,-150.136 781.383,-150.136\"/>\n",
       "<polygon fill=\"black\" stroke=\"black\" points=\"781.696,-153.636 791.696,-150.136 781.696,-146.636 781.696,-153.636\"/>\n",
       "<text text-anchor=\"middle\" x=\"733.497\" y=\"-153.936\" font-family=\"Times,serif\" font-size=\"14.00\">&lt;/corr&gt;</text>\n",
       "</g>\n",
       "<!-- 12&#45;&gt;10 -->\n",
       "<g id=\"edge23\" class=\"edge\"><title>12&#45;&gt;10</title>\n",
       "<path fill=\"none\" stroke=\"black\" d=\"M828.82,-159.845C868.084,-183.197 968.002,-242.62 1014.71,-270.401\"/>\n",
       "<polygon fill=\"black\" stroke=\"black\" points=\"1012.93,-273.412 1023.31,-275.515 1016.51,-267.396 1012.93,-273.412\"/>\n",
       "<text text-anchor=\"middle\" x=\"887.993\" y=\"-224.936\" font-family=\"Times,serif\" font-size=\"14.00\">comes/0.33755</text>\n",
       "</g>\n",
       "<!-- 18 -->\n",
       "<g id=\"node19\" class=\"node\"><title>18</title>\n",
       "<ellipse fill=\"none\" stroke=\"black\" cx=\"964.491\" cy=\"-133.136\" rx=\"19.4965\" ry=\"19.4965\"/>\n",
       "<text text-anchor=\"middle\" x=\"964.491\" y=\"-129.436\" font-family=\"Times,serif\" font-size=\"14.00\">18</text>\n",
       "</g>\n",
       "<!-- 12&#45;&gt;18 -->\n",
       "<g id=\"edge22\" class=\"edge\"><title>12&#45;&gt;18</title>\n",
       "<path fill=\"none\" stroke=\"black\" d=\"M831.01,-148.052C856.934,-145.133 904.287,-139.802 934.798,-136.367\"/>\n",
       "<polygon fill=\"black\" stroke=\"black\" points=\"935.279,-139.835 944.825,-135.238 934.496,-132.879 935.279,-139.835\"/>\n",
       "<text text-anchor=\"middle\" x=\"887.993\" y=\"-149.936\" font-family=\"Times,serif\" font-size=\"14.00\">&lt;corr&gt;</text>\n",
       "</g>\n",
       "<!-- 19 -->\n",
       "<g id=\"node20\" class=\"node\"><title>19</title>\n",
       "<ellipse fill=\"none\" stroke=\"black\" cx=\"1265.48\" cy=\"-72.1364\" rx=\"19.4965\" ry=\"19.4965\"/>\n",
       "<text text-anchor=\"middle\" x=\"1265.48\" y=\"-68.4364\" font-family=\"Times,serif\" font-size=\"14.00\">19</text>\n",
       "</g>\n",
       "<!-- 13&#45;&gt;19 -->\n",
       "<g id=\"edge24\" class=\"edge\"><title>13&#45;&gt;19</title>\n",
       "<path fill=\"none\" stroke=\"black\" d=\"M1136.11,-72.1364C1161.15,-72.1364 1205.95,-72.1364 1235.44,-72.1364\"/>\n",
       "<polygon fill=\"black\" stroke=\"black\" points=\"1235.55,-75.6365 1245.55,-72.1364 1235.55,-68.6365 1235.55,-75.6365\"/>\n",
       "<text text-anchor=\"middle\" x=\"1190.99\" y=\"-75.9364\" font-family=\"Times,serif\" font-size=\"14.00\">&lt;/corr&gt;</text>\n",
       "</g>\n",
       "<!-- 20 -->\n",
       "<g id=\"node21\" class=\"node\"><title>20</title>\n",
       "<ellipse fill=\"none\" stroke=\"black\" cx=\"1265.48\" cy=\"-211.136\" rx=\"19.4965\" ry=\"19.4965\"/>\n",
       "<text text-anchor=\"middle\" x=\"1265.48\" y=\"-207.436\" font-family=\"Times,serif\" font-size=\"14.00\">20</text>\n",
       "</g>\n",
       "<!-- 14&#45;&gt;20 -->\n",
       "<g id=\"edge25\" class=\"edge\"><title>14&#45;&gt;20</title>\n",
       "<path fill=\"none\" stroke=\"black\" d=\"M1136.11,-211.136C1161.15,-211.136 1205.95,-211.136 1235.44,-211.136\"/>\n",
       "<polygon fill=\"black\" stroke=\"black\" points=\"1235.55,-214.636 1245.55,-211.136 1235.55,-207.636 1235.55,-214.636\"/>\n",
       "<text text-anchor=\"middle\" x=\"1190.99\" y=\"-214.936\" font-family=\"Times,serif\" font-size=\"14.00\">&lt;/corr&gt;</text>\n",
       "</g>\n",
       "<!-- 21 -->\n",
       "<g id=\"node22\" class=\"node\"><title>21</title>\n",
       "<ellipse fill=\"none\" stroke=\"black\" cx=\"1265.48\" cy=\"-143.136\" rx=\"19.4965\" ry=\"19.4965\"/>\n",
       "<text text-anchor=\"middle\" x=\"1265.48\" y=\"-139.436\" font-family=\"Times,serif\" font-size=\"14.00\">21</text>\n",
       "</g>\n",
       "<!-- 15&#45;&gt;21 -->\n",
       "<g id=\"edge26\" class=\"edge\"><title>15&#45;&gt;21</title>\n",
       "<path fill=\"none\" stroke=\"black\" d=\"M1136.11,-143.136C1161.15,-143.136 1205.95,-143.136 1235.44,-143.136\"/>\n",
       "<polygon fill=\"black\" stroke=\"black\" points=\"1235.55,-146.636 1245.55,-143.136 1235.55,-139.636 1235.55,-146.636\"/>\n",
       "<text text-anchor=\"middle\" x=\"1190.99\" y=\"-146.936\" font-family=\"Times,serif\" font-size=\"14.00\">&lt;/corr&gt;</text>\n",
       "</g>\n",
       "<!-- 22 -->\n",
       "<g id=\"node23\" class=\"node\"><title>22</title>\n",
       "<ellipse fill=\"none\" stroke=\"black\" cx=\"1545.48\" cy=\"-228.136\" rx=\"19.4965\" ry=\"19.4965\"/>\n",
       "<text text-anchor=\"middle\" x=\"1545.48\" y=\"-224.436\" font-family=\"Times,serif\" font-size=\"14.00\">22</text>\n",
       "</g>\n",
       "<!-- 16&#45;&gt;22 -->\n",
       "<g id=\"edge27\" class=\"edge\"><title>16&#45;&gt;22</title>\n",
       "<path fill=\"none\" stroke=\"black\" d=\"M1440.69,-243.075C1458.76,-246.305 1487.12,-249.543 1510.98,-244.136 1513.66,-243.53 1516.37,-242.682 1519.03,-241.69\"/>\n",
       "<polygon fill=\"black\" stroke=\"black\" points=\"1520.55,-244.85 1528.31,-237.641 1517.75,-238.434 1520.55,-244.85\"/>\n",
       "<text text-anchor=\"middle\" x=\"1483.48\" y=\"-250.936\" font-family=\"Times,serif\" font-size=\"14.00\">an/8.726</text>\n",
       "</g>\n",
       "<!-- 23 -->\n",
       "<g id=\"node24\" class=\"node\"><title>23</title>\n",
       "<ellipse fill=\"none\" stroke=\"black\" cx=\"1545.48\" cy=\"-152.136\" rx=\"19.4965\" ry=\"19.4965\"/>\n",
       "<text text-anchor=\"middle\" x=\"1545.48\" y=\"-148.436\" font-family=\"Times,serif\" font-size=\"14.00\">23</text>\n",
       "</g>\n",
       "<!-- 16&#45;&gt;23 -->\n",
       "<g id=\"edge28\" class=\"edge\"><title>16&#45;&gt;23</title>\n",
       "<path fill=\"none\" stroke=\"black\" d=\"M1432.72,-223.106C1442.41,-207.951 1455.55,-187.47 1455.98,-187.136 1476.32,-171.167 1487.05,-177.947 1510.98,-168.136 1513.38,-167.152 1515.85,-166.082 1518.32,-164.977\"/>\n",
       "<polygon fill=\"black\" stroke=\"black\" points=\"1520.02,-168.047 1527.6,-160.653 1517.06,-161.702 1520.02,-168.047\"/>\n",
       "<text text-anchor=\"middle\" x=\"1483.48\" y=\"-190.936\" font-family=\"Times,serif\" font-size=\"14.00\">the</text>\n",
       "</g>\n",
       "<!-- 31 -->\n",
       "<g id=\"node25\" class=\"node\"><title>31</title>\n",
       "<ellipse fill=\"none\" stroke=\"black\" cx=\"1850.47\" cy=\"-257.136\" rx=\"19.4965\" ry=\"19.4965\"/>\n",
       "<text text-anchor=\"middle\" x=\"1850.47\" y=\"-253.436\" font-family=\"Times,serif\" font-size=\"14.00\">31</text>\n",
       "</g>\n",
       "<!-- 17&#45;&gt;31 -->\n",
       "<g id=\"edge29\" class=\"edge\"><title>17&#45;&gt;31</title>\n",
       "<path fill=\"none\" stroke=\"black\" d=\"M1441.27,-297.344C1498.52,-300.527 1675.4,-306.68 1815.97,-272.136 1818.46,-271.524 1821,-270.734 1823.5,-269.836\"/>\n",
       "<polygon fill=\"black\" stroke=\"black\" points=\"1824.93,-273.033 1832.85,-265.995 1822.27,-266.559 1824.93,-273.033\"/>\n",
       "<text text-anchor=\"middle\" x=\"1619.98\" y=\"-303.936\" font-family=\"Times,serif\" font-size=\"14.00\">&lt;corr&gt;/6.4149</text>\n",
       "</g>\n",
       "<!-- 32 -->\n",
       "<g id=\"node26\" class=\"node\"><title>32</title>\n",
       "<ellipse fill=\"none\" stroke=\"black\" cx=\"2132.46\" cy=\"-292.136\" rx=\"19.4965\" ry=\"19.4965\"/>\n",
       "<text text-anchor=\"middle\" x=\"2132.46\" y=\"-288.436\" font-family=\"Times,serif\" font-size=\"14.00\">32</text>\n",
       "</g>\n",
       "<!-- 17&#45;&gt;32 -->\n",
       "<g id=\"edge30\" class=\"edge\"><title>17&#45;&gt;32</title>\n",
       "<path fill=\"none\" stroke=\"black\" d=\"M1437.73,-307.637C1459.97,-323.224 1503.14,-349.136 1544.48,-349.136 1544.48,-349.136 1544.48,-349.136 2021.47,-349.136 2054.93,-349.136 2088.34,-328.088 2109.41,-311.572\"/>\n",
       "<polygon fill=\"black\" stroke=\"black\" points=\"2111.84,-314.103 2117.38,-305.071 2107.42,-308.678 2111.84,-314.103\"/>\n",
       "<text text-anchor=\"middle\" x=\"1772.47\" y=\"-352.936\" font-family=\"Times,serif\" font-size=\"14.00\">problem</text>\n",
       "</g>\n",
       "<!-- 18&#45;&gt;13 -->\n",
       "<g id=\"edge31\" class=\"edge\"><title>18&#45;&gt;13</title>\n",
       "<path fill=\"none\" stroke=\"black\" d=\"M968.07,-113.722C971.618,-95.6136 979.906,-69.5802 998.99,-57.1364 1026.13,-39.4368 1064.47,-49.49 1089.64,-59.6618\"/>\n",
       "<polygon fill=\"black\" stroke=\"black\" points=\"1088.34,-62.914 1098.91,-63.6542 1091.11,-56.4847 1088.34,-62.914\"/>\n",
       "<text text-anchor=\"middle\" x=\"1040.49\" y=\"-60.9364\" font-family=\"Times,serif\" font-size=\"14.00\">came</text>\n",
       "</g>\n",
       "<!-- 18&#45;&gt;14 -->\n",
       "<g id=\"edge32\" class=\"edge\"><title>18&#45;&gt;14</title>\n",
       "<path fill=\"none\" stroke=\"black\" d=\"M974.373,-150.197C981.806,-163.839 992.25,-181.433 998.99,-186.136 1002.63,-188.673 1053.64,-199.025 1086.95,-205.586\"/>\n",
       "<polygon fill=\"black\" stroke=\"black\" points=\"1086.57,-209.079 1097.05,-207.569 1087.91,-202.21 1086.57,-209.079\"/>\n",
       "<text text-anchor=\"middle\" x=\"1040.49\" y=\"-208.936\" font-family=\"Times,serif\" font-size=\"14.00\">come/1.6429</text>\n",
       "</g>\n",
       "<!-- 18&#45;&gt;15 -->\n",
       "<g id=\"edge33\" class=\"edge\"><title>18&#45;&gt;15</title>\n",
       "<path fill=\"none\" stroke=\"black\" d=\"M984.174,-131.483C1007.28,-129.817 1047.77,-128.137 1081.99,-133.136 1084.05,-133.438 1086.17,-133.839 1088.28,-134.307\"/>\n",
       "<polygon fill=\"black\" stroke=\"black\" points=\"1087.41,-137.697 1097.97,-136.866 1089.2,-130.929 1087.41,-137.697\"/>\n",
       "<text text-anchor=\"middle\" x=\"1040.49\" y=\"-137.936\" font-family=\"Times,serif\" font-size=\"14.00\">coming/3.6083</text>\n",
       "</g>\n",
       "<!-- 19&#45;&gt;17 -->\n",
       "<g id=\"edge34\" class=\"edge\"><title>19&#45;&gt;17</title>\n",
       "<path fill=\"none\" stroke=\"black\" d=\"M1273.43,-90.0437C1278.91,-101.79 1287.68,-116.518 1299.98,-125.136 1332.4,-147.844 1360.34,-114.871 1386.98,-144.136 1405.52,-164.497 1392.68,-241.219 1401.98,-267.136 1402.57,-268.759 1403.25,-270.385 1404.01,-271.993\"/>\n",
       "<polygon fill=\"black\" stroke=\"black\" points=\"1401.02,-273.816 1408.95,-280.848 1407.14,-270.409 1401.02,-273.816\"/>\n",
       "<text text-anchor=\"middle\" x=\"1343.48\" y=\"-147.936\" font-family=\"Times,serif\" font-size=\"14.00\">a</text>\n",
       "</g>\n",
       "<!-- 24 -->\n",
       "<g id=\"node27\" class=\"node\"><title>24</title>\n",
       "<ellipse fill=\"none\" stroke=\"black\" cx=\"1421.48\" cy=\"-57.1364\" rx=\"19.4965\" ry=\"19.4965\"/>\n",
       "<text text-anchor=\"middle\" x=\"1421.48\" y=\"-53.4364\" font-family=\"Times,serif\" font-size=\"14.00\">24</text>\n",
       "</g>\n",
       "<!-- 19&#45;&gt;24 -->\n",
       "<g id=\"edge35\" class=\"edge\"><title>19&#45;&gt;24</title>\n",
       "<path fill=\"none\" stroke=\"black\" d=\"M1285.06,-70.327C1311.54,-67.748 1360.37,-62.9912 1391.6,-59.9499\"/>\n",
       "<polygon fill=\"black\" stroke=\"black\" points=\"1392.23,-63.4052 1401.84,-58.9521 1391.55,-56.4382 1392.23,-63.4052\"/>\n",
       "<text text-anchor=\"middle\" x=\"1343.48\" y=\"-72.9364\" font-family=\"Times,serif\" font-size=\"14.00\">&lt;corr&gt;/0.66122</text>\n",
       "</g>\n",
       "<!-- 20&#45;&gt;17 -->\n",
       "<g id=\"edge36\" class=\"edge\"><title>20&#45;&gt;17</title>\n",
       "<path fill=\"none\" stroke=\"black\" d=\"M1282.36,-221.413C1287.88,-224.904 1294.16,-228.77 1299.98,-232.136 1332.03,-250.659 1369.85,-270.414 1394.45,-282.996\"/>\n",
       "<polygon fill=\"black\" stroke=\"black\" points=\"1393.01,-286.189 1403.51,-287.608 1396.19,-279.951 1393.01,-286.189\"/>\n",
       "<text text-anchor=\"middle\" x=\"1343.48\" y=\"-282.936\" font-family=\"Times,serif\" font-size=\"14.00\">a</text>\n",
       "</g>\n",
       "<!-- 25 -->\n",
       "<g id=\"node28\" class=\"node\"><title>25</title>\n",
       "<ellipse fill=\"none\" stroke=\"black\" cx=\"1421.48\" cy=\"-182.136\" rx=\"19.4965\" ry=\"19.4965\"/>\n",
       "<text text-anchor=\"middle\" x=\"1421.48\" y=\"-178.436\" font-family=\"Times,serif\" font-size=\"14.00\">25</text>\n",
       "</g>\n",
       "<!-- 20&#45;&gt;25 -->\n",
       "<g id=\"edge37\" class=\"edge\"><title>20&#45;&gt;25</title>\n",
       "<path fill=\"none\" stroke=\"black\" d=\"M1285.33,-212.042C1309.45,-212.648 1352.28,-211.847 1386.98,-201.136 1389.95,-200.219 1392.95,-199.009 1395.87,-197.641\"/>\n",
       "<polygon fill=\"black\" stroke=\"black\" points=\"1397.58,-200.692 1404.77,-192.906 1394.3,-194.512 1397.58,-200.692\"/>\n",
       "<text text-anchor=\"middle\" x=\"1343.48\" y=\"-216.936\" font-family=\"Times,serif\" font-size=\"14.00\">&lt;corr&gt;/0.94824</text>\n",
       "</g>\n",
       "<!-- 21&#45;&gt;17 -->\n",
       "<g id=\"edge38\" class=\"edge\"><title>21&#45;&gt;17</title>\n",
       "<path fill=\"none\" stroke=\"black\" d=\"M1281.96,-153.798C1287.45,-157.192 1293.81,-160.695 1299.98,-163.136 1336.79,-177.693 1359.57,-153.592 1386.98,-182.136 1413.56,-209.804 1388.07,-231.388 1401.98,-267.136 1402.61,-268.743 1403.33,-270.357 1404.11,-271.954\"/>\n",
       "<polygon fill=\"black\" stroke=\"black\" points=\"1401.14,-273.809 1409.11,-280.785 1407.23,-270.359 1401.14,-273.809\"/>\n",
       "<text text-anchor=\"middle\" x=\"1343.48\" y=\"-185.936\" font-family=\"Times,serif\" font-size=\"14.00\">a</text>\n",
       "</g>\n",
       "<!-- 26 -->\n",
       "<g id=\"node29\" class=\"node\"><title>26</title>\n",
       "<ellipse fill=\"none\" stroke=\"black\" cx=\"1421.48\" cy=\"-114.136\" rx=\"19.4965\" ry=\"19.4965\"/>\n",
       "<text text-anchor=\"middle\" x=\"1421.48\" y=\"-110.436\" font-family=\"Times,serif\" font-size=\"14.00\">26</text>\n",
       "</g>\n",
       "<!-- 21&#45;&gt;26 -->\n",
       "<g id=\"edge39\" class=\"edge\"><title>21&#45;&gt;26</title>\n",
       "<path fill=\"none\" stroke=\"black\" d=\"M1277.72,-127.545C1283.52,-120.84 1291.22,-113.728 1299.98,-110.136 1329.81,-97.9125 1367.36,-101.843 1392.54,-106.916\"/>\n",
       "<polygon fill=\"black\" stroke=\"black\" points=\"1392,-110.38 1402.52,-109.116 1393.51,-103.545 1392,-110.38\"/>\n",
       "<text text-anchor=\"middle\" x=\"1343.48\" y=\"-113.936\" font-family=\"Times,serif\" font-size=\"14.00\">&lt;corr&gt;/0.51947</text>\n",
       "</g>\n",
       "<!-- 27 -->\n",
       "<g id=\"node30\" class=\"node\"><title>27</title>\n",
       "<ellipse fill=\"none\" stroke=\"black\" cx=\"1694.47\" cy=\"-249.136\" rx=\"19.4965\" ry=\"19.4965\"/>\n",
       "<text text-anchor=\"middle\" x=\"1694.47\" y=\"-245.436\" font-family=\"Times,serif\" font-size=\"14.00\">27</text>\n",
       "</g>\n",
       "<!-- 22&#45;&gt;27 -->\n",
       "<g id=\"edge40\" class=\"edge\"><title>22&#45;&gt;27</title>\n",
       "<path fill=\"none\" stroke=\"black\" d=\"M1565.09,-230.796C1590.28,-234.394 1635.43,-240.844 1664.92,-245.057\"/>\n",
       "<polygon fill=\"black\" stroke=\"black\" points=\"1664.61,-248.549 1675.01,-246.498 1665.6,-241.619 1664.61,-248.549\"/>\n",
       "<text text-anchor=\"middle\" x=\"1619.98\" y=\"-247.936\" font-family=\"Times,serif\" font-size=\"14.00\">&lt;/corr&gt;</text>\n",
       "</g>\n",
       "<!-- 28 -->\n",
       "<g id=\"node31\" class=\"node\"><title>28</title>\n",
       "<ellipse fill=\"none\" stroke=\"black\" cx=\"1694.47\" cy=\"-185.136\" rx=\"19.4965\" ry=\"19.4965\"/>\n",
       "<text text-anchor=\"middle\" x=\"1694.47\" y=\"-181.436\" font-family=\"Times,serif\" font-size=\"14.00\">28</text>\n",
       "</g>\n",
       "<!-- 23&#45;&gt;28 -->\n",
       "<g id=\"edge41\" class=\"edge\"><title>23&#45;&gt;28</title>\n",
       "<path fill=\"none\" stroke=\"black\" d=\"M1564.8,-156.249C1590.02,-161.912 1635.68,-172.162 1665.28,-178.806\"/>\n",
       "<polygon fill=\"black\" stroke=\"black\" points=\"1664.86,-182.3 1675.38,-181.075 1666.39,-175.47 1664.86,-182.3\"/>\n",
       "<text text-anchor=\"middle\" x=\"1619.98\" y=\"-181.936\" font-family=\"Times,serif\" font-size=\"14.00\">&lt;/corr&gt;</text>\n",
       "</g>\n",
       "<!-- 29 -->\n",
       "<g id=\"node32\" class=\"node\"><title>29</title>\n",
       "<ellipse fill=\"none\" stroke=\"black\" cx=\"2020.47\" cy=\"-263.136\" rx=\"19.4965\" ry=\"19.4965\"/>\n",
       "<text text-anchor=\"middle\" x=\"2020.47\" y=\"-259.436\" font-family=\"Times,serif\" font-size=\"14.00\">29</text>\n",
       "</g>\n",
       "<!-- 31&#45;&gt;29 -->\n",
       "<g id=\"edge53\" class=\"edge\"><title>31&#45;&gt;29</title>\n",
       "<path fill=\"none\" stroke=\"black\" d=\"M1870.09,-257.801C1899.23,-258.842 1955.84,-260.864 1990.38,-262.098\"/>\n",
       "<polygon fill=\"black\" stroke=\"black\" points=\"1990.64,-265.609 2000.76,-262.468 1990.89,-258.614 1990.64,-265.609\"/>\n",
       "<text text-anchor=\"middle\" x=\"1935.47\" y=\"-265.936\" font-family=\"Times,serif\" font-size=\"14.00\">problems</text>\n",
       "</g>\n",
       "<!-- 30 -->\n",
       "<g id=\"node33\" class=\"node\"><title>30</title>\n",
       "<ellipse fill=\"none\" stroke=\"black\" cx=\"2209.46\" cy=\"-292.136\" rx=\"19.4968\" ry=\"19.4968\"/>\n",
       "<ellipse fill=\"none\" stroke=\"black\" cx=\"2209.46\" cy=\"-292.136\" rx=\"23.4965\" ry=\"23.4965\"/>\n",
       "<text text-anchor=\"middle\" x=\"2209.46\" y=\"-288.436\" font-family=\"Times,serif\" font-size=\"14.00\">30</text>\n",
       "</g>\n",
       "<!-- 32&#45;&gt;30 -->\n",
       "<g id=\"edge54\" class=\"edge\"><title>32&#45;&gt;30</title>\n",
       "<path fill=\"none\" stroke=\"black\" d=\"M2152,-292.136C2159.2,-292.136 2167.66,-292.136 2175.81,-292.136\"/>\n",
       "<polygon fill=\"black\" stroke=\"black\" points=\"2175.85,-295.636 2185.85,-292.136 2175.85,-288.636 2175.85,-295.636\"/>\n",
       "<text text-anchor=\"middle\" x=\"2168.96\" y=\"-295.936\" font-family=\"Times,serif\" font-size=\"14.00\">.</text>\n",
       "</g>\n",
       "<!-- 24&#45;&gt;22 -->\n",
       "<g id=\"edge43\" class=\"edge\"><title>24&#45;&gt;22</title>\n",
       "<path fill=\"none\" stroke=\"black\" d=\"M1441.2,-59.4023C1461.63,-62.9164 1493.72,-71.6849 1510.98,-93.1364 1535.58,-123.705 1515.54,-142.313 1525.98,-180.136 1527.89,-187.077 1530.44,-194.407 1533.02,-201.193\"/>\n",
       "<polygon fill=\"black\" stroke=\"black\" points=\"1529.83,-202.635 1536.78,-210.636 1536.34,-200.05 1529.83,-202.635\"/>\n",
       "<text text-anchor=\"middle\" x=\"1483.48\" y=\"-96.9364\" font-family=\"Times,serif\" font-size=\"14.00\">an/9.0109</text>\n",
       "</g>\n",
       "<!-- 24&#45;&gt;23 -->\n",
       "<g id=\"edge42\" class=\"edge\"><title>24&#45;&gt;23</title>\n",
       "<path fill=\"none\" stroke=\"black\" d=\"M1429.92,-39.4778C1435.42,-28.8756 1444.04,-16.2865 1455.98,-10.1364 1477.71,1.06017 1491.81,5.03494 1510.98,-10.1364 1528.33,-23.8722 1537.6,-85.0226 1541.74,-122.455\"/>\n",
       "<polygon fill=\"black\" stroke=\"black\" points=\"1538.3,-123.196 1542.82,-132.779 1545.26,-122.469 1538.3,-123.196\"/>\n",
       "<text text-anchor=\"middle\" x=\"1483.48\" y=\"-13.9364\" font-family=\"Times,serif\" font-size=\"14.00\">the</text>\n",
       "</g>\n",
       "<!-- 25&#45;&gt;22 -->\n",
       "<g id=\"edge45\" class=\"edge\"><title>25&#45;&gt;22</title>\n",
       "<path fill=\"none\" stroke=\"black\" d=\"M1437.07,-194.421C1442.69,-198.645 1449.35,-203.077 1455.98,-206.136 1474.99,-214.918 1497.99,-220.499 1515.77,-223.842\"/>\n",
       "<polygon fill=\"black\" stroke=\"black\" points=\"1515.38,-227.325 1525.83,-225.6 1516.58,-220.43 1515.38,-227.325\"/>\n",
       "<text text-anchor=\"middle\" x=\"1483.48\" y=\"-226.936\" font-family=\"Times,serif\" font-size=\"14.00\">an/9.2092</text>\n",
       "</g>\n",
       "<!-- 25&#45;&gt;23 -->\n",
       "<g id=\"edge44\" class=\"edge\"><title>25&#45;&gt;23</title>\n",
       "<path fill=\"none\" stroke=\"black\" d=\"M1435.02,-167.525C1440.77,-161.912 1448.07,-156.136 1455.98,-153.136 1475.11,-145.884 1498.27,-145.904 1516.1,-147.594\"/>\n",
       "<polygon fill=\"black\" stroke=\"black\" points=\"1515.83,-151.086 1526.17,-148.776 1516.65,-144.134 1515.83,-151.086\"/>\n",
       "<text text-anchor=\"middle\" x=\"1483.48\" y=\"-156.936\" font-family=\"Times,serif\" font-size=\"14.00\">the</text>\n",
       "</g>\n",
       "<!-- 26&#45;&gt;22 -->\n",
       "<g id=\"edge47\" class=\"edge\"><title>26&#45;&gt;22</title>\n",
       "<path fill=\"none\" stroke=\"black\" d=\"M1441.15,-111.718C1460.92,-110.253 1491.86,-111.249 1510.98,-128.136 1529.01,-144.059 1518.31,-157.337 1525.98,-180.136 1528.24,-186.848 1530.87,-194.006 1533.43,-200.69\"/>\n",
       "<polygon fill=\"black\" stroke=\"black\" points=\"1530.18,-201.993 1537.07,-210.038 1536.7,-199.449 1530.18,-201.993\"/>\n",
       "<text text-anchor=\"middle\" x=\"1483.48\" y=\"-131.936\" font-family=\"Times,serif\" font-size=\"14.00\">an/10.702</text>\n",
       "</g>\n",
       "<!-- 26&#45;&gt;23 -->\n",
       "<g id=\"edge46\" class=\"edge\"><title>26&#45;&gt;23</title>\n",
       "<path fill=\"none\" stroke=\"black\" d=\"M1433.41,-98.5962C1436.11,-94.353 1438.84,-89.6716 1440.98,-85.1364 1450.17,-65.6945 1438.58,-51.7669 1455.98,-39.1364 1475.76,-24.7787 1491.39,-24.5127 1510.98,-39.1364 1536.34,-58.0719 1543.29,-95.382 1544.81,-121.947\"/>\n",
       "<polygon fill=\"black\" stroke=\"black\" points=\"1541.32,-122.366 1545.16,-132.24 1548.32,-122.125 1541.32,-122.366\"/>\n",
       "<text text-anchor=\"middle\" x=\"1483.48\" y=\"-42.9364\" font-family=\"Times,serif\" font-size=\"14.00\">the</text>\n",
       "</g>\n",
       "<!-- 27&#45;&gt;31 -->\n",
       "<g id=\"edge48\" class=\"edge\"><title>27&#45;&gt;31</title>\n",
       "<path fill=\"none\" stroke=\"black\" d=\"M1714.05,-250.101C1740.53,-251.477 1789.36,-254.014 1820.59,-255.636\"/>\n",
       "<polygon fill=\"black\" stroke=\"black\" points=\"1820.66,-259.144 1830.83,-256.168 1821.02,-252.154 1820.66,-259.144\"/>\n",
       "<text text-anchor=\"middle\" x=\"1772.47\" y=\"-259.936\" font-family=\"Times,serif\" font-size=\"14.00\">&lt;corr&gt;</text>\n",
       "</g>\n",
       "<!-- 27&#45;&gt;32 -->\n",
       "<g id=\"edge49\" class=\"edge\"><title>27&#45;&gt;32</title>\n",
       "<path fill=\"none\" stroke=\"black\" d=\"M1709.03,-262.482C1714.73,-267.296 1721.72,-272.25 1728.97,-275.136 1762.77,-288.591 1958.26,-294.548 2054.97,-297.136 2074.07,-297.648 2078.91,-298.551 2097.97,-297.136 2099.66,-297.011 2101.4,-296.85 2103.15,-296.663\"/>\n",
       "<polygon fill=\"black\" stroke=\"black\" points=\"2103.62,-300.131 2113.09,-295.38 2102.72,-293.189 2103.62,-300.131\"/>\n",
       "<text text-anchor=\"middle\" x=\"1935.47\" y=\"-298.936\" font-family=\"Times,serif\" font-size=\"14.00\">problem/0.000809</text>\n",
       "</g>\n",
       "<!-- 28&#45;&gt;31 -->\n",
       "<g id=\"edge51\" class=\"edge\"><title>28&#45;&gt;31</title>\n",
       "<path fill=\"none\" stroke=\"black\" d=\"M1713.02,-191.319C1741.78,-201.567 1797.61,-221.951 1815.97,-232.136 1819.58,-234.139 1823.24,-236.485 1826.75,-238.924\"/>\n",
       "<polygon fill=\"black\" stroke=\"black\" points=\"1824.92,-241.923 1835.05,-245.034 1829.07,-236.286 1824.92,-241.923\"/>\n",
       "<text text-anchor=\"middle\" x=\"1772.47\" y=\"-236.936\" font-family=\"Times,serif\" font-size=\"14.00\">&lt;corr&gt;/0.94166</text>\n",
       "</g>\n",
       "<!-- 28&#45;&gt;32 -->\n",
       "<g id=\"edge50\" class=\"edge\"><title>28&#45;&gt;32</title>\n",
       "<path fill=\"none\" stroke=\"black\" d=\"M1714,-185.334C1766.61,-186.417 1920.82,-193.214 2039.97,-235.136 2065.45,-244.105 2091.29,-261.086 2108.98,-274.191\"/>\n",
       "<polygon fill=\"black\" stroke=\"black\" points=\"2106.89,-276.999 2116.98,-280.26 2111.13,-271.425 2106.89,-276.999\"/>\n",
       "<text text-anchor=\"middle\" x=\"1935.47\" y=\"-222.936\" font-family=\"Times,serif\" font-size=\"14.00\">problem</text>\n",
       "</g>\n",
       "<!-- 29&#45;&gt;32 -->\n",
       "<g id=\"edge52\" class=\"edge\"><title>29&#45;&gt;32</title>\n",
       "<path fill=\"none\" stroke=\"black\" d=\"M2039.77,-267.428C2055.3,-271.132 2078.16,-276.725 2097.97,-282.136 2099.85,-282.652 2101.8,-283.197 2103.75,-283.755\"/>\n",
       "<polygon fill=\"black\" stroke=\"black\" points=\"2102.85,-287.137 2113.43,-286.584 2104.81,-280.418 2102.85,-287.137\"/>\n",
       "<text text-anchor=\"middle\" x=\"2076.47\" y=\"-286.936\" font-family=\"Times,serif\" font-size=\"14.00\">&lt;/corr&gt;</text>\n",
       "</g>\n",
       "</g>\n",
       "</svg>\n"
      ],
      "text/plain": [
       "<vector Fst at 0x7f64fc1a25e0>"
      ]
     },
     "execution_count": 134,
     "metadata": {},
     "output_type": "execute_result"
    }
   ],
   "source": [
    "edited_conll2013_1198_LMmap_G2 = fst.Fst.read('EditAcceptors.2gLM/conll2013/1198.fst')\n",
    "edited_conll2013_1198_LMmap_G2.project()\n",
    "fst.determinize(edited_conll2013_1198_LMmap_G.rmepsilon()).minimize().set_input_symbols(words_ST)"
   ]
  },
  {
   "cell_type": "markdown",
   "metadata": {},
   "source": [
    "* The best hypothesis can be extracted as following.\n",
    "* By pushing the weights to the final state, the path-level score can be examined."
   ]
  },
  {
   "cell_type": "code",
   "execution_count": 135,
   "metadata": {},
   "outputs": [
    {
     "name": "stdout",
     "output_type": "stream",
     "text": [
      "0\t1\tThen\tThen\n",
      "1\t2\tthere\tthere\n",
      "2\t3\tcomes\tcomes\n",
      "3\t4\ta\ta\n",
      "4\t5\tproblem\tproblem\n",
      "5\t6\t.\t.\n",
      "6\t28.6896\n",
      "\n"
     ]
    }
   ],
   "source": [
    "tmp = fst.shortestpath(edited_conll2013_1198_LMmap_G2).rmepsilon().push(to_final=True).topsort()\n",
    "print tmp.set_input_symbols(words_ST).set_output_symbols(words_ST)"
   ]
  },
  {
   "cell_type": "markdown",
   "metadata": {},
   "source": [
    "## 2.4. Edit Penalty"
   ]
  },
  {
   "cell_type": "markdown",
   "metadata": {},
   "source": [
    "### 2.4.1. Objective\n",
    "\n",
    "* **Edit Penalty**\n",
    "\n",
    ">* Edit penalty is added to each edit made in the hypothesis.\n",
    ">* If the edit penalty is high, the model would not make edit unless it can bring above-threshold probability increase. This would generally result in the increase in precision and decrease in recall. Hence the edit penalty can be tuned to maximise the F-score.\n",
    "\n",
    "* **Objective**\n",
    "\n",
    ">* Create a WFSA $A_\\lambda$ that assigns edit penalty.\n",
    ">* Then, the final score of a path can be evaluated under the following FST.\n",
    ">\n",
    ">$$ W_{n} = A_\\lambda \\circ \\Pi_2(O_n  \\circ T_\\mbox{edit}) \\circ T_\\mbox{LMmap} \\circ G_\\mbox{2}$$ "
   ]
  },
  {
   "cell_type": "markdown",
   "metadata": {},
   "source": [
    "### 2.4.2. Code"
   ]
  },
  {
   "cell_type": "code",
   "execution_count": 57,
   "metadata": {},
   "outputs": [],
   "source": [
    "def mkcostfst(cost):\n",
    "    compiler = fst.Compiler(isymbols=words_ST, keep_isymbols=True, osymbols=words_ST, keep_osymbols=True, acceptor=True)\n",
    "    print >> compiler, \"0 0 <corr> \" + str(cost)\n",
    "    print >> compiler, \"0 0 <phi> \" + str(0.0)\n",
    "    print >> compiler, \"0\"\n",
    "    corr_cost = compiler.compile().arcsort()\n",
    "    corr_cost = specializer.phi(corr_cost, words_ST.find(\"<phi>\"), \"always\", True).get()\n",
    "    return corr_cost"
   ]
  },
  {
   "cell_type": "code",
   "execution_count": 58,
   "metadata": {
    "scrolled": true
   },
   "outputs": [
    {
     "data": {
      "image/svg+xml": [
       "<?xml version=\"1.0\" encoding=\"UTF-8\" standalone=\"no\"?>\n",
       "<!DOCTYPE svg PUBLIC \"-//W3C//DTD SVG 1.1//EN\"\n",
       " \"http://www.w3.org/Graphics/SVG/1.1/DTD/svg11.dtd\">\n",
       "<!-- Generated by graphviz version 2.38.0 (20140413.2041)\n",
       " -->\n",
       "<!-- Title: FST Pages: 1 -->\n",
       "<svg width=\"68pt\" height=\"118pt\"\n",
       " viewBox=\"0.00 0.00 68.00 118.00\" xmlns=\"http://www.w3.org/2000/svg\" xmlns:xlink=\"http://www.w3.org/1999/xlink\">\n",
       "<g id=\"graph0\" class=\"graph\" transform=\"scale(1 1) rotate(0) translate(4 114)\">\n",
       "<title>FST</title>\n",
       "<polygon fill=\"white\" stroke=\"none\" points=\"-4,4 -4,-114 64,-114 64,4 -4,4\"/>\n",
       "<!-- 0 -->\n",
       "<g id=\"node1\" class=\"node\"><title>0</title>\n",
       "<ellipse fill=\"none\" stroke=\"black\" stroke-width=\"2\" cx=\"30\" cy=\"-22\" rx=\"18\" ry=\"18\"/>\n",
       "<ellipse fill=\"none\" stroke=\"black\" stroke-width=\"2\" cx=\"30\" cy=\"-22\" rx=\"22\" ry=\"22\"/>\n",
       "<text text-anchor=\"middle\" x=\"30\" y=\"-18.3\" font-family=\"Times,serif\" font-size=\"14.00\">0</text>\n",
       "</g>\n",
       "<!-- 0&#45;&gt;0 -->\n",
       "<g id=\"edge1\" class=\"edge\"><title>0&#45;&gt;0</title>\n",
       "<path fill=\"none\" stroke=\"black\" d=\"M26.124,-43.8066C25.7549,-53.5625 27.0469,-62 30,-62 31.8457,-62 33.0425,-58.7041 33.5905,-53.8504\"/>\n",
       "<polygon fill=\"black\" stroke=\"black\" points=\"37.0903,-53.9021 33.876,-43.8066 30.0931,-53.7031 37.0903,-53.9021\"/>\n",
       "<text text-anchor=\"middle\" x=\"30\" y=\"-65.8\" font-family=\"Times,serif\" font-size=\"14.00\">&lt;corr&gt;/2.5</text>\n",
       "</g>\n",
       "<!-- 0&#45;&gt;0 -->\n",
       "<g id=\"edge2\" class=\"edge\"><title>0&#45;&gt;0</title>\n",
       "<path fill=\"none\" stroke=\"black\" d=\"M23.3752,-43.1143C20.4499,-61.0956 22.6582,-80 30,-80 35.9652,-80 38.5415,-67.5201 37.7288,-53.1954\"/>\n",
       "<polygon fill=\"black\" stroke=\"black\" points=\"41.1927,-52.6738 36.6248,-43.1143 34.2343,-53.4359 41.1927,-52.6738\"/>\n",
       "<text text-anchor=\"middle\" x=\"30\" y=\"-83.8\" font-family=\"Times,serif\" font-size=\"14.00\">&lt;phi&gt;</text>\n",
       "</g>\n",
       "</g>\n",
       "</svg>\n"
      ],
      "text/plain": [
       "<phi Fst at 0x7f64d72f68f0>"
      ]
     },
     "execution_count": 58,
     "metadata": {},
     "output_type": "execute_result"
    }
   ],
   "source": [
    "mkcostfst(2.5)"
   ]
  },
  {
   "cell_type": "markdown",
   "metadata": {},
   "source": [
    "### 2.4.3. Example of Usage"
   ]
  },
  {
   "cell_type": "code",
   "execution_count": 59,
   "metadata": {},
   "outputs": [
    {
     "data": {
      "image/svg+xml": [
       "<?xml version=\"1.0\" encoding=\"UTF-8\" standalone=\"no\"?>\n",
       "<!DOCTYPE svg PUBLIC \"-//W3C//DTD SVG 1.1//EN\"\n",
       " \"http://www.w3.org/Graphics/SVG/1.1/DTD/svg11.dtd\">\n",
       "<!-- Generated by graphviz version 2.38.0 (20140413.2041)\n",
       " -->\n",
       "<!-- Title: FST Pages: 1 -->\n",
       "<svg width=\"612pt\" height=\"51pt\"\n",
       " viewBox=\"0.00 0.00 612.00 50.54\" xmlns=\"http://www.w3.org/2000/svg\" xmlns:xlink=\"http://www.w3.org/1999/xlink\">\n",
       "<g id=\"graph0\" class=\"graph\" transform=\"scale(0.466718 0.466718) rotate(0) translate(4 104.292)\">\n",
       "<title>FST</title>\n",
       "<polygon fill=\"white\" stroke=\"none\" points=\"-4,4 -4,-104.292 1307.28,-104.292 1307.28,4 -4,4\"/>\n",
       "<!-- 0 -->\n",
       "<g id=\"node1\" class=\"node\"><title>0</title>\n",
       "<ellipse fill=\"none\" stroke=\"black\" stroke-width=\"2\" cx=\"18\" cy=\"-50.1459\" rx=\"18\" ry=\"18\"/>\n",
       "<text text-anchor=\"middle\" x=\"18\" y=\"-46.4459\" font-family=\"Times,serif\" font-size=\"14.00\">0</text>\n",
       "</g>\n",
       "<!-- 1 -->\n",
       "<g id=\"node2\" class=\"node\"><title>1</title>\n",
       "<ellipse fill=\"none\" stroke=\"black\" cx=\"112\" cy=\"-50.1459\" rx=\"18\" ry=\"18\"/>\n",
       "<text text-anchor=\"middle\" x=\"112\" y=\"-46.4459\" font-family=\"Times,serif\" font-size=\"14.00\">1</text>\n",
       "</g>\n",
       "<!-- 0&#45;&gt;1 -->\n",
       "<g id=\"edge1\" class=\"edge\"><title>0&#45;&gt;1</title>\n",
       "<path fill=\"none\" stroke=\"black\" d=\"M36.3045,-50.1459C49.5401,-50.1459 68.0529,-50.1459 83.3366,-50.1459\"/>\n",
       "<polygon fill=\"black\" stroke=\"black\" points=\"83.7731,-53.646 93.7731,-50.1459 83.7731,-46.646 83.7731,-53.646\"/>\n",
       "<text text-anchor=\"middle\" x=\"65\" y=\"-53.9459\" font-family=\"Times,serif\" font-size=\"14.00\">Then</text>\n",
       "</g>\n",
       "<!-- 2 -->\n",
       "<g id=\"node3\" class=\"node\"><title>2</title>\n",
       "<ellipse fill=\"none\" stroke=\"black\" cx=\"206\" cy=\"-50.1459\" rx=\"18\" ry=\"18\"/>\n",
       "<text text-anchor=\"middle\" x=\"206\" y=\"-46.4459\" font-family=\"Times,serif\" font-size=\"14.00\">2</text>\n",
       "</g>\n",
       "<!-- 1&#45;&gt;2 -->\n",
       "<g id=\"edge2\" class=\"edge\"><title>1&#45;&gt;2</title>\n",
       "<path fill=\"none\" stroke=\"black\" d=\"M130.304,-50.1459C143.54,-50.1459 162.053,-50.1459 177.337,-50.1459\"/>\n",
       "<polygon fill=\"black\" stroke=\"black\" points=\"177.773,-53.646 187.773,-50.1459 177.773,-46.646 177.773,-53.646\"/>\n",
       "<text text-anchor=\"middle\" x=\"159\" y=\"-53.9459\" font-family=\"Times,serif\" font-size=\"14.00\">there</text>\n",
       "</g>\n",
       "<!-- 3 -->\n",
       "<g id=\"node4\" class=\"node\"><title>3</title>\n",
       "<ellipse fill=\"none\" stroke=\"black\" cx=\"311\" cy=\"-50.1459\" rx=\"18\" ry=\"18\"/>\n",
       "<text text-anchor=\"middle\" x=\"311\" y=\"-46.4459\" font-family=\"Times,serif\" font-size=\"14.00\">3</text>\n",
       "</g>\n",
       "<!-- 2&#45;&gt;3 -->\n",
       "<g id=\"edge3\" class=\"edge\"><title>2&#45;&gt;3</title>\n",
       "<path fill=\"none\" stroke=\"black\" d=\"M224.008,-50.1459C239.962,-50.1459 264.087,-50.1459 282.728,-50.1459\"/>\n",
       "<polygon fill=\"black\" stroke=\"black\" points=\"282.966,-53.646 292.966,-50.1459 282.966,-46.646 282.966,-53.646\"/>\n",
       "<text text-anchor=\"middle\" x=\"258.5\" y=\"-53.9459\" font-family=\"Times,serif\" font-size=\"14.00\">&lt;corr&gt;</text>\n",
       "</g>\n",
       "<!-- 4 -->\n",
       "<g id=\"node5\" class=\"node\"><title>4</title>\n",
       "<ellipse fill=\"none\" stroke=\"black\" cx=\"407\" cy=\"-50.1459\" rx=\"18\" ry=\"18\"/>\n",
       "<text text-anchor=\"middle\" x=\"407\" y=\"-46.4459\" font-family=\"Times,serif\" font-size=\"14.00\">4</text>\n",
       "</g>\n",
       "<!-- 3&#45;&gt;4 -->\n",
       "<g id=\"edge4\" class=\"edge\"><title>3&#45;&gt;4</title>\n",
       "<path fill=\"none\" stroke=\"black\" d=\"M329.241,-50.1459C343.022,-50.1459 362.6,-50.1459 378.535,-50.1459\"/>\n",
       "<polygon fill=\"black\" stroke=\"black\" points=\"378.868,-53.646 388.868,-50.1459 378.868,-46.646 378.868,-53.646\"/>\n",
       "<text text-anchor=\"middle\" x=\"359\" y=\"-53.9459\" font-family=\"Times,serif\" font-size=\"14.00\">came</text>\n",
       "</g>\n",
       "<!-- 5 -->\n",
       "<g id=\"node6\" class=\"node\"><title>5</title>\n",
       "<ellipse fill=\"none\" stroke=\"black\" cx=\"516\" cy=\"-50.1459\" rx=\"18\" ry=\"18\"/>\n",
       "<text text-anchor=\"middle\" x=\"516\" y=\"-46.4459\" font-family=\"Times,serif\" font-size=\"14.00\">5</text>\n",
       "</g>\n",
       "<!-- 4&#45;&gt;5 -->\n",
       "<g id=\"edge5\" class=\"edge\"><title>4&#45;&gt;5</title>\n",
       "<path fill=\"none\" stroke=\"black\" d=\"M425.191,-50.1459C442.039,-50.1459 467.982,-50.1459 487.661,-50.1459\"/>\n",
       "<polygon fill=\"black\" stroke=\"black\" points=\"487.851,-53.646 497.851,-50.1459 487.851,-46.646 487.851,-53.646\"/>\n",
       "<text text-anchor=\"middle\" x=\"461.5\" y=\"-53.9459\" font-family=\"Times,serif\" font-size=\"14.00\">&lt;/corr&gt;</text>\n",
       "</g>\n",
       "<!-- 6 -->\n",
       "<g id=\"node7\" class=\"node\"><title>6</title>\n",
       "<ellipse fill=\"none\" stroke=\"black\" cx=\"621\" cy=\"-50.1459\" rx=\"18\" ry=\"18\"/>\n",
       "<text text-anchor=\"middle\" x=\"621\" y=\"-46.4459\" font-family=\"Times,serif\" font-size=\"14.00\">6</text>\n",
       "</g>\n",
       "<!-- 5&#45;&gt;6 -->\n",
       "<g id=\"edge6\" class=\"edge\"><title>5&#45;&gt;6</title>\n",
       "<path fill=\"none\" stroke=\"black\" d=\"M534.008,-50.1459C549.962,-50.1459 574.087,-50.1459 592.728,-50.1459\"/>\n",
       "<polygon fill=\"black\" stroke=\"black\" points=\"592.966,-53.646 602.966,-50.1459 592.966,-46.646 592.966,-53.646\"/>\n",
       "<text text-anchor=\"middle\" x=\"568.5\" y=\"-53.9459\" font-family=\"Times,serif\" font-size=\"14.00\">&lt;corr&gt;</text>\n",
       "</g>\n",
       "<!-- 7 -->\n",
       "<g id=\"node8\" class=\"node\"><title>7</title>\n",
       "<ellipse fill=\"none\" stroke=\"black\" cx=\"704\" cy=\"-50.1459\" rx=\"18\" ry=\"18\"/>\n",
       "<text text-anchor=\"middle\" x=\"704\" y=\"-46.4459\" font-family=\"Times,serif\" font-size=\"14.00\">7</text>\n",
       "</g>\n",
       "<!-- 6&#45;&gt;7 -->\n",
       "<g id=\"edge7\" class=\"edge\"><title>6&#45;&gt;7</title>\n",
       "<path fill=\"none\" stroke=\"black\" d=\"M639.178,-50.1459C649.81,-50.1459 663.694,-50.1459 675.796,-50.1459\"/>\n",
       "<polygon fill=\"black\" stroke=\"black\" points=\"675.847,-53.646 685.847,-50.1459 675.847,-46.646 675.847,-53.646\"/>\n",
       "<text text-anchor=\"middle\" x=\"662.5\" y=\"-53.9459\" font-family=\"Times,serif\" font-size=\"14.00\">the</text>\n",
       "</g>\n",
       "<!-- 8 -->\n",
       "<g id=\"node9\" class=\"node\"><title>8</title>\n",
       "<ellipse fill=\"none\" stroke=\"black\" cx=\"813\" cy=\"-50.1459\" rx=\"18\" ry=\"18\"/>\n",
       "<text text-anchor=\"middle\" x=\"813\" y=\"-46.4459\" font-family=\"Times,serif\" font-size=\"14.00\">8</text>\n",
       "</g>\n",
       "<!-- 7&#45;&gt;8 -->\n",
       "<g id=\"edge8\" class=\"edge\"><title>7&#45;&gt;8</title>\n",
       "<path fill=\"none\" stroke=\"black\" d=\"M722.191,-50.1459C739.039,-50.1459 764.982,-50.1459 784.661,-50.1459\"/>\n",
       "<polygon fill=\"black\" stroke=\"black\" points=\"784.851,-53.646 794.851,-50.1459 784.851,-46.646 784.851,-53.646\"/>\n",
       "<text text-anchor=\"middle\" x=\"758.5\" y=\"-53.9459\" font-family=\"Times,serif\" font-size=\"14.00\">&lt;/corr&gt;</text>\n",
       "</g>\n",
       "<!-- 9 -->\n",
       "<g id=\"node10\" class=\"node\"><title>9</title>\n",
       "<ellipse fill=\"none\" stroke=\"black\" cx=\"918\" cy=\"-50.1459\" rx=\"18\" ry=\"18\"/>\n",
       "<text text-anchor=\"middle\" x=\"918\" y=\"-46.4459\" font-family=\"Times,serif\" font-size=\"14.00\">9</text>\n",
       "</g>\n",
       "<!-- 8&#45;&gt;9 -->\n",
       "<g id=\"edge9\" class=\"edge\"><title>8&#45;&gt;9</title>\n",
       "<path fill=\"none\" stroke=\"black\" d=\"M831.008,-50.1459C846.962,-50.1459 871.087,-50.1459 889.728,-50.1459\"/>\n",
       "<polygon fill=\"black\" stroke=\"black\" points=\"889.966,-53.646 899.966,-50.1459 889.966,-46.646 889.966,-53.646\"/>\n",
       "<text text-anchor=\"middle\" x=\"865.5\" y=\"-53.9459\" font-family=\"Times,serif\" font-size=\"14.00\">&lt;corr&gt;</text>\n",
       "</g>\n",
       "<!-- 10 -->\n",
       "<g id=\"node11\" class=\"node\"><title>10</title>\n",
       "<ellipse fill=\"none\" stroke=\"black\" cx=\"1037.5\" cy=\"-50.1459\" rx=\"19.4965\" ry=\"19.4965\"/>\n",
       "<text text-anchor=\"middle\" x=\"1037.5\" y=\"-46.4459\" font-family=\"Times,serif\" font-size=\"14.00\">10</text>\n",
       "</g>\n",
       "<!-- 9&#45;&gt;10 -->\n",
       "<g id=\"edge10\" class=\"edge\"><title>9&#45;&gt;10</title>\n",
       "<path fill=\"none\" stroke=\"black\" d=\"M936.085,-50.1459C954.792,-50.1459 985.11,-50.1459 1007.54,-50.1459\"/>\n",
       "<polygon fill=\"black\" stroke=\"black\" points=\"1007.84,-53.646 1017.84,-50.1459 1007.84,-46.646 1007.84,-53.646\"/>\n",
       "<text text-anchor=\"middle\" x=\"977\" y=\"-53.9459\" font-family=\"Times,serif\" font-size=\"14.00\">problems</text>\n",
       "</g>\n",
       "<!-- 11 -->\n",
       "<g id=\"node12\" class=\"node\"><title>11</title>\n",
       "<ellipse fill=\"none\" stroke=\"black\" cx=\"1149.49\" cy=\"-50.1459\" rx=\"19.4965\" ry=\"19.4965\"/>\n",
       "<text text-anchor=\"middle\" x=\"1149.49\" y=\"-46.4459\" font-family=\"Times,serif\" font-size=\"14.00\">11</text>\n",
       "</g>\n",
       "<!-- 10&#45;&gt;11 -->\n",
       "<g id=\"edge11\" class=\"edge\"><title>10&#45;&gt;11</title>\n",
       "<path fill=\"none\" stroke=\"black\" d=\"M1057.16,-50.1459C1074.3,-50.1459 1099.98,-50.1459 1119.74,-50.1459\"/>\n",
       "<polygon fill=\"black\" stroke=\"black\" points=\"1119.74,-53.646 1129.74,-50.1459 1119.74,-46.646 1119.74,-53.646\"/>\n",
       "<text text-anchor=\"middle\" x=\"1093.5\" y=\"-53.9459\" font-family=\"Times,serif\" font-size=\"14.00\">&lt;/corr&gt;</text>\n",
       "</g>\n",
       "<!-- 12 -->\n",
       "<g id=\"node13\" class=\"node\"><title>12</title>\n",
       "<ellipse fill=\"none\" stroke=\"black\" cx=\"1253.14\" cy=\"-50.1459\" rx=\"46.2806\" ry=\"46.2806\"/>\n",
       "<ellipse fill=\"none\" stroke=\"black\" cx=\"1253.14\" cy=\"-50.1459\" rx=\"50.2922\" ry=\"50.2922\"/>\n",
       "<text text-anchor=\"middle\" x=\"1253.14\" y=\"-46.4459\" font-family=\"Times,serif\" font-size=\"14.00\">12/27.991</text>\n",
       "</g>\n",
       "<!-- 11&#45;&gt;12 -->\n",
       "<g id=\"edge12\" class=\"edge\"><title>11&#45;&gt;12</title>\n",
       "<path fill=\"none\" stroke=\"black\" d=\"M1169.14,-50.1459C1175.98,-50.1459 1184.13,-50.1459 1192.63,-50.1459\"/>\n",
       "<polygon fill=\"black\" stroke=\"black\" points=\"1192.69,-53.646 1202.69,-50.1459 1192.69,-46.646 1192.69,-53.646\"/>\n",
       "<text text-anchor=\"middle\" x=\"1185.99\" y=\"-53.9459\" font-family=\"Times,serif\" font-size=\"14.00\">.</text>\n",
       "</g>\n",
       "</g>\n",
       "</svg>\n"
      ],
      "text/plain": [
       "<vector Fst at 0x7f64d72f6810>"
      ]
     },
     "execution_count": 59,
     "metadata": {},
     "output_type": "execute_result"
    }
   ],
   "source": [
    "final_conll2013_1198 = fst.shortestpath(fst.compose(mkcostfst(-1.0),edited_conll2013_1198_LMmap_G2))\n",
    "final_conll2013_1198.rmepsilon().push(to_final=True).topsort().set_input_symbols(words_ST)"
   ]
  },
  {
   "cell_type": "markdown",
   "metadata": {},
   "source": [
    "## 2.5. Hypotheses and Evaluation"
   ]
  },
  {
   "cell_type": "markdown",
   "metadata": {},
   "source": [
    "To prepare the output for scoring, it is necessary to remove the correction tags, and also to make a few systematic fixes to problems that might occur:\n",
    "\n",
    "- if `i` occurs alone, it is captialized to `I`\n",
    "- the first character of the first word is capitalized\n",
    "\n",
    "The following brief script will do this:"
   ]
  },
  {
   "cell_type": "markdown",
   "metadata": {},
   "source": [
    "### 2.5.1. Objective\n",
    "\n",
    "* **Detokenizer**\n",
    "\n",
    ">* The string generated by the WFST $ W_{n} = A_\\lambda \\circ \\Pi_2(O_n  \\circ T_\\mbox{edit}) \\circ T_\\mbox{LMmap} \\circ G_\\mbox{2}$ contains tags and is not capitalized.\n",
    ">* The detokenizer does the following:\n",
    ">  * Remove `<epsilon>`, `<corr>`, `</corr>`, `<s>`, `</s>`, `<unk>`, `<phi>`.\n",
    ">  * Capitalize the first character of the first word.\n",
    ">  * Capitalize the letter `i` if it occurs alone.\n",
    "\n",
    "* **Objective**\n",
    "\n",
    ">* The transducer $\\Pi_2(O_n  \\circ T_\\mbox{edit}) \\circ T_\\mbox{LMmap} \\circ G_\\mbox{2}$ has been obtained for every combination of **dataset** and **n-gram order**.\n",
    ">* Arbitrary **edit penalty** can be applied to this WFST.\n",
    ">* The string represented by the **shortest path** (path with minimal cost) is chosen as the **hypothesis** for that sentence.\n",
    ">* **Detokenize** each hypothesis.\n",
    ">* The set of resulting hypotheses is saved as **text file**, and is used to evaluate the **model performance**.\n",
    ">* The edit penalty is tuned to maximise the performance"
   ]
  },
  {
   "cell_type": "markdown",
   "metadata": {},
   "source": [
    "### 2.5.2. Code"
   ]
  },
  {
   "cell_type": "code",
   "execution_count": 71,
   "metadata": {},
   "outputs": [],
   "source": [
    "# detokenizer\n",
    "def mktok(rawhyp):\n",
    "    nomap = ['<epsilon>', '<corr>', '</corr>', '<s>', '</s>', '<unk>', '<phi>']\n",
    "    words = rawhyp.lstrip().split()\n",
    "    words = [w for w in words if w not in nomap]\n",
    "    words[0] = words[0].capitalize()\n",
    "    words = [x if x != 'i' else 'I' for x in words]\n",
    "    return ' '.join(words)+'\\n'"
   ]
  },
  {
   "cell_type": "markdown",
   "metadata": {},
   "source": [
    "### 2.5.3. Example of Usage\n",
    "* Example for **CONLL2013**, **2-Gram LM**, and $\\lambda = 2.5$"
   ]
  },
  {
   "cell_type": "code",
   "execution_count": 137,
   "metadata": {},
   "outputs": [],
   "source": [
    "# prepare a list to store hypotheses\n",
    "conll2013hyps = []\n",
    "\n",
    "idx = 0\n",
    "while True:\n",
    "    \n",
    "    # for each FST made with CONLL2013 dataset using 2-gram LM,\n",
    "    idx += 1 \n",
    "    srcfile = 'EditAcceptors.2gLM/conll2013/%04d.fst' % idx\n",
    "    if (not os.path.isfile(srcfile)):\n",
    "        break\n",
    "    \n",
    "    # apply edit penalty of 2.5\n",
    "    eofst = fst.Fst.read(srcfile)\n",
    "    tmp = fst.compose(mkcostfst(2.5), eofst)\n",
    "    \n",
    "    # add the shortest path to the list\n",
    "    conll2013hyps.append(utilfst.printstrings(tmp, syms=words_ST)[0] )"
   ]
  },
  {
   "cell_type": "code",
   "execution_count": 138,
   "metadata": {},
   "outputs": [],
   "source": [
    "! mkdir -p tmp/\n",
    "\n",
    "# write the hypotheses into text file with suitable name\n",
    "f = open(\"tmp/conll2013_Go2_2.5.txt\", \"w\")\n",
    "for l in conll2013hyps:\n",
    "    f.write(mktok(l))\n",
    "f.close()"
   ]
  },
  {
   "cell_type": "markdown",
   "metadata": {},
   "source": [
    "* **NOTE:** In case of CONLL2014 dataset, the omitted segments must be re-inserted as following.\n",
    "\n",
    "```\n",
    "! awk -f $DIR/replace.conll2014.332-335.awk tmp/conll2014_short_Go2_2.5.txt > tmp/conll2014_Go2_2.5.txt```"
   ]
  },
  {
   "cell_type": "code",
   "execution_count": 139,
   "metadata": {},
   "outputs": [
    {
     "name": "stdout",
     "output_type": "stream",
     "text": [
      "Precision   : 0.3206\r\n",
      "Recall      : 0.0914\r\n",
      "F_0.5       : 0.2135\r\n"
     ]
    }
   ],
   "source": [
    "! $DIR/m2scorer/m2scorer tmp/conll2013_Go2_2.5.txt $DIR/m2/conll2013.auto.nltk.m2"
   ]
  },
  {
   "cell_type": "markdown",
   "metadata": {},
   "source": [
    "# 3. Experiments"
   ]
  },
  {
   "cell_type": "code",
   "execution_count": 13,
   "metadata": {},
   "outputs": [],
   "source": [
    "# this function runs experiment for the given combination of dataset, LM and edit penalty\n",
    "def run_experiment(dataset, LM, pen, file_name):\n",
    "\n",
    "    # this may take a few minutes\n",
    "    hyps = []\n",
    "    idx = 0\n",
    "    while True:\n",
    "        idx += 1 \n",
    "        srcfile = 'EditAcceptors.{0}gLM/{1}/%04d.fst'.format(LM, dataset)\n",
    "        srcfile = srcfile % idx\n",
    "        if (not os.path.isfile(srcfile)):\n",
    "            break\n",
    "        eofst = fst.Fst.read(srcfile)\n",
    "        tmp = fst.compose(mkcostfst(pen), eofst)\n",
    "        hyps.append(utilfst.printstrings(tmp, syms=words_ST)[0] )\n",
    "\n",
    "    f = open(\"tmp/{0}.txt\".format(file_name), \"w\")\n",
    "    for l in hyps:\n",
    "        f.write(mktok(l))\n",
    "    f.close()"
   ]
  },
  {
   "cell_type": "markdown",
   "metadata": {},
   "source": [
    "## 3.1. Effect of Determinization and Minimization on the Processing Time"
   ]
  },
  {
   "cell_type": "markdown",
   "metadata": {},
   "source": [
    "### 3.1.1. Method\n",
    "\n",
    "* The final automata is given as following.\n",
    "\n",
    "\\begin{align}\n",
    "W_{n} &= A_\\lambda \\circ E_{n} \\\\\n",
    "&= A_\\lambda \\circ \\Pi_2(O_n  \\circ T_\\mbox{edit}) \\circ T_\\mbox{LMmap} \\circ G_\\mbox{2}\n",
    "\\end{align}\n",
    "\n",
    "* Applying determinization and minimization on $E_n$ simplifies the WFST and thereby accelerates the shortest path operation. Measure the change in processing time to determine the feasibility of such modification."
   ]
  },
  {
   "cell_type": "markdown",
   "metadata": {},
   "source": [
    "### 3.1.2. Experiment & Results\n",
    "\n",
    "* The experiment uses the first 500 sentences in the CONLL2013 dataset."
   ]
  },
  {
   "cell_type": "code",
   "execution_count": 18,
   "metadata": {},
   "outputs": [
    {
     "name": "stdout",
     "output_type": "stream",
     "text": [
      "CPU times: user 8.76 s, sys: 234 ms, total: 9 s\n",
      "Wall time: 34.2 s\n"
     ]
    }
   ],
   "source": [
    "# time spent to create E_n / without determinization and minimization \n",
    "\n",
    "%%time\n",
    "\n",
    "! mkdir -p EditAcceptors.2gLM/conll2013_exp1/\n",
    "\n",
    "idx = 0\n",
    "while True:\n",
    "    idx += 1\n",
    "    srcfile = DIR+'orig/fsts/conll2013/%04d.fst' % idx\n",
    "    if idx == 501:\n",
    "        break\n",
    "        \n",
    "    tgt = 'EditAcceptors.2gLM/conll2013_exp1/%04d.fst' % idx\n",
    "    if (not os.path.isfile(tgt)):\n",
    "        src = fst.Fst.read(srcfile)\n",
    "        tmp = fst.compose(fst.compose(fst.compose(src,tedit).project(project_output=True), LMmap), G_o2)\n",
    "        tmp.write(tgt)"
   ]
  },
  {
   "cell_type": "code",
   "execution_count": 22,
   "metadata": {},
   "outputs": [
    {
     "name": "stdout",
     "output_type": "stream",
     "text": [
      "CPU times: user 1min 28s, sys: 400 ms, total: 1min 29s\n",
      "Wall time: 1min 58s\n"
     ]
    }
   ],
   "source": [
    "# time spent to create E_n / with determinization and minimization\n",
    "\n",
    "%%time\n",
    "\n",
    "! mkdir -p EditAcceptors.2gLM/conll2013_exp2/\n",
    "\n",
    "idx = 0\n",
    "while True:\n",
    "    idx += 1\n",
    "    srcfile = DIR+'orig/fsts/conll2013/%04d.fst' % idx\n",
    "    if idx == 501:\n",
    "        break\n",
    "        \n",
    "    tgt = 'EditAcceptors.2gLM/conll2013_exp2/%04d.fst' % idx\n",
    "    if (not os.path.isfile(tgt)):\n",
    "        src = fst.Fst.read(srcfile)\n",
    "        tmp = fst.compose(fst.compose(fst.compose(src,tedit).project(project_output=True), LMmap), G_o2)\n",
    "        tmp2 = fst.determinize(tmp).minimize()\n",
    "        tmp2.write(tgt)"
   ]
  },
  {
   "cell_type": "code",
   "execution_count": 20,
   "metadata": {},
   "outputs": [
    {
     "name": "stdout",
     "output_type": "stream",
     "text": [
      "CPU times: user 15.8 s, sys: 104 ms, total: 15.9 s\n",
      "Wall time: 39.5 s\n"
     ]
    }
   ],
   "source": [
    "# time spent for shortest path operation - without determinization and minimization\n",
    "\n",
    "%%time\n",
    "\n",
    "dataset = 'conll2013_exp1'\n",
    "LM = 2\n",
    "pen = 2.5\n",
    "file_name = '{0}_Go{1}_{2}'.format(dataset, LM, pen)\n",
    "\n",
    "run_experiment(dataset, LM, pen, file_name)"
   ]
  },
  {
   "cell_type": "code",
   "execution_count": 21,
   "metadata": {
    "scrolled": true
   },
   "outputs": [
    {
     "name": "stdout",
     "output_type": "stream",
     "text": [
      "CPU times: user 8.44 s, sys: 120 ms, total: 8.56 s\n",
      "Wall time: 26.1 s\n"
     ]
    }
   ],
   "source": [
    "# time spent for shortest path operation - with determinization and minimization\n",
    "\n",
    "%%time\n",
    "\n",
    "dataset = 'conll2013_exp2'\n",
    "LM = 2\n",
    "pen = 2.5\n",
    "file_name = '{0}_Go{1}_{2}'.format(dataset, LM, pen)\n",
    "\n",
    "run_experiment(dataset, LM, pen, file_name)"
   ]
  },
  {
   "cell_type": "markdown",
   "metadata": {},
   "source": [
    "### 3.1.3 Discussion\n",
    "\n",
    "The processing time for GEC operation is reduced by 7.36 seconds, while that for the FST construction is increased by 80 seconds. In this case, the modified procedure would be preferable if more than 10 GEC operations are run for the same set of FSTs."
   ]
  },
  {
   "cell_type": "markdown",
   "metadata": {},
   "source": [
    "## 3.2. Oracle Sentence Error Rate"
   ]
  },
  {
   "cell_type": "markdown",
   "metadata": {},
   "source": [
    "### 3.2.1. Method\n",
    "\n",
    "* **Oracle Sentence Error Rate** measures how often the search space defined by the edit transducer fails to include at least one of the references.\n",
    "\n",
    "* For the `JFLEG_DEV` dataset, measure the Oracle Sentence Error Rate by changing the number of reference sets."
   ]
  },
  {
   "cell_type": "markdown",
   "metadata": {},
   "source": [
    "### 3.2.2. Experiment & Results"
   ]
  },
  {
   "cell_type": "code",
   "execution_count": 30,
   "metadata": {},
   "outputs": [
    {
     "name": "stdout",
     "output_type": "stream",
     "text": [
      "(0.8368700265251989, 0.7785145888594165, 0.7175066312997348, 0.6392572944297082)\n"
     ]
    }
   ],
   "source": [
    "idx = 0\n",
    "\n",
    "# number of failures\n",
    "oser0 = 0.0\n",
    "oser1 = 0.0\n",
    "oser2 = 0.0\n",
    "oser3 = 0.0\n",
    "\n",
    "# total number of sentences\n",
    "total_num = 0.0\n",
    "\n",
    "while True:\n",
    "    idx += 1 \n",
    "    srcfile = 'EditAcceptors.1gLM/jfleg_dev/%04d.fst' % idx\n",
    "    if (not os.path.isfile(srcfile)):\n",
    "        total_num = idx - 1\n",
    "        break\n",
    "\n",
    "    # search space defined by the edit transducer\n",
    "    c = fst.Fst.read('EditAcceptors.1gLM/jfleg_dev/%04d.fst' % idx).project(project_output=True)\n",
    "    \n",
    "    # four reference sets\n",
    "    r0 = fst.Fst.read(DIR+'cor/fsts/jfleg_dev/%04d.0.fst' % idx)\n",
    "    r1 = fst.Fst.read(DIR+'cor/fsts/jfleg_dev/%04d.1.fst' % idx)\n",
    "    r2 = fst.Fst.read(DIR+'cor/fsts/jfleg_dev/%04d.2.fst' % idx)\n",
    "    r3 = fst.Fst.read(DIR+'cor/fsts/jfleg_dev/%04d.3.fst' % idx)\n",
    "\n",
    "    # R1: union of r0, r1\n",
    "    R1 = r0.copy().union(r1).arcsort()\n",
    "    \n",
    "    # R2: union of r0, r1, r2\n",
    "    R2 = r0.copy().union(r1).union(r2).arcsort()\n",
    "    \n",
    "    # R3: union of r0, r1, r2, r3\n",
    "    R3 = r0.copy().union(r1).union(r2).union(r3).arcsort()\n",
    "\n",
    "    # if r0 is included, no need to check for R1, R2, R3\n",
    "    # if r0 is not included, check for R1 \n",
    "    if fst.intersect(c,r0).num_states() == 0:\n",
    "        oser0 += 1\n",
    "        if fst.intersect(c,R1).num_states() == 0:\n",
    "            oser1 += 1\n",
    "            if fst.intersect(c,R2).num_states() == 0:\n",
    "                oser2 += 1\n",
    "                if fst.intersect(c,R3).num_states() == 0:\n",
    "                    oser3 += 1\n",
    "\n",
    "# print the Oracle Sentence Error Rate\n",
    "print(oser0/total_num, oser1/total_num, oser2/total_num, oser3/total_num)"
   ]
  },
  {
   "cell_type": "markdown",
   "metadata": {},
   "source": [
    "### 3.2.3. Discussion\n",
    "\n",
    "The Oracle error rate is proportional to the number of sentences that have no reference allowed by the edit transducer. Therefore, the error rate is guaranteed to decrease (or at least stay the same) as more reference sets are allowed. Such tendency can be confirmed from the obtained results.\n",
    "\n",
    "**The effect of increasing the number of references on the GEC performance:**\n",
    "\n",
    "The m2 scorer evaluates the score of each sentence against every available correction. Then, it uses the set of corrections that maximizes the model performance (i.e. F-score). Therefore, the performance is guaranteed to improve (or stay the same) when more references are given.\n",
    "\n",
    "For a given grammatically incorrect sentence, there can be multiple ways to modify it. However, some of these correct answers may not be covered by the edit transducer. In order for a GEC model to work properly, its search space must contain at least one correct answer for each given sentence. Therefore, the performance improvement caused by the increase in the number of reference sets is valid, and can be trusted."
   ]
  },
  {
   "cell_type": "markdown",
   "metadata": {},
   "source": [
    "## 3.3. Effect of N-Gram Order on GEC Performance"
   ]
  },
  {
   "cell_type": "markdown",
   "metadata": {},
   "source": [
    "### 3.3.1. Method\n",
    "\n",
    "* Fix the edit penalty to $2.5$ for the `CONLL` sets and $6.0$ for the `JFLEG` sets\n",
    "* Measure the GEC performance for different n-gram order  - $1,2,3,4,5$"
   ]
  },
  {
   "cell_type": "markdown",
   "metadata": {},
   "source": [
    "### 3.3.2. Experiment"
   ]
  },
  {
   "cell_type": "code",
   "execution_count": 35,
   "metadata": {},
   "outputs": [
    {
     "name": "stdout",
     "output_type": "stream",
     "text": [
      "conll2013_Go1_2.5\n",
      "conll2013_Go2_2.5\n",
      "conll2013_Go3_2.5\n",
      "conll2013_Go4_2.5\n"
     ]
    }
   ],
   "source": [
    "dataset = 'conll2013'\n",
    "LM = [1,2,3,4]\n",
    "pen = 2.5\n",
    "\n",
    "for i in range(4):    \n",
    "    file_name = '{0}_Go{1}_{2}'.format(dataset, LM[i], pen)\n",
    "    run_experiment(dataset, LM, pen[i], file_name)\n",
    "    print(file_name)"
   ]
  },
  {
   "cell_type": "code",
   "execution_count": 39,
   "metadata": {},
   "outputs": [
    {
     "name": "stdout",
     "output_type": "stream",
     "text": [
      "conll2014.short_Go1_2.5\n",
      "conll2014.short_Go2_2.5\n",
      "conll2014.short_Go3_2.5\n",
      "conll2014.short_Go4_2.5\n"
     ]
    }
   ],
   "source": [
    "dataset = 'conll2014.short'\n",
    "LM = [1,2,3,4]\n",
    "pen = 2.5\n",
    "\n",
    "for i in range(4):    \n",
    "    file_name = '{0}_Go{1}_{2}'.format(dataset, LM[i], pen)\n",
    "    run_experiment(dataset, LM, pen[i], file_name)\n",
    "    print(file_name)"
   ]
  },
  {
   "cell_type": "code",
   "execution_count": 37,
   "metadata": {},
   "outputs": [
    {
     "name": "stdout",
     "output_type": "stream",
     "text": [
      "jfleg_dev_Go1_6.0\n",
      "jfleg_dev_Go2_6.0\n",
      "jfleg_dev_Go3_6.0\n",
      "jfleg_dev_Go4_6.0\n"
     ]
    }
   ],
   "source": [
    "dataset = 'jfleg_dev'\n",
    "LM = [1,2,3,4]\n",
    "pen = 6.0\n",
    "\n",
    "for i in range(4):    \n",
    "    file_name = '{0}_Go{1}_{2}'.format(dataset, LM[i], pen)\n",
    "    run_experiment(dataset, LM, pen[i], file_name)\n",
    "    print(file_name)"
   ]
  },
  {
   "cell_type": "code",
   "execution_count": 38,
   "metadata": {},
   "outputs": [
    {
     "name": "stdout",
     "output_type": "stream",
     "text": [
      "jfleg_test_Go1_6.0\n",
      "jfleg_test_Go2_6.0\n",
      "jfleg_test_Go3_6.0\n",
      "jfleg_test_Go4_6.0\n"
     ]
    }
   ],
   "source": [
    "dataset = 'jfleg_test'\n",
    "LM = [1,2,3,4]\n",
    "pen = 6.0\n",
    "\n",
    "for i in range(4):    \n",
    "    file_name = '{0}_Go{1}_{2}'.format(dataset, LM[i], pen)\n",
    "    run_experiment(dataset, LM, pen[i], file_name)\n",
    "    print(file_name)"
   ]
  },
  {
   "cell_type": "markdown",
   "metadata": {},
   "source": [
    "### 3.3.3. Results\n",
    "* `CONLL2013`"
   ]
  },
  {
   "cell_type": "code",
   "execution_count": 33,
   "metadata": {
    "collapsed": true
   },
   "outputs": [
    {
     "name": "stdout",
     "output_type": "stream",
     "text": [
      "Precision   : 0.2394\r\n",
      "Recall      : 0.0414\r\n",
      "F_0.5       : 0.1224\r\n"
     ]
    }
   ],
   "source": [
    "! $DIR/m2scorer/m2scorer tmp/conll2013_Go1_2.5.txt $DIR/m2/conll2013.auto.nltk.m2"
   ]
  },
  {
   "cell_type": "code",
   "execution_count": 35,
   "metadata": {
    "collapsed": true
   },
   "outputs": [
    {
     "name": "stdout",
     "output_type": "stream",
     "text": [
      "Precision   : 0.3309\r\n",
      "Recall      : 0.0922\r\n",
      "F_0.5       : 0.2181\r\n"
     ]
    }
   ],
   "source": [
    "! $DIR/m2scorer/m2scorer tmp/conll2013_Go2_2.5.txt $DIR/m2/conll2013.auto.nltk.m2"
   ]
  },
  {
   "cell_type": "code",
   "execution_count": 37,
   "metadata": {
    "collapsed": true
   },
   "outputs": [
    {
     "name": "stdout",
     "output_type": "stream",
     "text": [
      "Precision   : 0.3328\r\n",
      "Recall      : 0.1304\r\n",
      "F_0.5       : 0.2540\r\n"
     ]
    }
   ],
   "source": [
    "! $DIR/m2scorer/m2scorer tmp/conll2013_Go3_2.5.txt $DIR/m2/conll2013.auto.nltk.m2"
   ]
  },
  {
   "cell_type": "code",
   "execution_count": 39,
   "metadata": {
    "collapsed": true
   },
   "outputs": [
    {
     "name": "stdout",
     "output_type": "stream",
     "text": [
      "Precision   : 0.3252\r\n",
      "Recall      : 0.1340\r\n",
      "F_0.5       : 0.2530\r\n"
     ]
    }
   ],
   "source": [
    "! $DIR/m2scorer/m2scorer tmp/conll2013_Go4_2.5.txt $DIR/m2/conll2013.auto.nltk.m2"
   ]
  },
  {
   "cell_type": "markdown",
   "metadata": {},
   "source": [
    "* `CONLL2014`"
   ]
  },
  {
   "cell_type": "code",
   "execution_count": 48,
   "metadata": {
    "collapsed": true
   },
   "outputs": [
    {
     "name": "stdout",
     "output_type": "stream",
     "text": [
      "Precision   : 0.2781\r\n",
      "Recall      : 0.0747\r\n",
      "F_0.5       : 0.1800\r\n"
     ]
    }
   ],
   "source": [
    "! awk -f $DIR/replace.conll2014.332-335.awk tmp/conll2014.short_Go1_2.5.txt > tmp/conll2014_Go1_2.5.txt\n",
    "! $DIR/m2scorer/m2scorer tmp/conll2014_Go1_2.5.txt $DIR/m2/conll2014_2.auto.nltk.m2"
   ]
  },
  {
   "cell_type": "code",
   "execution_count": 49,
   "metadata": {
    "collapsed": true
   },
   "outputs": [
    {
     "name": "stdout",
     "output_type": "stream",
     "text": [
      "Precision   : 0.3556\r\n",
      "Recall      : 0.1481\r\n",
      "F_0.5       : 0.2778\r\n"
     ]
    }
   ],
   "source": [
    "! awk -f $DIR/replace.conll2014.332-335.awk tmp/conll2014.short_Go2_2.5.txt > tmp/conll2014_Go2_2.5.txt\n",
    "! $DIR/m2scorer/m2scorer tmp/conll2014_Go2_2.5.txt $DIR/m2/conll2014_2.auto.nltk.m2"
   ]
  },
  {
   "cell_type": "code",
   "execution_count": 50,
   "metadata": {
    "collapsed": true
   },
   "outputs": [
    {
     "name": "stdout",
     "output_type": "stream",
     "text": [
      "Precision   : 0.4010\r\n",
      "Recall      : 0.1959\r\n",
      "F_0.5       : 0.3316\r\n"
     ]
    }
   ],
   "source": [
    "! awk -f $DIR/replace.conll2014.332-335.awk tmp/conll2014.short_Go3_2.5.txt > tmp/conll2014_Go3_2.5.txt\n",
    "! $DIR/m2scorer/m2scorer tmp/conll2014_Go3_2.5.txt $DIR/m2/conll2014_2.auto.nltk.m2"
   ]
  },
  {
   "cell_type": "code",
   "execution_count": 51,
   "metadata": {
    "collapsed": true
   },
   "outputs": [
    {
     "name": "stdout",
     "output_type": "stream",
     "text": [
      "Precision   : 0.3807\r\n",
      "Recall      : 0.2041\r\n",
      "F_0.5       : 0.3245\r\n"
     ]
    }
   ],
   "source": [
    "! awk -f $DIR/replace.conll2014.332-335.awk tmp/conll2014.short_Go4_2.5.txt > tmp/conll2014_Go4_2.5.txt\n",
    "! $DIR/m2scorer/m2scorer tmp/conll2014_Go4_2.5.txt $DIR/m2/conll2014_2.auto.nltk.m2"
   ]
  },
  {
   "cell_type": "markdown",
   "metadata": {},
   "source": [
    "* `JFLEG_DEV`"
   ]
  },
  {
   "cell_type": "code",
   "execution_count": 56,
   "metadata": {
    "collapsed": true
   },
   "outputs": [
    {
     "name": "stdout",
     "output_type": "stream",
     "text": [
      "Precision   : 0.6654\r\n",
      "Recall      : 0.2076\r\n",
      "F_0.5       : 0.4617\r\n"
     ]
    }
   ],
   "source": [
    "! $DIR/m2scorer/m2scorer tmp/jfleg_dev_Go1_6.0.txt $DIR/m2/jfleg_dev.auto.nltk.m2"
   ]
  },
  {
   "cell_type": "code",
   "execution_count": 57,
   "metadata": {
    "collapsed": true
   },
   "outputs": [
    {
     "name": "stdout",
     "output_type": "stream",
     "text": [
      "Precision   : 0.7650\r\n",
      "Recall      : 0.2552\r\n",
      "F_0.5       : 0.5466\r\n"
     ]
    }
   ],
   "source": [
    "! $DIR/m2scorer/m2scorer tmp/jfleg_dev_Go2_6.0.txt $DIR/m2/jfleg_dev.auto.nltk.m2"
   ]
  },
  {
   "cell_type": "code",
   "execution_count": 58,
   "metadata": {
    "collapsed": true
   },
   "outputs": [
    {
     "name": "stdout",
     "output_type": "stream",
     "text": [
      "Precision   : 0.7582\r\n",
      "Recall      : 0.2856\r\n",
      "F_0.5       : 0.5697\r\n"
     ]
    }
   ],
   "source": [
    "! $DIR/m2scorer/m2scorer tmp/jfleg_dev_Go3_6.0.txt $DIR/m2/jfleg_dev.auto.nltk.m2"
   ]
  },
  {
   "cell_type": "code",
   "execution_count": 59,
   "metadata": {
    "collapsed": true
   },
   "outputs": [
    {
     "name": "stdout",
     "output_type": "stream",
     "text": [
      "Precision   : 0.7539\r\n",
      "Recall      : 0.2826\r\n",
      "F_0.5       : 0.5654\r\n"
     ]
    }
   ],
   "source": [
    "! $DIR/m2scorer/m2scorer tmp/jfleg_dev_Go4_6.0.txt $DIR/m2/jfleg_dev.auto.nltk.m2"
   ]
  },
  {
   "cell_type": "markdown",
   "metadata": {},
   "source": [
    "* `JFLEG_TEST`"
   ]
  },
  {
   "cell_type": "code",
   "execution_count": 64,
   "metadata": {
    "collapsed": true
   },
   "outputs": [
    {
     "name": "stdout",
     "output_type": "stream",
     "text": [
      "Precision   : 0.7143\r\n",
      "Recall      : 0.2418\r\n",
      "F_0.5       : 0.5136\r\n"
     ]
    }
   ],
   "source": [
    "! $DIR/m2scorer/m2scorer tmp/jfleg_test_Go1_6.0.txt $DIR/m2/jfleg_test.auto.nltk.m2"
   ]
  },
  {
   "cell_type": "code",
   "execution_count": 65,
   "metadata": {
    "collapsed": true
   },
   "outputs": [
    {
     "name": "stdout",
     "output_type": "stream",
     "text": [
      "Precision   : 0.7919\r\n",
      "Recall      : 0.2970\r\n",
      "F_0.5       : 0.5939\r\n"
     ]
    }
   ],
   "source": [
    "! $DIR/m2scorer/m2scorer tmp/jfleg_test_Go2_6.0.txt $DIR/m2/jfleg_test.auto.nltk.m2"
   ]
  },
  {
   "cell_type": "code",
   "execution_count": 66,
   "metadata": {
    "collapsed": true
   },
   "outputs": [
    {
     "name": "stdout",
     "output_type": "stream",
     "text": [
      "Precision   : 0.7852\r\n",
      "Recall      : 0.3140\r\n",
      "F_0.5       : 0.6039\r\n"
     ]
    }
   ],
   "source": [
    "! $DIR/m2scorer/m2scorer tmp/jfleg_test_Go3_6.0.txt $DIR/m2/jfleg_test.auto.nltk.m2"
   ]
  },
  {
   "cell_type": "code",
   "execution_count": 67,
   "metadata": {
    "collapsed": true
   },
   "outputs": [
    {
     "name": "stdout",
     "output_type": "stream",
     "text": [
      "Precision   : 0.7695\r\n",
      "Recall      : 0.3091\r\n",
      "F_0.5       : 0.5928\r\n"
     ]
    }
   ],
   "source": [
    "! $DIR/m2scorer/m2scorer tmp/jfleg_test_Go4_6.0.txt $DIR/m2/jfleg_test.auto.nltk.m2"
   ]
  },
  {
   "attachments": {},
   "cell_type": "markdown",
   "metadata": {},
   "source": [
    "### 3.3.4. Discussion\n",
    "\n",
    "The following table shows the GEC performance (i.e. $F_{0.5}$) for different n-gram orders.\n",
    "\n",
    "|N-gram Order|Edit Penalty|CONLL2013|CONLL2014|Edit Penalty|JFLEG_DEV|JFLEG_TEST|\n",
    "|-|-|-|-|-|-|-|\n",
    "|1|2.5|0.1224|0.1800|6.0|0.4617|0.5136|\n",
    "|2|2.5|0.2181|0.2778|6.0|0.5466|0.5939|\n",
    "|3|2.5|0.2540|0.3316|6.0|0.5697|0.6039|\n",
    "|4|2.5|0.2530|0.3245|6.0|0.5654|0.5928|\n",
    "\n",
    "If 1-gram model is used, the sentence probability is determined simply by the probabilities of the individual words, regardless of their order. Under such framework, context-dependent errors such as morphology, articles and prepositions cannot be identified correctly.\n",
    "\n",
    "Increasing the n-gram order would widen the window used to evaluate the word-level probability. For example, morphological errors (e.g. “I eats”) and article errors (e.g. “a apple”) can be identified using the 2-gram model. However, increasing the n-gram order beyond certain point would allow ‘grammatically unrelated’ words to influence the result. The maximum performance would occur when the two effects are balanced. In this task, such balance is achieved for 3-gram."
   ]
  },
  {
   "cell_type": "markdown",
   "metadata": {},
   "source": [
    "## 3.4. Effect of Edit Penalty on GEC Performance"
   ]
  },
  {
   "cell_type": "markdown",
   "metadata": {},
   "source": [
    "### 3.4.1. Method\n",
    "\n",
    "* Fix the n-gram order to $3$\n",
    "* Measure the GEC performance for different values of edit penalty - $1.0, 2.0, 2.5, 3.0, 4.0, 5.0$"
   ]
  },
  {
   "cell_type": "markdown",
   "metadata": {},
   "source": [
    "### 3.4.2. Experiment"
   ]
  },
  {
   "cell_type": "code",
   "execution_count": 68,
   "metadata": {
    "collapsed": true
   },
   "outputs": [
    {
     "name": "stdout",
     "output_type": "stream",
     "text": [
      "conll2013_Go3_1.0\n",
      "conll2013_Go3_2.0\n",
      "conll2013_Go3_2.5\n",
      "conll2013_Go3_3.0\n",
      "conll2013_Go3_4.0\n",
      "conll2013_Go3_5.0\n"
     ]
    }
   ],
   "source": [
    "dataset = 'conll2013'\n",
    "LM = 3\n",
    "pen = [1.0, 2.0, 2.5, 3.0, 4.0, 5.0]\n",
    "\n",
    "for i in range(6):    \n",
    "    file_name = '{0}_Go{1}_{2}'.format(dataset, LM, pen[i])\n",
    "    run_experiment(dataset, LM, pen[i], file_name)\n",
    "    print(file_name)"
   ]
  },
  {
   "cell_type": "code",
   "execution_count": 15,
   "metadata": {
    "collapsed": true
   },
   "outputs": [
    {
     "name": "stdout",
     "output_type": "stream",
     "text": [
      "conll2014.short_Go3_1.0\n",
      "conll2014.short_Go3_2.0\n",
      "conll2014.short_Go3_2.5\n",
      "conll2014.short_Go3_3.0\n",
      "conll2014.short_Go3_4.0\n",
      "conll2014.short_Go3_5.0\n"
     ]
    }
   ],
   "source": [
    "dataset = 'conll2014.short'\n",
    "LM = 3\n",
    "pen = [1.0, 2.0, 2.5, 3.0, 4.0, 5.0]\n",
    "\n",
    "for i in range(6):    \n",
    "    file_name = '{0}_Go{1}_{2}'.format(dataset, LM, pen[i])\n",
    "    run_experiment(dataset, LM, pen[i], file_name)\n",
    "    print(file_name)"
   ]
  },
  {
   "cell_type": "code",
   "execution_count": 29,
   "metadata": {
    "collapsed": true
   },
   "outputs": [
    {
     "name": "stdout",
     "output_type": "stream",
     "text": [
      "jfleg_dev_Go3_4.0\n",
      "jfleg_dev_Go3_5.0\n",
      "jfleg_dev_Go3_6.0\n",
      "jfleg_dev_Go3_7.0\n",
      "jfleg_dev_Go3_8.0\n",
      "jfleg_dev_Go3_9.0\n"
     ]
    }
   ],
   "source": [
    "dataset = 'jfleg_dev'\n",
    "LM = 3\n",
    "pen = [4.0, 5.0, 6.0, 7.0, 8.0, 9.0]\n",
    "\n",
    "for i in range(6):    \n",
    "    file_name = '{0}_Go{1}_{2}'.format(dataset, LM, pen[i])\n",
    "    run_experiment(dataset, LM, pen[i], file_name)\n",
    "    print(file_name)"
   ]
  },
  {
   "cell_type": "code",
   "execution_count": 28,
   "metadata": {
    "collapsed": true
   },
   "outputs": [
    {
     "name": "stdout",
     "output_type": "stream",
     "text": [
      "jfleg_test_Go3_4.0\n",
      "jfleg_test_Go3_5.0\n",
      "jfleg_test_Go3_6.0\n",
      "jfleg_test_Go3_7.0\n",
      "jfleg_test_Go3_8.0\n",
      "jfleg_test_Go3_9.0\n"
     ]
    }
   ],
   "source": [
    "dataset = 'jfleg_test'\n",
    "LM = 3\n",
    "pen = [4.0, 5.0, 6.0, 7.0, 8.0, 9.0]\n",
    "\n",
    "for i in range(6):    \n",
    "    file_name = '{0}_Go{1}_{2}'.format(dataset, LM, pen[i])\n",
    "    run_experiment(dataset, LM, pen[i], file_name)\n",
    "    print(file_name)"
   ]
  },
  {
   "cell_type": "markdown",
   "metadata": {},
   "source": [
    "### 3.4.3. Results\n",
    "\n",
    "* `CONLL2013`"
   ]
  },
  {
   "cell_type": "code",
   "execution_count": 16,
   "metadata": {
    "collapsed": true
   },
   "outputs": [
    {
     "name": "stdout",
     "output_type": "stream",
     "text": [
      "Precision   : 0.2725\r\n",
      "Recall      : 0.1742\r\n",
      "F_0.5       : 0.2449\r\n"
     ]
    }
   ],
   "source": [
    "! $DIR/m2scorer/m2scorer tmp/conll2013_Go3_1.0.txt $DIR/m2/conll2013.auto.nltk.m2"
   ]
  },
  {
   "cell_type": "code",
   "execution_count": 17,
   "metadata": {
    "collapsed": true
   },
   "outputs": [
    {
     "name": "stdout",
     "output_type": "stream",
     "text": [
      "Precision   : 0.3133\r\n",
      "Recall      : 0.1454\r\n",
      "F_0.5       : 0.2545\r\n"
     ]
    }
   ],
   "source": [
    "! $DIR/m2scorer/m2scorer tmp/conll2013_Go3_2.0.txt $DIR/m2/conll2013.auto.nltk.m2"
   ]
  },
  {
   "cell_type": "code",
   "execution_count": 18,
   "metadata": {
    "collapsed": true
   },
   "outputs": [
    {
     "name": "stdout",
     "output_type": "stream",
     "text": [
      "Precision   : 0.3328\r\n",
      "Recall      : 0.1304\r\n",
      "F_0.5       : 0.2540\r\n"
     ]
    }
   ],
   "source": [
    "! $DIR/m2scorer/m2scorer tmp/conll2013_Go3_2.5.txt $DIR/m2/conll2013.auto.nltk.m2"
   ]
  },
  {
   "cell_type": "code",
   "execution_count": 19,
   "metadata": {
    "collapsed": true
   },
   "outputs": [
    {
     "name": "stdout",
     "output_type": "stream",
     "text": [
      "Precision   : 0.3648\r\n",
      "Recall      : 0.1169\r\n",
      "F_0.5       : 0.2562\r\n"
     ]
    }
   ],
   "source": [
    "! $DIR/m2scorer/m2scorer tmp/conll2013_Go3_3.0.txt $DIR/m2/conll2013.auto.nltk.m2"
   ]
  },
  {
   "cell_type": "code",
   "execution_count": 20,
   "metadata": {
    "collapsed": true
   },
   "outputs": [
    {
     "name": "stdout",
     "output_type": "stream",
     "text": [
      "Precision   : 0.4048\r\n",
      "Recall      : 0.0849\r\n",
      "F_0.5       : 0.2308\r\n"
     ]
    }
   ],
   "source": [
    "! $DIR/m2scorer/m2scorer tmp/conll2013_Go3_4.0.txt $DIR/m2/conll2013.auto.nltk.m2"
   ]
  },
  {
   "cell_type": "code",
   "execution_count": 21,
   "metadata": {
    "collapsed": true
   },
   "outputs": [
    {
     "name": "stdout",
     "output_type": "stream",
     "text": [
      "Precision   : 0.4660\r\n",
      "Recall      : 0.0664\r\n",
      "F_0.5       : 0.2115\r\n"
     ]
    }
   ],
   "source": [
    "! $DIR/m2scorer/m2scorer tmp/conll2013_Go3_5.0.txt $DIR/m2/conll2013.auto.nltk.m2"
   ]
  },
  {
   "cell_type": "markdown",
   "metadata": {},
   "source": [
    "* `CONLL2014`"
   ]
  },
  {
   "cell_type": "code",
   "execution_count": 22,
   "metadata": {
    "collapsed": true
   },
   "outputs": [
    {
     "name": "stdout",
     "output_type": "stream",
     "text": [
      "Precision   : 0.3175\r\n",
      "Recall      : 0.2628\r\n",
      "F_0.5       : 0.3048\r\n"
     ]
    }
   ],
   "source": [
    "! awk -f $DIR/replace.conll2014.332-335.awk tmp/conll2014.short_Go3_1.0.txt > tmp/conll2014_Go3_1.0.txt\n",
    "! $DIR/m2scorer/m2scorer tmp/conll2014_Go3_1.0.txt $DIR/m2/conll2014_2.auto.nltk.m2"
   ]
  },
  {
   "cell_type": "code",
   "execution_count": 23,
   "metadata": {
    "collapsed": true
   },
   "outputs": [
    {
     "name": "stdout",
     "output_type": "stream",
     "text": [
      "Precision   : 0.3720\r\n",
      "Recall      : 0.2203\r\n",
      "F_0.5       : 0.3270\r\n"
     ]
    }
   ],
   "source": [
    "! awk -f $DIR/replace.conll2014.332-335.awk tmp/conll2014.short_Go3_2.0.txt > tmp/conll2014_Go3_2.0.txt\n",
    "! $DIR/m2scorer/m2scorer tmp/conll2014_Go3_2.0.txt $DIR/m2/conll2014_2.auto.nltk.m2"
   ]
  },
  {
   "cell_type": "code",
   "execution_count": 24,
   "metadata": {
    "collapsed": true
   },
   "outputs": [
    {
     "name": "stdout",
     "output_type": "stream",
     "text": [
      "Precision   : 0.4010\r\n",
      "Recall      : 0.1959\r\n",
      "F_0.5       : 0.3316\r\n"
     ]
    }
   ],
   "source": [
    "! awk -f $DIR/replace.conll2014.332-335.awk tmp/conll2014.short_Go3_2.5.txt > tmp/conll2014_Go3_2.5.txt\n",
    "! $DIR/m2scorer/m2scorer tmp/conll2014_Go3_2.5.txt $DIR/m2/conll2014_2.auto.nltk.m2"
   ]
  },
  {
   "cell_type": "code",
   "execution_count": 25,
   "metadata": {
    "collapsed": true
   },
   "outputs": [
    {
     "name": "stdout",
     "output_type": "stream",
     "text": [
      "Precision   : 0.4311\r\n",
      "Recall      : 0.1808\r\n",
      "F_0.5       : 0.3376\r\n"
     ]
    }
   ],
   "source": [
    "! awk -f $DIR/replace.conll2014.332-335.awk tmp/conll2014.short_Go3_3.0.txt > tmp/conll2014_Go3_3.0.txt\n",
    "! $DIR/m2scorer/m2scorer tmp/conll2014_Go3_3.0.txt $DIR/m2/conll2014_2.auto.nltk.m2"
   ]
  },
  {
   "cell_type": "code",
   "execution_count": 26,
   "metadata": {
    "collapsed": true
   },
   "outputs": [
    {
     "name": "stdout",
     "output_type": "stream",
     "text": [
      "Precision   : 0.4936\r\n",
      "Recall      : 0.1471\r\n",
      "F_0.5       : 0.3355\r\n"
     ]
    }
   ],
   "source": [
    "! awk -f $DIR/replace.conll2014.332-335.awk tmp/conll2014.short_Go3_4.0.txt > tmp/conll2014_Go3_4.0.txt\n",
    "! $DIR/m2scorer/m2scorer tmp/conll2014_Go3_4.0.txt $DIR/m2/conll2014_2.auto.nltk.m2"
   ]
  },
  {
   "cell_type": "code",
   "execution_count": 27,
   "metadata": {
    "collapsed": true
   },
   "outputs": [
    {
     "name": "stdout",
     "output_type": "stream",
     "text": [
      "Precision   : 0.5785\r\n",
      "Recall      : 0.1225\r\n",
      "F_0.5       : 0.3316\r\n"
     ]
    }
   ],
   "source": [
    "! awk -f $DIR/replace.conll2014.332-335.awk tmp/conll2014.short_Go3_5.0.txt > tmp/conll2014_Go3_5.0.txt\n",
    "! $DIR/m2scorer/m2scorer tmp/conll2014_Go3_5.0.txt $DIR/m2/conll2014_2.auto.nltk.m2"
   ]
  },
  {
   "cell_type": "markdown",
   "metadata": {},
   "source": [
    "* `JFLEG_DEV`"
   ]
  },
  {
   "cell_type": "code",
   "execution_count": 4,
   "metadata": {
    "collapsed": true
   },
   "outputs": [
    {
     "name": "stdout",
     "output_type": "stream",
     "text": [
      "Precision   : 0.6856\r\n",
      "Recall      : 0.3205\r\n",
      "F_0.5       : 0.5584\r\n"
     ]
    }
   ],
   "source": [
    "! $DIR/m2scorer/m2scorer tmp/jfleg_dev_Go3_4.0.txt $DIR/m2/jfleg_dev.auto.nltk.m2"
   ]
  },
  {
   "cell_type": "code",
   "execution_count": 5,
   "metadata": {
    "collapsed": true
   },
   "outputs": [
    {
     "name": "stdout",
     "output_type": "stream",
     "text": [
      "Precision   : 0.7235\r\n",
      "Recall      : 0.3020\r\n",
      "F_0.5       : 0.5656\r\n"
     ]
    }
   ],
   "source": [
    "! $DIR/m2scorer/m2scorer tmp/jfleg_dev_Go3_5.0.txt $DIR/m2/jfleg_dev.auto.nltk.m2"
   ]
  },
  {
   "cell_type": "code",
   "execution_count": 6,
   "metadata": {
    "collapsed": true
   },
   "outputs": [
    {
     "name": "stdout",
     "output_type": "stream",
     "text": [
      "Precision   : 0.7582\r\n",
      "Recall      : 0.2856\r\n",
      "F_0.5       : 0.5697\r\n"
     ]
    }
   ],
   "source": [
    "! $DIR/m2scorer/m2scorer tmp/jfleg_dev_Go3_6.0.txt $DIR/m2/jfleg_dev.auto.nltk.m2"
   ]
  },
  {
   "cell_type": "code",
   "execution_count": 7,
   "metadata": {
    "collapsed": true
   },
   "outputs": [
    {
     "name": "stdout",
     "output_type": "stream",
     "text": [
      "Precision   : 0.7900\r\n",
      "Recall      : 0.2667\r\n",
      "F_0.5       : 0.5673\r\n"
     ]
    }
   ],
   "source": [
    "! $DIR/m2scorer/m2scorer tmp/jfleg_dev_Go3_7.0.txt $DIR/m2/jfleg_dev.auto.nltk.m2"
   ]
  },
  {
   "cell_type": "code",
   "execution_count": 8,
   "metadata": {
    "collapsed": true
   },
   "outputs": [
    {
     "name": "stdout",
     "output_type": "stream",
     "text": [
      "Precision   : 0.8113\r\n",
      "Recall      : 0.2517\r\n",
      "F_0.5       : 0.5615\r\n"
     ]
    }
   ],
   "source": [
    "! $DIR/m2scorer/m2scorer tmp/jfleg_dev_Go3_8.0.txt $DIR/m2/jfleg_dev.auto.nltk.m2"
   ]
  },
  {
   "cell_type": "code",
   "execution_count": 9,
   "metadata": {
    "collapsed": true
   },
   "outputs": [
    {
     "name": "stdout",
     "output_type": "stream",
     "text": [
      "Precision   : 0.8242\r\n",
      "Recall      : 0.2366\r\n",
      "F_0.5       : 0.5507\r\n"
     ]
    }
   ],
   "source": [
    "! $DIR/m2scorer/m2scorer tmp/jfleg_dev_Go3_9.0.txt $DIR/m2/jfleg_dev.auto.nltk.m2"
   ]
  },
  {
   "cell_type": "markdown",
   "metadata": {},
   "source": [
    "* `JFLEG_TEST`"
   ]
  },
  {
   "cell_type": "code",
   "execution_count": 30,
   "metadata": {
    "collapsed": true
   },
   "outputs": [
    {
     "name": "stdout",
     "output_type": "stream",
     "text": [
      "Precision   : 0.7048\r\n",
      "Recall      : 0.3482\r\n",
      "F_0.5       : 0.5850\r\n"
     ]
    }
   ],
   "source": [
    "! $DIR/m2scorer/m2scorer tmp/jfleg_test_Go3_4.0.txt $DIR/m2/jfleg_test.auto.nltk.m2"
   ]
  },
  {
   "cell_type": "code",
   "execution_count": 31,
   "metadata": {
    "collapsed": true
   },
   "outputs": [
    {
     "name": "stdout",
     "output_type": "stream",
     "text": [
      "Precision   : 0.7486\r\n",
      "Recall      : 0.3315\r\n",
      "F_0.5       : 0.5981\r\n"
     ]
    }
   ],
   "source": [
    "! $DIR/m2scorer/m2scorer tmp/jfleg_test_Go3_5.0.txt $DIR/m2/jfleg_test.auto.nltk.m2"
   ]
  },
  {
   "cell_type": "code",
   "execution_count": 32,
   "metadata": {
    "collapsed": true
   },
   "outputs": [
    {
     "name": "stdout",
     "output_type": "stream",
     "text": [
      "Precision   : 0.7852\r\n",
      "Recall      : 0.3140\r\n",
      "F_0.5       : 0.6039\r\n"
     ]
    }
   ],
   "source": [
    "! $DIR/m2scorer/m2scorer tmp/jfleg_test_Go3_6.0.txt $DIR/m2/jfleg_test.auto.nltk.m2"
   ]
  },
  {
   "cell_type": "code",
   "execution_count": 33,
   "metadata": {
    "collapsed": true
   },
   "outputs": [
    {
     "name": "stdout",
     "output_type": "stream",
     "text": [
      "Precision   : 0.8060\r\n",
      "Recall      : 0.2969\r\n",
      "F_0.5       : 0.6001\r\n"
     ]
    }
   ],
   "source": [
    "! $DIR/m2scorer/m2scorer tmp/jfleg_test_Go3_7.0.txt $DIR/m2/jfleg_test.auto.nltk.m2"
   ]
  },
  {
   "cell_type": "code",
   "execution_count": 34,
   "metadata": {
    "collapsed": true
   },
   "outputs": [
    {
     "name": "stdout",
     "output_type": "stream",
     "text": [
      "Precision   : 0.8321\r\n",
      "Recall      : 0.2787\r\n",
      "F_0.5       : 0.5956\r\n"
     ]
    }
   ],
   "source": [
    "! $DIR/m2scorer/m2scorer tmp/jfleg_test_Go3_8.0.txt $DIR/m2/jfleg_test.auto.nltk.m2"
   ]
  },
  {
   "cell_type": "code",
   "execution_count": 35,
   "metadata": {
    "collapsed": true
   },
   "outputs": [
    {
     "name": "stdout",
     "output_type": "stream",
     "text": [
      "Precision   : 0.8458\r\n",
      "Recall      : 0.2655\r\n",
      "F_0.5       : 0.5886\r\n"
     ]
    }
   ],
   "source": [
    "! $DIR/m2scorer/m2scorer tmp/jfleg_test_Go3_9.0.txt $DIR/m2/jfleg_test.auto.nltk.m2"
   ]
  },
  {
   "attachments": {},
   "cell_type": "markdown",
   "metadata": {},
   "source": [
    "### 3.4.4. Discussion\n",
    "\n",
    "The following tables show how the edit penalty influences the GEC performance. As the edit penalty increases, the precision increases while the recall drops. The maximum performance is achieved when the penalty is 3.0 for the CONLL sets and 6.0 for the JFLEG sets.\n",
    "\n",
    "|N-gram Order|Edit Penalty|CONLL2013<br/>Precision|CONLL2013<br/>Recall|CONLL2013<br/>$F_{0.5}$|CONLL2014<br/>Precision|CONLL2014<br/>Recall|CONLL2014<br/>$F_{0.5}$|\n",
    "|-|-|-|-|-|-|-|-|\n",
    "|3|\t1.0|\t0.273|\t0.174|\t0.245|\t0.318|\t0.263|\t0.305|\n",
    "|3|\t2.0|\t0.313|\t0.145|\t0.255|\t0.372|\t0.220|\t0.327|\n",
    "|3|\t2.5|\t0.333|\t0.130|\t0.254|\t0.401|\t0.196|\t0.332|\n",
    "|3|\t3.0|\t0.365|\t0.117|\t0.256|\t0.431|\t0.181|\t0.338|\n",
    "|3|\t4.0|\t0.405|\t0.085|\t0.231|\t0.494|\t0.147|\t0.336|\n",
    "|3|\t5.0|\t0.466|\t0.066|\t0.212|\t0.579|\t0.123|\t0.332|\n",
    "\n",
    "|N-gram Order|Edit Penalty|CONLL2013<br/>Precision|CONLL2013<br/>Recall|CONLL2013<br/>$F_{0.5}$|CONLL2014<br/>Precision|CONLL2014<br/>Recall|CONLL2014<br/>$F_{0.5}$|\n",
    "|-|-|-|-|-|-|-|-|\n",
    "|3|\t4.0|\t0.687|\t0.321|\t0.558|\t0.705|\t0.348|\t0.585|\n",
    "|3|\t5.0|\t0.724|\t0.302|\t0.566|\t0.749|\t0.332|\t0.598|\n",
    "|3|\t6.0|\t0.758|\t0.287|\t0.570|\t0.785|\t0.314|\t0.604|\n",
    "|3|\t7.0|\t0.790|\t0.267|\t0.567|\t0.806|\t0.297|\t0.600|\n",
    "|3|\t8.0|\t0.811|\t0.252|\t0.561|\t0.832|\t0.279|\t0.596|\n",
    "|3|\t9.0|\t0.824|\t0.237|\t0.551|\t0.846|\t0.266|\t0.589|\n",
    "\n",
    "Suppose that the path $p_1$ makes one additional edit to the path $p_0$. Then, $p_1$ would be chosen over $p_0$ if it has lower weight. Such condition can be written as following.\n",
    "\n",
    "\\begin{align}\n",
    "W(p_1) - W(p_0) &= \\lambda \\cdot (\\#_{corr,1}-\\#_{corr,0} )-(\\log⁡ P_1 - \\log⁡ P_0) \\\\\n",
    "&= \\lambda - \\Delta(\\log P) < 0\n",
    "\\end{align}\n",
    "\n",
    "This shows that the change in log probability induced by the edit must be larger than the edit penalty in order for the edit to be made. In other words, the edit penalty works as the ‘threshold’ for the probability increase. If this threshold is big, only the obvious errors would be corrected, resulting in high precision. As the threshold becomes smaller, more edits are made and the recall increases accordingly. The maximum performance is achieved when the two effects are balanced."
   ]
  },
  {
   "cell_type": "markdown",
   "metadata": {},
   "source": [
    "# 4. Extension - Character Neural Language Models"
   ]
  },
  {
   "attachments": {},
   "cell_type": "markdown",
   "metadata": {},
   "source": [
    "## 4.1. Motivation\n",
    "\n",
    "* **Limitation in the Approach with N-Gram LM**\n",
    "\n",
    ">* Every OOV(out-of-vocabulary) word is mapped to `<unk>`.\n",
    ">* Cannot fix the misspelled words properly.\n",
    "\n",
    "* **Neural Language Models**\n",
    "\n",
    ">* Unlike the n-gram LM, NLM does not make conditional independence assumption.\n",
    ">* In other words, the complete history of the word sequence is used to predict the next word.\n",
    "\n",
    ">\\begin{align}\n",
    "\\text{N-gram: } P(w_1^T) &= \\prod_{t=1}^T P(w_t | w_1^{t-1}) \\approx \\prod_{t=1}^T P(w_t | w_{t-n+1}^{t-1}) \\\\\n",
    "\\text{NLM: } P(w_1^T) &= \\prod_{t=1}^T P(w_t | w_1^{t-1}; \\theta)\n",
    "\\end{align}\n",
    "\n",
    ">* **Character Neural Language Model:** evaluates likelihood in **character level**\n",
    ">* $\\rightarrow$ Misspelled words can have non-zero likelihood\n",
    "\n",
    "* **SGNMT** (http://ucam-smt.github.io/sgnmt/html/)\n",
    "\n",
    ">* Decoding framework for neural machine translation \n",
    ">* **Predictor:** forms the search space (e.g. FST predictor & RNNLM predictor)\n",
    ">* **Decoder:** search strategy (default: beam search)\n",
    ">* Using SGNMT, **n-gram score**, **neural LM score** and **edit penalty** can be combined to find the best hypothesis."
   ]
  },
  {
   "cell_type": "markdown",
   "metadata": {},
   "source": [
    "## 4.2. Method"
   ]
  },
  {
   "cell_type": "markdown",
   "metadata": {},
   "source": [
    "### 4.2.1. Word to Character Mappings\n",
    "A transducer that \n",
    "* maps word sequence to character sequence\n",
    "* deletes `<corr>` and `</corr>` \n",
    "* appends `</w>` (word end)\n",
    "* inserts `<s>` and `</s>` (sentence start and end)"
   ]
  },
  {
   "cell_type": "code",
   "execution_count": 4,
   "metadata": {},
   "outputs": [],
   "source": [
    "wtocfst = fst.Fst.read(DIR+'chars/rmcorr_unweighted.char.words2char.fst')\n",
    "chars_ST = fst.SymbolTable.read_text(DIR+'chars/wmap.char.en')"
   ]
  },
  {
   "cell_type": "code",
   "execution_count": 82,
   "metadata": {},
   "outputs": [
    {
     "name": "stdout",
     "output_type": "stream",
     "text": [
      "('<s> W h e n </w> p e o p l e </w> s t a r t </w> a t </w> a g e </w> , </w> m a n y </w> d i s e a s e s </w> w i l l </w> s u r f a c e </w> u p </w> u n - n o t i c i n g </w> . </w> </s>', '96.796051')\n"
     ]
    }
   ],
   "source": [
    "# example of word-to-character mapping\n",
    "eofst = fst.Fst.read('EditAcceptors.2gLM/conll2013/0736.fst')\n",
    "# tmp accepts possible character-level sequence of all the corrections allowed by the edit transducer\n",
    "tmp = fst.compose(fst.compose(mkcostfst(2.5),eofst).project(),wtocfst).project(project_output=True)\n",
    "print utilfst.printstrings( tmp, syms=chars_ST, weight=True)[0] "
   ]
  },
  {
   "cell_type": "markdown",
   "metadata": {},
   "source": [
    "### 4.2.2. Training Data for Chracter-level Neural Language Model\n",
    "\n",
    "Same data that was used to train the n-gram LM (BWC) is used. Character-level data is provided in `DIR/BWC/1b.train.char.en`. In this data, the word-end token `</w>` is used to indicate word boundaries. Pre-trained character-level LMs were given."
   ]
  },
  {
   "cell_type": "code",
   "execution_count": 42,
   "metadata": {
    "scrolled": true
   },
   "outputs": [
    {
     "name": "stdout",
     "output_type": "stream",
     "text": [
      "W h y </w> d o e s </w> e v e r y t h i n g </w> h a v e </w> t o </w> b e c o m e </w> s u c h </w> a </w> b i g </w> i s s u e </w> ? </w>\r\n"
     ]
    }
   ],
   "source": [
    "# Example of a character level text\n",
    "! head $DIR/BWC/1b.train.char.en.syms.100 | awk 'NR==6'"
   ]
  },
  {
   "cell_type": "code",
   "execution_count": 43,
   "metadata": {},
   "outputs": [
    {
     "name": "stdout",
     "output_type": "stream",
     "text": [
      "Why does everything have to become such a big issue ? \r\n"
     ]
    }
   ],
   "source": [
    "# Reconstruction of the word sequence\n",
    "! head $DIR/BWC/1b.train.char.en.syms.100 | awk 'NR==6' | sed 's, ,,g; s,</w>, ,g'"
   ]
  },
  {
   "cell_type": "markdown",
   "metadata": {},
   "source": [
    "## 4.3. Experiment\n",
    "* 5-gram word-level LM & Tensor2Tensor Transformer character-level LM"
   ]
  },
  {
   "cell_type": "markdown",
   "metadata": {},
   "source": [
    "### 4.3.1. Edit Penalty Tuning"
   ]
  },
  {
   "cell_type": "markdown",
   "metadata": {},
   "source": [
    "* **SGNMT Score**\n",
    "\n",
    ">* The score assigned to a character sequence by SGNMT can be expressed as following.\n",
    "\n",
    ">\\begin{align}\n",
    "W(c) &= w_{t2t} \\times P_{t2t}(c) + w_{LM} \\times (\\lambda \\times \\#_{corr}(w') + P_5(w')) \\\\\n",
    "&= w_{t2t} \\times P_{t2t}(c) + w_\\mbox{corr} \\times \\#_\\mbox{corr}(w') + w_{LM} \\times P_5( w') \n",
    "\\end{align}\n",
    "\n",
    ">* $P_{t2t}$: Probability assigned by the character-level neural LM\n",
    ">* $P_5(w')$: Probability assigned by the word-level 5-gram LM\n",
    "\n",
    "* The coefficients were pre-tuned as following.\n",
    "\n",
    ">* For the CONLL sets: $ w_{t2t} = 0.625$, $w_\\mbox{corr} = 1.875$, $w_{LM} = 0.25$\n",
    ">* For the JFLEG sets: $ w_{t2t} = 0.1875$, $w_\\mbox{corr} = 1.5$, $w_{LM} = 0.171875$\n",
    ">* The suitable values for the edit penalty can be inferred as following\n",
    "\n",
    ">$$\\lambda = \\frac{w_\\mbox{corr}}{w_{LM}} \\;\\;\\;\\rightarrow\\;\\;\\; \\lambda_{\\text{CONLL}} = 7.5 \\;\\;\\; \\lambda_{\\text{JFLEG}} = 8.73$$"
   ]
  },
  {
   "cell_type": "markdown",
   "metadata": {},
   "source": [
    "### 4.3.2. Data Preprocessing\n",
    "* Create character WFSAs for SGNMT / edit "
   ]
  },
  {
   "cell_type": "code",
   "execution_count": 7,
   "metadata": {},
   "outputs": [],
   "source": [
    "! mkdir -p EditAcceptors.5gLM.chars/conll2013/\n",
    "idx = 0\n",
    "while True:\n",
    "    idx += 1 \n",
    "    srcfile = 'EditAcceptors.5gLM/conll2013/%04d.fst' % idx\n",
    "    if (not os.path.isfile(srcfile)):\n",
    "        break\n",
    "    tgtfile = 'EditAcceptors.5gLM.chars/conll2013/%04d.fst' % idx\n",
    "    if (not os.path.isfile(tgtfile)):        \n",
    "        eofst = fst.compose(mkcostfst(7.5),fst.Fst.read(srcfile)).project()\n",
    "        tmp = fst.compose(eofst,wtocfst).project(project_output=True) \n",
    "        fst.determinize(tmp.rmepsilon()).minimize().write(tgtfile)"
   ]
  },
  {
   "cell_type": "code",
   "execution_count": 8,
   "metadata": {},
   "outputs": [],
   "source": [
    "! mkdir -p EditAcceptors.5gLM.chars/conll2014.short/\n",
    "idx = 0\n",
    "while True:\n",
    "    idx += 1 \n",
    "    srcfile = 'EditAcceptors.5gLM/conll2014.short/%04d.fst' % idx\n",
    "    if (not os.path.isfile(srcfile)):\n",
    "        break\n",
    "    tgtfile = 'EditAcceptors.5gLM.chars/conll2014.short/%04d.fst' % idx\n",
    "    if (not os.path.isfile(tgtfile)):        \n",
    "        eofst = fst.compose(mkcostfst(7.5),fst.Fst.read(srcfile)).project()\n",
    "        tmp = fst.compose(eofst,wtocfst).project(project_output=True) \n",
    "        fst.determinize(tmp.rmepsilon()).minimize().write(tgtfile)"
   ]
  },
  {
   "cell_type": "code",
   "execution_count": 9,
   "metadata": {},
   "outputs": [],
   "source": [
    "! mkdir -p EditAcceptors.5gLM.chars/jfleg_dev/\n",
    "idx = 0\n",
    "while True:\n",
    "    idx += 1 \n",
    "    srcfile = 'EditAcceptors.5gLM/jfleg_dev/%04d.fst' % idx\n",
    "    if (not os.path.isfile(srcfile)):\n",
    "        break\n",
    "    tgtfile = 'EditAcceptors.5gLM.chars/jfleg_dev/%04d.fst' % idx\n",
    "    if (not os.path.isfile(tgtfile)):        \n",
    "        eofst = fst.compose(mkcostfst(8.73),fst.Fst.read(srcfile)).project()\n",
    "        tmp = fst.compose(eofst,wtocfst).project(project_output=True) \n",
    "        fst.determinize(tmp.rmepsilon()).minimize().write(tgtfile)"
   ]
  },
  {
   "cell_type": "code",
   "execution_count": 10,
   "metadata": {},
   "outputs": [],
   "source": [
    "! mkdir -p EditAcceptors.5gLM.chars/jfleg_test/\n",
    "idx = 0\n",
    "while True:\n",
    "    idx += 1 \n",
    "    srcfile = 'EditAcceptors.5gLM/jfleg_test/%04d.fst' % idx\n",
    "    if (not os.path.isfile(srcfile)):\n",
    "        break\n",
    "    tgtfile = 'EditAcceptors.5gLM.chars/jfleg_test/%04d.fst' % idx\n",
    "    if (not os.path.isfile(tgtfile)):        \n",
    "        eofst = fst.compose(mkcostfst(8.73),fst.Fst.read(srcfile)).project()\n",
    "        tmp = fst.compose(eofst,wtocfst).project(project_output=True) \n",
    "        fst.determinize(tmp.rmepsilon()).minimize().write(tgtfile)"
   ]
  },
  {
   "cell_type": "markdown",
   "metadata": {},
   "source": [
    "### 4.3.3. Running the Experiments\n",
    "\n",
    "* **Configuration File**\n",
    "\n",
    ">* Exaperiment settings were specified through the config file.\n",
    ">* Following is an example (`char.translm_5gfst_4_conll2013.ini`).\n",
    ">* The predictor weights should be set appropriately to the pre-trained values.\n",
    "\n",
    "```\n",
    "verbosity: debug\n",
    "predictors: t2t,fst\n",
    "predictor_weights: 0.625,0.25\n",
    "src_test: /homes/wjb31/MLMI/MLMI3/practical/lm-gec/orig/chars/conll2013.nltk.orig.chars\n",
    "beam: 4\n",
    "indexing_scheme: t2t\n",
    "\n",
    "fst_path: EditAcceptors.5gLM.chars/conll2013/%04d.fst\n",
    "use_fst_weights: true\n",
    "\n",
    "pred_src_vocab_size: 150\n",
    "pred_trg_vocab_size: 150\n",
    "t2t_problem: languagemodel_en_lmgec1b_char\n",
    "\n",
    "t2t_checkpoint_dir: /homes/wjb31/MLMI/MLMI3/practical/lm-gec/chars/t2t_train/languagemodel_en_lmgec1b_char/transformer-transformer_base_v2_large_batch8/average\n",
    "t2t_model: transformer\n",
    "t2t_hparams_set: transformer_base_v2\n",
    "\n",
    "outputs: nbest,text```\n",
    "\n",
    "* **Running the Experiment**\n",
    "\n",
    ">* The experiment, specified using a config file, can be run using a bash file.\n",
    ">* Following is an example (`conll2013.sh`).\n",
    "\n",
    "```\n",
    "#!/bin/bash\n",
    " \n",
    "SGNMTDECODE='/homes/wjb31/src/sgnmt/scripts.sgnmt.14Nov18/fast_decode_on_grid_cpu.sh'\n",
    "CF=/homes/gb585/MLMI3/char.translm_5gfst_4_conll2013.ini\n",
    "$SGNMTDECODE 40 $CF\n",
    "```\n"
   ]
  },
  {
   "cell_type": "markdown",
   "metadata": {},
   "source": [
    "## 4.4. Results"
   ]
  },
  {
   "attachments": {},
   "cell_type": "markdown",
   "metadata": {},
   "source": [
    "|<br/>N-gram Order|<br/>Precision|CONLL2013<br/>Recall|<br/>$F_{0.5}$|<br/>Precision|CONLL2014<br/>Recall|<br/>$F_{0.5}$|<br/>Precision|JFLEG_DEV<br/>Recall|<br/>$F_{0.5}$|<br/>Precision|JFLEG_TEST<br/>Recall|<br/>$F_{0.5}$|\n",
    "|-|-|-|-|-|-|-|-|-|-|-|-|-|\n",
    "|5|0.4152|0.1331|0.2916|0.4870|0.2150|0.3887|0.7473|0.3136|0.5854|0.7664|0.3435|0.6150|\n"
   ]
  },
  {
   "cell_type": "code",
   "execution_count": 4,
   "metadata": {},
   "outputs": [
    {
     "name": "stdout",
     "output_type": "stream",
     "text": [
      "Precision   : 0.4152\r\n",
      "Recall      : 0.1331\r\n",
      "F_0.5       : 0.2916\r\n"
     ]
    }
   ],
   "source": [
    "! $DIR/chars/eval.sh conll2013 output/char.translm_5gfst_4_conll2013/out.text"
   ]
  },
  {
   "cell_type": "code",
   "execution_count": 15,
   "metadata": {},
   "outputs": [
    {
     "name": "stdout",
     "output_type": "stream",
     "text": [
      "Precision   : 0.4870\r\n",
      "Recall      : 0.2150\r\n",
      "F_0.5       : 0.3887\r\n"
     ]
    }
   ],
   "source": [
    "! $DIR/chars/eval.sh conll2014_2 output/char.translm_5gfst_4_conll2014.short/out.text"
   ]
  },
  {
   "cell_type": "code",
   "execution_count": 5,
   "metadata": {},
   "outputs": [
    {
     "name": "stdout",
     "output_type": "stream",
     "text": [
      "Precision   : 0.7473\r\n",
      "Recall      : 0.3136\r\n",
      "F_0.5       : 0.5854\r\n"
     ]
    }
   ],
   "source": [
    "! $DIR/chars/eval.sh jfleg_dev output/char.translm_5gfst_4_jflegdev/out.text"
   ]
  },
  {
   "cell_type": "code",
   "execution_count": 6,
   "metadata": {},
   "outputs": [
    {
     "name": "stdout",
     "output_type": "stream",
     "text": [
      "Precision   : 0.7664\r\n",
      "Recall      : 0.3435\r\n",
      "F_0.5       : 0.6150\r\n"
     ]
    }
   ],
   "source": [
    "! $DIR/chars/eval.sh jfleg_test output/char.translm_5gfst_4_jflegtest/out.text"
   ]
  }
 ],
 "metadata": {
  "kernelspec": {
   "display_name": "Python 2",
   "language": "python",
   "name": "python2"
  },
  "language_info": {
   "codemirror_mode": {
    "name": "ipython",
    "version": 2
   },
   "file_extension": ".py",
   "mimetype": "text/x-python",
   "name": "python",
   "nbconvert_exporter": "python",
   "pygments_lexer": "ipython2",
   "version": "2.7.12"
  }
 },
 "nbformat": 4,
 "nbformat_minor": 2
}
